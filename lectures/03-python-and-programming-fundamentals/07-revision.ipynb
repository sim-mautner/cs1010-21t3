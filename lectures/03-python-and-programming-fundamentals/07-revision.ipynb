{
  "nbformat": 4,
  "nbformat_minor": 0,
  "metadata": {
    "colab": {
      "name": "07-revision.ipynb",
      "provenance": [],
      "authorship_tag": "ABX9TyOx9EUJV/tbE9wFQROAWaqX",
      "include_colab_link": true
    },
    "kernelspec": {
      "name": "python3",
      "display_name": "Python 3"
    },
    "language_info": {
      "name": "python"
    }
  },
  "cells": [
    {
      "cell_type": "markdown",
      "metadata": {
        "id": "view-in-github",
        "colab_type": "text"
      },
      "source": [
        "<a href=\"https://colab.research.google.com/github/sim-mautner/cs1010-21t3/blob/main/lectures/03-python-and-programming-fundamentals/07-revision.ipynb\" target=\"_parent\"><img src=\"https://colab.research.google.com/assets/colab-badge.svg\" alt=\"Open In Colab\"/></a>"
      ]
    },
    {
      "cell_type": "markdown",
      "metadata": {
        "id": "9Kgg1qEzOoS4"
      },
      "source": [
        "### 1 - Restaurant Finder\n",
        "\n",
        "The following dictionary contains some local restaurants. Each restaurant has an indicative price range and a list of dietary options. For the price range, `$` is cheap, `$$` is moderately priced and `$$$` is expensive."
      ]
    },
    {
      "cell_type": "code",
      "metadata": {
        "id": "fSyria58OniF"
      },
      "source": [
        "restaurants = {\n",
        "    \"Billy's Burgers\": {\n",
        "        \"price_range\": \"$\",\n",
        "        \"options\": []\n",
        "    },\n",
        "    \"Harbour Seafood\": {\n",
        "        \"price_range\": \"$$$\",\n",
        "        \"options\": [\"gluten-free\"]\n",
        "    },\n",
        "    \"UNSW Restaurant\": {\n",
        "        \"price_range\": \"$$\",\n",
        "        \"options\": [\"gluten-free\", \"vegetarian\"]\n",
        "    },\n",
        "    \"It's a Thai\": {\n",
        "        \"price_range\": \"$\",\n",
        "        \"options\": [\"vegetarian\"]\n",
        "    }\n",
        "}"
      ],
      "execution_count": 1,
      "outputs": []
    },
    {
      "cell_type": "markdown",
      "metadata": {
        "id": "b7_gnSeEOv0E"
      },
      "source": [
        "Suppose you and a group of friends want to get dinner together, but are unsure what local restaurants meet everyone's requirements. For example, some members of your group can only afford to eat at cheap restaurants while others are vegetarian or eat only gluten-free food.\n",
        "\n",
        "Implement the function `suitable_restaurants(preferences)`, that, given everyone's individual preference, determines all restaurants that meet *all* preferences. See the testing cell below for examples.\n",
        "\n",
        "**NOTE:** You can assume everyone in the group specifies both a maximum price range and a list of dietary requirements."
      ]
    },
    {
      "cell_type": "code",
      "metadata": {
        "id": "ZnhkkTO6OzvS"
      },
      "source": [
        "def suitable_restaurants(restaurants, preferences):\n",
        "    # Step 1: create a list of restaurants which satisfy everyone's financial requirements\n",
        "    # TODO update to check options too\n",
        "\n",
        "    approved_restaurants = []\n",
        "\n",
        "    # Go through each restaurant and check it\n",
        "    for restaurant_name, restaurant_details in restaurants.items():\n",
        "        # Check price against each person\n",
        "        price = restaurant_details['price_range']\n",
        "        options = restaurant_details['options']\n",
        "\n",
        "        # Assume it matches all people\n",
        "        matches = True\n",
        "        for person in preferences:\n",
        "            #print(f\"{restaurant_name}, {price}, {person}\")\n",
        "            # If we find anyone who can't afford it, matches = False\n",
        "            if len(person['maximum_price']) < len(price):\n",
        "                matches = False\n",
        "\n",
        "            # check diet matches for that person\n",
        "            diet = person['diet']\n",
        "            for pref in diet:\n",
        "                if pref not in options:\n",
        "                    matches = False\n",
        "\n",
        "        # Checked all people, if matches == True, then add it to our list\n",
        "        if matches:\n",
        "            approved_restaurants.append(restaurant_name)\n",
        "    \n",
        "    return approved_restaurants\n",
        "\n"
      ],
      "execution_count": 14,
      "outputs": []
    },
    {
      "cell_type": "markdown",
      "metadata": {
        "id": "Kc8QGoOAO2Nn"
      },
      "source": [
        "Use this cell to test your function."
      ]
    },
    {
      "cell_type": "code",
      "metadata": {
        "id": "xVTTHETQO4np"
      },
      "source": [
        "assert suitable_restaurants(restaurants, [\n",
        "    { \"maximum_price\": \"$\", \"diet\": [] }\n",
        "    ]) == [\"Billy's Burgers\", \"It's a Thai\"]\n",
        "assert suitable_restaurants(restaurants, [\n",
        "    { \"maximum_price\": \"$$\", \"diet\": [] }, \n",
        "    { \"maximum_price\": \"$$$\", \"diet\": [\"vegetarian\"] }\n",
        "    ]) == [\"UNSW Restaurant\", \"It's a Thai\"]\n",
        "assert suitable_restaurants(restaurants, [\n",
        "    { \"maximum_price\": \"$\", \"diet\": [\"gluten-free\"] }, \n",
        "    { \"maximum_price\": \"$\", \"diet\": [\"vegetarian\"] }\n",
        "    ]) == []\n",
        "assert suitable_restaurants(restaurants, [\n",
        "    { \"maximum_price\": \"$$$\", \"diet\": [] }, \n",
        "    { \"maximum_price\": \"$$$\", \"diet\": [\"gluten-free\"] }\n",
        "    ]) == [\"Harbour Seafood\", \"UNSW Restaurant\"]\n",
        "assert suitable_restaurants(restaurants, [\n",
        "    { \"maximum_price\": \"$$$\", \"diet\": [\"gluten-free\", \"vegetarian\"] }\n",
        "    ]) == [\"UNSW Restaurant\"]"
      ],
      "execution_count": 15,
      "outputs": []
    }
  ]
}