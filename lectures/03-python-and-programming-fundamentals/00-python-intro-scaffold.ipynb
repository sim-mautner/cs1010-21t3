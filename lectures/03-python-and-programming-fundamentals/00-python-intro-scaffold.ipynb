{
  "nbformat": 4,
  "nbformat_minor": 0,
  "metadata": {
    "colab": {
      "name": "3-python-intro-scaffold.ipynb",
      "provenance": [],
      "collapsed_sections": [
        "DbEnqaUnwfZp",
        "KhmKoARh8t28",
        "vOBvioy3WDO_",
        "CRQgX47vM5nU",
        "6uBUEwM2UaHc",
        "pVufceYcpugu",
        "clMhQF4k6wx-",
        "g-n6ohsr-2Z_",
        "2vG33InB4wPG",
        "RASu1vuRz8Bf",
        "TKpGsue7Mi2z",
        "qyzkVycOp7Cb",
        "o_7e49apRLPS",
        "693LDbk6uCQY",
        "MK7ri_tSt05T",
        "Dty2p3QOyP7V",
        "YkNbABqZcwVC",
        "4KXXnG4tfj35",
        "MZ9ug9b_DNs3",
        "obYBHYlwN0nl"
      ],
      "toc_visible": true,
      "include_colab_link": true
    },
    "kernelspec": {
      "name": "python3",
      "display_name": "Python 3"
    },
    "language_info": {
      "name": "python"
    }
  },
  "cells": [
    {
      "cell_type": "markdown",
      "metadata": {
        "id": "view-in-github",
        "colab_type": "text"
      },
      "source": [
        "<a href=\"https://colab.research.google.com/github/sim-mautner/cs1010-21t3/blob/main/lectures/03-python-and-programming-fundamentals/00-python-intro-scaffold.ipynb\" target=\"_parent\"><img src=\"https://colab.research.google.com/assets/colab-badge.svg\" alt=\"Open In Colab\"/></a>"
      ]
    },
    {
      "cell_type": "markdown",
      "metadata": {
        "id": "johv5jTzr1Vm"
      },
      "source": [
        "> Python Introduction<br>\n",
        "> COMP1010 2021 T3<br>\n",
        "> Week 1-3"
      ]
    },
    {
      "cell_type": "markdown",
      "metadata": {
        "id": "Jg4-Rn-Hozhy"
      },
      "source": [
        "# Introduction to Python, Programming, and Variables"
      ]
    },
    {
      "cell_type": "markdown",
      "metadata": {
        "id": "Xbo0-z1AolkY"
      },
      "source": [
        "## First Python program\n",
        "\n",
        "What is 1 + 1?"
      ]
    },
    {
      "cell_type": "code",
      "metadata": {
        "id": "THwccXjCnnQO"
      },
      "source": [
        ""
      ],
      "execution_count": null,
      "outputs": []
    },
    {
      "cell_type": "markdown",
      "metadata": {
        "id": "B8Jm8OlNnxBO"
      },
      "source": [
        "A shop is 12 metres by 8 metres. Social distancing rules say that there should be no more than 1 person for every 4 square meters. How many people can be in the shop at once?"
      ]
    },
    {
      "cell_type": "code",
      "metadata": {
        "id": "u-YAkdXHorg9"
      },
      "source": [
        ""
      ],
      "execution_count": null,
      "outputs": []
    },
    {
      "cell_type": "markdown",
      "metadata": {
        "id": "gQWg9GNDnyDc"
      },
      "source": [
        "A student has received marks for a course. They got:\n",
        "\n",
        "* 75% in the first assignment, which is worth 20% of the course mark\n",
        "* 80% in the second assignment, which is worth 30% of the course mark\n",
        "* 60% in the final exam, which is worth 50% of the course mark\n",
        "\n",
        "What is their overall course mark?"
      ]
    },
    {
      "cell_type": "code",
      "metadata": {
        "id": "SsxQ76EWosFG"
      },
      "source": [
        ""
      ],
      "execution_count": null,
      "outputs": []
    },
    {
      "cell_type": "markdown",
      "metadata": {
        "id": "MG-14GJOwXUr"
      },
      "source": [
        "## Python on the Forums\n",
        "\n",
        "You can copy blocks of Python code into a forum post, using the <> button."
      ]
    },
    {
      "cell_type": "markdown",
      "metadata": {
        "id": "K8WHDxJqwalo"
      },
      "source": [
        "## Variables\n",
        "\n",
        "* To some extent, **variables** are comparable to the cells on a spreadsheet.\n",
        "* You can also think of them as a box. With a label on it.\n",
        "* We can put a **value** into a variable. And change it as needed."
      ]
    },
    {
      "cell_type": "markdown",
      "metadata": {
        "id": "wXzRcKCDxEmw"
      },
      "source": [
        "Create a variable."
      ]
    },
    {
      "cell_type": "code",
      "metadata": {
        "id": "uE3HprTDwaQq"
      },
      "source": [
        ""
      ],
      "execution_count": null,
      "outputs": []
    },
    {
      "cell_type": "markdown",
      "metadata": {
        "id": "SlpQ9f_3xBy3"
      },
      "source": [
        "Change the value in the variable."
      ]
    },
    {
      "cell_type": "code",
      "metadata": {
        "id": "hcXApHWkxBFt"
      },
      "source": [
        ""
      ],
      "execution_count": null,
      "outputs": []
    },
    {
      "cell_type": "markdown",
      "metadata": {
        "id": "E9h80tMqxAfa"
      },
      "source": [
        "Take the value in the variable, add 1 to it, and store it back into the variable."
      ]
    },
    {
      "cell_type": "code",
      "metadata": {
        "id": "B5zOon5sxSQo"
      },
      "source": [
        ""
      ],
      "execution_count": null,
      "outputs": []
    },
    {
      "cell_type": "markdown",
      "metadata": {
        "id": "xMU9bIVoShPT"
      },
      "source": [
        "See slides for a step by step of what's happening here."
      ]
    },
    {
      "cell_type": "markdown",
      "metadata": {
        "id": "DbEnqaUnwfZp"
      },
      "source": [
        "## Variable Naming\n",
        "\n",
        "See slides on Code Style [here](https://hackmd.io/@sim/Sy1054OFO#/)."
      ]
    },
    {
      "cell_type": "markdown",
      "metadata": {
        "id": "KhmKoARh8t28"
      },
      "source": [
        "## Order Matters\n",
        "\n",
        "* A computer program is a set of instructions.\n",
        "* Like the method of a recipe, the order in which the instructions are given, and executed, matters.\n",
        "\n",
        "Before running the code below, try and guess the value of x at the end of the program."
      ]
    },
    {
      "cell_type": "markdown",
      "metadata": {
        "id": "I5MdZlSL9Wmx"
      },
      "source": [
        "Guess:\n",
        "\n",
        "Actual:"
      ]
    },
    {
      "cell_type": "code",
      "metadata": {
        "id": "91MT0mX19Hfz"
      },
      "source": [
        "x = 0\n",
        "x = x + 1\n",
        "x = 5"
      ],
      "execution_count": null,
      "outputs": []
    },
    {
      "cell_type": "markdown",
      "metadata": {
        "id": "QQh8ziTO9Y9N"
      },
      "source": [
        "Guess:\n",
        "\n",
        "Actual:"
      ]
    },
    {
      "cell_type": "code",
      "metadata": {
        "id": "O-hFzb389Hza"
      },
      "source": [
        "x = 0\n",
        "x = 5\n",
        "x = x + 1"
      ],
      "execution_count": null,
      "outputs": []
    },
    {
      "cell_type": "markdown",
      "metadata": {
        "id": "vOBvioy3WDO_"
      },
      "source": [
        "## Learning Programming - What happens if... ?\n",
        "\n",
        "* A big part of programming is \"trying stuff and seeing what works\".\n",
        "* Ask questions.\n",
        "* Investigate.\n",
        "* Optional: Record your answers in your journal."
      ]
    },
    {
      "cell_type": "markdown",
      "metadata": {
        "id": "deE821kTx16Q"
      },
      "source": [
        "# Strings\n",
        "\n",
        "* A **string** is a sequence of characters.\n",
        "* A **character** is a letter, or space, or piece of punctuation.\n",
        "* Basically, text.\n",
        "* It is held together by quotes."
      ]
    },
    {
      "cell_type": "code",
      "metadata": {
        "id": "yIuLLiVrzDrN"
      },
      "source": [
        ""
      ],
      "execution_count": null,
      "outputs": []
    },
    {
      "cell_type": "markdown",
      "metadata": {
        "id": "g8GMlICtykMa"
      },
      "source": [
        "What happens if we want to have quotes inside our string?"
      ]
    },
    {
      "cell_type": "code",
      "metadata": {
        "id": "422x2l-ByXdy"
      },
      "source": [
        ""
      ],
      "execution_count": null,
      "outputs": []
    },
    {
      "cell_type": "markdown",
      "metadata": {
        "id": "XeeAo1AkznrP"
      },
      "source": [
        "How can we make this work?"
      ]
    },
    {
      "cell_type": "code",
      "metadata": {
        "id": "7Z4XzLw1zpJh"
      },
      "source": [
        ""
      ],
      "execution_count": null,
      "outputs": []
    },
    {
      "cell_type": "markdown",
      "metadata": {
        "id": "P_SG9SiKzSBj"
      },
      "source": [
        "What happens if we try to add strings together?"
      ]
    },
    {
      "cell_type": "code",
      "metadata": {
        "id": "WzVcM1RzzSuX"
      },
      "source": [
        ""
      ],
      "execution_count": null,
      "outputs": []
    },
    {
      "cell_type": "markdown",
      "metadata": {
        "id": "Ns0ewWPwSRJv"
      },
      "source": [
        "What happens if we try to multiply a string by a number?"
      ]
    },
    {
      "cell_type": "code",
      "metadata": {
        "id": "DDvD6n88SWIw"
      },
      "source": [
        ""
      ],
      "execution_count": null,
      "outputs": []
    },
    {
      "cell_type": "markdown",
      "metadata": {
        "id": "B7pFKvdMSkO0"
      },
      "source": [
        "What happens if we try to multiply a string by a string?"
      ]
    },
    {
      "cell_type": "code",
      "metadata": {
        "id": "DNakhfwTSj11"
      },
      "source": [
        ""
      ],
      "execution_count": null,
      "outputs": []
    },
    {
      "cell_type": "markdown",
      "metadata": {
        "id": "l9sSuvhGSwIT"
      },
      "source": [
        "Can we extract individual characters?"
      ]
    },
    {
      "cell_type": "code",
      "metadata": {
        "id": "m_7sBju4TCSO"
      },
      "source": [
        ""
      ],
      "execution_count": null,
      "outputs": []
    },
    {
      "cell_type": "markdown",
      "metadata": {
        "id": "ftNEXaeHUlw5"
      },
      "source": [
        "* Strings are a sequence of characters (or **elements**).\n",
        "* Each character in the sequence has a number, this number is often referred to as the **index**.\n",
        "* When we talk about sequences, each **element** has an **index**.\n",
        "* You can also think of a string as a street with lots of houses.\n",
        "  * The string's name is the name of the street.\n",
        "  * The **index** is the house number.\n",
        "  * The **element** (or character) is who lives there.\n",
        "\n",
        " <img width=\"40%\" src=\"https://i.imgur.com/FuUEFhA.png\" />"
      ]
    },
    {
      "cell_type": "markdown",
      "metadata": {
        "id": "CRQgX47vM5nU"
      },
      "source": [
        "## What is wrong with programmers?\n",
        "\n",
        "<img width=\"40%\" src=\"https://i.imgur.com/NSxLS8D.png\" />\n",
        "\n",
        "Important info:\n",
        "\n",
        "* Programmers start counting from 0\n",
        "* This is a common source of errors for new programmers"
      ]
    },
    {
      "cell_type": "markdown",
      "metadata": {
        "id": "6uBUEwM2UaHc"
      },
      "source": [
        "## Back to Strings"
      ]
    },
    {
      "cell_type": "markdown",
      "metadata": {
        "id": "uasiOS9wUdNL"
      },
      "source": [
        "Can we extract parts of strings?"
      ]
    },
    {
      "cell_type": "code",
      "metadata": {
        "id": "2mMKFhcbUgKb"
      },
      "source": [
        ""
      ],
      "execution_count": null,
      "outputs": []
    },
    {
      "cell_type": "markdown",
      "metadata": {
        "id": "qaBmGTxrUf1r"
      },
      "source": [
        "What happens if we put a negative number in as the index?"
      ]
    },
    {
      "cell_type": "code",
      "metadata": {
        "id": "War6Wm7lV9Wl"
      },
      "source": [
        ""
      ],
      "execution_count": null,
      "outputs": []
    },
    {
      "cell_type": "markdown",
      "metadata": {
        "id": "JzPhzMxp6rAr"
      },
      "source": [
        "Can we get the length of a string?"
      ]
    },
    {
      "cell_type": "code",
      "metadata": {
        "id": "cc5vOO5G6wHz"
      },
      "source": [
        ""
      ],
      "execution_count": null,
      "outputs": []
    },
    {
      "cell_type": "markdown",
      "metadata": {
        "id": "sxobJv-Y8dlW"
      },
      "source": [
        "Can we count the number of e's in a string?"
      ]
    },
    {
      "cell_type": "code",
      "metadata": {
        "id": "8kE89xQQ9fgE"
      },
      "source": [
        ""
      ],
      "execution_count": null,
      "outputs": []
    },
    {
      "cell_type": "markdown",
      "metadata": {
        "id": "26pq6sCa9f1D"
      },
      "source": [
        "Can we replace the the e's with a's?"
      ]
    },
    {
      "cell_type": "code",
      "metadata": {
        "id": "apa0ykn_AKjk"
      },
      "source": [
        ""
      ],
      "execution_count": null,
      "outputs": []
    },
    {
      "cell_type": "markdown",
      "metadata": {
        "id": "pVufceYcpugu"
      },
      "source": [
        "# Functions and Methods"
      ]
    },
    {
      "cell_type": "markdown",
      "metadata": {
        "id": "clMhQF4k6wx-"
      },
      "source": [
        "## Aside: Functions vs Methods\n",
        "\n",
        "Functions:\n",
        "* **len** is one of the **built-in functions** in Python\n",
        "* other built-in functions can be found [here](https://www.w3schools.com/python/python_ref_functions.asp)\n",
        "* to call (use) a function: `function_name(variable)`\n",
        "* functions either display or return a value\n",
        "\n",
        "Methods:\n",
        "* **count** is one of the methods which can be executed on a string in Python\n",
        "* other string methods can be found [here](https://www.w3schools.com/python/python_ref_string.asp)\n",
        "* to call (use) a method: `variable.function_name()` or `variable.function_name(other, parameters, here)`"
      ]
    },
    {
      "cell_type": "markdown",
      "metadata": {
        "id": "g-n6ohsr-2Z_"
      },
      "source": [
        "## Storing the Results of a Function or Method Call"
      ]
    },
    {
      "cell_type": "markdown",
      "metadata": {
        "id": "PjPzefX1_AX4"
      },
      "source": [
        "Can we get the length of a string and store it in a variable?"
      ]
    },
    {
      "cell_type": "code",
      "metadata": {
        "id": "SKlkLvgb_EH_"
      },
      "source": [
        ""
      ],
      "execution_count": null,
      "outputs": []
    },
    {
      "cell_type": "markdown",
      "metadata": {
        "id": "dw3cCmbJ_Ear"
      },
      "source": [
        "Can we count the number of e's in a string and store it in a variable?"
      ]
    },
    {
      "cell_type": "code",
      "metadata": {
        "id": "LBtV3WHX_H-o"
      },
      "source": [
        ""
      ],
      "execution_count": null,
      "outputs": []
    },
    {
      "cell_type": "markdown",
      "metadata": {
        "id": "2vG33InB4wPG"
      },
      "source": [
        "# Printing Literals and Variables\n",
        "\n",
        "* Until now we could only display one thing at the end of each code block.\n",
        "* To display more frequently, we can use the `print()` function.\n",
        "* `print()` is a built-in function, so the \"stuff to print\" goes inside the brackets.\n"
      ]
    },
    {
      "cell_type": "code",
      "metadata": {
        "id": "NyiNJbCQAVE8"
      },
      "source": [
        ""
      ],
      "execution_count": null,
      "outputs": []
    },
    {
      "cell_type": "markdown",
      "metadata": {
        "id": "ULFZC2P1AfCY"
      },
      "source": [
        "# Special Characters\n",
        "\n"
      ]
    },
    {
      "cell_type": "markdown",
      "metadata": {
        "id": "D0qihz2Ru_ba"
      },
      "source": [
        "Strings can contain special characters that either can't be visualised or can't be typed on most keyboards.\n",
        "\n",
        "These include:\n",
        "* The \"newline\" character.\n",
        "  * Indicates that any characters after it should go on a new line.\n",
        "  * Written as \"\\n\"\n",
        "* Characters from alphabets other than the \"latin\" alphabet.\n",
        "* Emoji!\n",
        "  * Written as \"\\N{name of the emoji}\"\n",
        "  * You can look up names [here](https://emojipedia.org)"
      ]
    },
    {
      "cell_type": "markdown",
      "metadata": {
        "id": "1R2lqXZXBDaW"
      },
      "source": [
        "Can we create a string with this box in it?\n",
        "\n",
        "```\n",
        "+-----+\n",
        "|     |\n",
        "|     |\n",
        "|     |\n",
        "+-----+\n",
        "```"
      ]
    },
    {
      "cell_type": "code",
      "metadata": {
        "id": "xzOzW8jQBFPm"
      },
      "source": [
        ""
      ],
      "execution_count": null,
      "outputs": []
    },
    {
      "cell_type": "markdown",
      "metadata": {
        "id": "vuYuvdUB_RdE"
      },
      "source": [
        "What if we actually want to print \"\\n\"?"
      ]
    },
    {
      "cell_type": "code",
      "metadata": {
        "id": "lb51dsvu_XnK"
      },
      "source": [
        ""
      ],
      "execution_count": null,
      "outputs": []
    },
    {
      "cell_type": "markdown",
      "metadata": {
        "id": "gC5bW8iN_alR"
      },
      "source": [
        "Can we take a string with spaces between the words, and change it so that each word appears on a different line?"
      ]
    },
    {
      "cell_type": "code",
      "metadata": {
        "id": "uOvJsRlMAWlj"
      },
      "source": [
        ""
      ],
      "execution_count": null,
      "outputs": []
    },
    {
      "cell_type": "markdown",
      "metadata": {
        "id": "1z-ORJW1_kIp"
      },
      "source": [
        "Can we change it back?"
      ]
    },
    {
      "cell_type": "code",
      "metadata": {
        "id": "9zyVMm9kAXHk"
      },
      "source": [
        ""
      ],
      "execution_count": null,
      "outputs": []
    },
    {
      "cell_type": "markdown",
      "metadata": {
        "id": "lWLq3uupBIUe"
      },
      "source": [
        "Can we describe 2020 with Emoji?"
      ]
    },
    {
      "cell_type": "code",
      "metadata": {
        "id": "_OtIm8NRI1AY"
      },
      "source": [
        ""
      ],
      "execution_count": null,
      "outputs": []
    },
    {
      "cell_type": "markdown",
      "metadata": {
        "id": "RASu1vuRz8Bf"
      },
      "source": [
        "# Data Types\n",
        "\n",
        "* Each variable has a **data type**.\n",
        "* So far we have looked at **ints** (numbers) and **strings** (text).\n",
        "* The type of the variable determines its behaviour. (Eg the difference between adding two ints together, or adding two strings together.)\n",
        "* A list of data types in Python can be found here: [https://www.w3schools.com/python/python_datatypes.asp](https://www.w3schools.com/python/python_datatypes.asp)"
      ]
    },
    {
      "cell_type": "markdown",
      "metadata": {
        "id": "oFgEchGk0inf"
      },
      "source": [
        "Make some variables and display their types."
      ]
    },
    {
      "cell_type": "code",
      "metadata": {
        "id": "esPqHWBi0nDF"
      },
      "source": [
        ""
      ],
      "execution_count": null,
      "outputs": []
    },
    {
      "cell_type": "markdown",
      "metadata": {
        "id": "vzOFenKi1LZs"
      },
      "source": [
        "What happens when we try to add two values together, when they are of different types?"
      ]
    },
    {
      "cell_type": "code",
      "metadata": {
        "id": "1MObB3dB1K91"
      },
      "source": [
        ""
      ],
      "execution_count": null,
      "outputs": []
    },
    {
      "cell_type": "markdown",
      "metadata": {
        "id": "QCJuEgL01csp"
      },
      "source": [
        "Can we change the type of a variable?"
      ]
    },
    {
      "cell_type": "code",
      "metadata": {
        "id": "LmGWAsqT2OXj"
      },
      "source": [
        ""
      ],
      "execution_count": null,
      "outputs": []
    },
    {
      "cell_type": "markdown",
      "metadata": {
        "id": "uHWmiGBz385u"
      },
      "source": [
        "Changing the type of a variable is called **casting**. We can cast variables to different types, as long as they can be converted.\n",
        "\n",
        "What happens if we try to cast a variable to a type it is incompatible with?"
      ]
    },
    {
      "cell_type": "code",
      "metadata": {
        "id": "t54J_n2M4OJR"
      },
      "source": [
        ""
      ],
      "execution_count": null,
      "outputs": []
    },
    {
      "cell_type": "markdown",
      "metadata": {
        "id": "6BnpalugR263"
      },
      "source": [
        "Can you combine strings and variables of different data types in a `print()` statement without casting?"
      ]
    },
    {
      "cell_type": "code",
      "metadata": {
        "id": "PVNiAWCJSA1F"
      },
      "source": [
        ""
      ],
      "execution_count": null,
      "outputs": []
    },
    {
      "cell_type": "markdown",
      "metadata": {
        "id": "IilEe6SRSsY4"
      },
      "source": [
        "More information about f-strings can be found [here](https://realpython.com/python-f-strings/#f-strings-a-new-and-improved-way-to-format-strings-in-python)."
      ]
    },
    {
      "cell_type": "markdown",
      "metadata": {
        "id": "TKpGsue7Mi2z"
      },
      "source": [
        "# Modulo Operator\n",
        "\n",
        "So far we have covered +, -, *, / with integers.\n",
        "\n",
        "The modulo operator, %, returns the remainder when we divide by a number."
      ]
    },
    {
      "cell_type": "code",
      "metadata": {
        "id": "4xeXpFrqNDqE"
      },
      "source": [
        ""
      ],
      "execution_count": null,
      "outputs": []
    },
    {
      "cell_type": "markdown",
      "metadata": {
        "id": "qyzkVycOp7Cb"
      },
      "source": [
        "# Data Types: Boolean\n",
        "\n",
        "* Include `True` and `False` values."
      ]
    },
    {
      "cell_type": "code",
      "metadata": {
        "id": "-X5GArZsYp8q"
      },
      "source": [
        ""
      ],
      "execution_count": null,
      "outputs": []
    },
    {
      "cell_type": "markdown",
      "metadata": {
        "id": "0368ktSurcTf"
      },
      "source": [
        "# Conditionals"
      ]
    },
    {
      "cell_type": "markdown",
      "metadata": {
        "id": "o_7e49apRLPS"
      },
      "source": [
        "## if\n",
        "\n",
        "```\n",
        "if condition:\n",
        "  code_to_execute_if_condition_is_true\n",
        "```\n",
        "\n",
        "\n",
        "\n",
        "What happens if the condition is `True`?"
      ]
    },
    {
      "cell_type": "code",
      "metadata": {
        "id": "ujDJWU7hrJTI"
      },
      "source": [
        ""
      ],
      "execution_count": null,
      "outputs": []
    },
    {
      "cell_type": "markdown",
      "metadata": {
        "id": "Ls5OhTbhr3gN"
      },
      "source": [
        "What happens if the condition is `False`?"
      ]
    },
    {
      "cell_type": "code",
      "metadata": {
        "id": "-3JVINAbr6YR"
      },
      "source": [
        ""
      ],
      "execution_count": null,
      "outputs": []
    },
    {
      "cell_type": "markdown",
      "metadata": {
        "id": "0rLJlS15s1TQ"
      },
      "source": [
        "Can we have multiple lines of code to execute?"
      ]
    },
    {
      "cell_type": "code",
      "metadata": {
        "id": "5GVhji6AtRmj"
      },
      "source": [
        ""
      ],
      "execution_count": null,
      "outputs": []
    },
    {
      "cell_type": "markdown",
      "metadata": {
        "id": "qSDrVBLHr8tU"
      },
      "source": [
        "Does the indentation matter?"
      ]
    },
    {
      "cell_type": "code",
      "metadata": {
        "id": "x6kpZjREtRW-"
      },
      "source": [
        ""
      ],
      "execution_count": null,
      "outputs": []
    },
    {
      "cell_type": "markdown",
      "metadata": {
        "id": "693LDbk6uCQY"
      },
      "source": [
        "## Testing Variables and Creating Conditions"
      ]
    },
    {
      "cell_type": "markdown",
      "metadata": {
        "id": "nt-AoOUruhyK"
      },
      "source": [
        "Can we create a variable with a boolean to test?\n",
        "\n",
        "* `not`"
      ]
    },
    {
      "cell_type": "code",
      "metadata": {
        "colab": {
          "base_uri": "https://localhost:8080/"
        },
        "id": "TTS8JF7uuoZp",
        "outputId": "5b1aaaed-906d-4f20-974e-304d8774980b"
      },
      "source": [
        ""
      ],
      "execution_count": null,
      "outputs": [
        {
          "output_type": "stream",
          "text": [
            "here\n"
          ],
          "name": "stdout"
        }
      ]
    },
    {
      "cell_type": "markdown",
      "metadata": {
        "id": "A-DTcDRpuoqG"
      },
      "source": [
        "Can we create an integer to test?\n",
        "\n",
        "* ==\n",
        "* !=\n",
        "* \\>\n",
        "* <\n",
        "* <=\n",
        "* \\>="
      ]
    },
    {
      "cell_type": "code",
      "metadata": {
        "id": "Kci8FX_juhX9"
      },
      "source": [
        ""
      ],
      "execution_count": null,
      "outputs": []
    },
    {
      "cell_type": "markdown",
      "metadata": {
        "id": "hh8PwWRmwLYH"
      },
      "source": [
        "Can we create a string to test?\n",
        "\n",
        "* ==\n",
        "* !="
      ]
    },
    {
      "cell_type": "code",
      "metadata": {
        "id": "bzgFtvsWwN4H"
      },
      "source": [
        "\n"
      ],
      "execution_count": null,
      "outputs": []
    },
    {
      "cell_type": "markdown",
      "metadata": {
        "id": "vL6uZVZjwt6d"
      },
      "source": [
        "What happens if we use > and < on strings?"
      ]
    },
    {
      "cell_type": "code",
      "metadata": {
        "id": "IO7URFOJww7b"
      },
      "source": [
        ""
      ],
      "execution_count": null,
      "outputs": []
    },
    {
      "cell_type": "markdown",
      "metadata": {
        "id": "MK7ri_tSt05T"
      },
      "source": [
        "## else\n",
        "\n",
        "```\n",
        "if condition:\n",
        "  code_if_true\n",
        "else:\n",
        "  code_if_false\n",
        "```\n",
        "\n"
      ]
    },
    {
      "cell_type": "markdown",
      "metadata": {
        "id": "Dty2p3QOyP7V"
      },
      "source": [
        "## elif\n",
        "\n",
        "```\n",
        "if condition:\n",
        "  code_if_true\n",
        "elif condition_2:\n",
        "  code_if_condition1_false_and_condition2_true \n",
        "else:\n",
        "  code_if_false\n",
        "```\n",
        "\n",
        "* You must have exactly one `if`.\n",
        "* You may have 0 or more (as many as you'd like) `elif`.\n",
        "* You may have 0 or 1 `else`.\n",
        "* The order matters. Both for `if`, `elif`, `else` and for the order of the `elif`s."
      ]
    },
    {
      "cell_type": "markdown",
      "metadata": {
        "id": "335MMrGxBpup"
      },
      "source": [
        "<a name='eg_ready_to_lecture_cell'></a>\n",
        "## Example: Getting Ready to Lecture Online\n",
        "\n",
        "Lecturing from home means that I have my bed in the background of my webcam. This means that each day, before I lecture, I prefer to make my bed.\n",
        "\n",
        "(a) Write some code which:\n",
        "1. Declares a boolean `bed_made` to be `True` or `False`.\n",
        "2. Depending on the value of `bed_made`, display \"Go make your bed.\" or \"Ready to lecture.\""
      ]
    },
    {
      "cell_type": "code",
      "metadata": {
        "id": "2kooY55xCCv4"
      },
      "source": [
        ""
      ],
      "execution_count": null,
      "outputs": []
    },
    {
      "cell_type": "markdown",
      "metadata": {
        "id": "-7TjfhgZCDD5"
      },
      "source": [
        "(Continuing from previous question...)\n",
        "\n",
        "(b) Some days, I'm running late and I don't have time to make my bed, and end up giving lectures even if my bed is still unmade.\n",
        "\n",
        "Copy the code from the previous question and:\n",
        "1. Add a boolean `on_time` to be `True` or `False`.\n",
        "2. Depending on the values of `bed_made` and `on_time` display \"Go make your bed.\", \"Ready to lecture.\" or \"No time to make your bed. Go lecture anyway.\""
      ]
    },
    {
      "cell_type": "code",
      "metadata": {
        "id": "sI6nSImnCh9I"
      },
      "source": [
        ""
      ],
      "execution_count": null,
      "outputs": []
    },
    {
      "cell_type": "markdown",
      "metadata": {
        "id": "bvqyuwoDCiU5"
      },
      "source": [
        "(c) Can you implement the above code in a different way? (Enter at least 4 different ways of implementing the code.)\n",
        "\n"
      ]
    },
    {
      "cell_type": "code",
      "metadata": {
        "id": "3EUy369TClD4"
      },
      "source": [
        ""
      ],
      "execution_count": null,
      "outputs": []
    },
    {
      "cell_type": "markdown",
      "metadata": {
        "id": "BnwzKHfrEXIh"
      },
      "source": [
        "**A note about plagiarism in writing computer programs.**"
      ]
    },
    {
      "cell_type": "markdown",
      "metadata": {
        "id": "QTO1tK_dCzWE"
      },
      "source": [
        "(d) Implement the above code, but take into consideration that I also like to have a water bottle on my desk before I start lecturing.\n",
        "\n",
        "The outputs are now:\n",
        "* No time to get ready. Start lecturing now.\n",
        "* Ready to lecture.\n",
        "* Get your water bottle.\n",
        "* Go make your bed."
      ]
    },
    {
      "cell_type": "code",
      "metadata": {
        "id": "bdpdieZYrAIz"
      },
      "source": [
        ""
      ],
      "execution_count": null,
      "outputs": []
    },
    {
      "cell_type": "markdown",
      "metadata": {
        "id": "Dq6fWE4oY9_P"
      },
      "source": [
        "# User Text Input\n",
        "\n",
        "* Get input from the user:\n",
        "`input()`\n",
        "* Put a prompt telling the user what they should be entering:\n",
        "`input(prompt)`\n",
        "* Save what the user inputs:\n",
        "`variable = input()`"
      ]
    },
    {
      "cell_type": "code",
      "metadata": {
        "id": "z-8NF2xdZCub"
      },
      "source": [
        ""
      ],
      "execution_count": null,
      "outputs": []
    },
    {
      "cell_type": "code",
      "metadata": {
        "id": "EAwF-3-DAaQo"
      },
      "source": [
        ""
      ],
      "execution_count": null,
      "outputs": []
    },
    {
      "cell_type": "markdown",
      "metadata": {
        "id": "fvKZYreWZcrQ"
      },
      "source": [
        "Write some code which asks the user for their name. If they enter \"Sim\", then say \"Hello Sim\". If they enter any other name, say \"Goodbye\"."
      ]
    },
    {
      "cell_type": "code",
      "metadata": {
        "id": "50fqNw9xBBGI"
      },
      "source": [
        ""
      ],
      "execution_count": null,
      "outputs": []
    },
    {
      "cell_type": "markdown",
      "metadata": {
        "id": "mBrpzl21BBZ_"
      },
      "source": [
        "Write some code which asks the user for their name. If they enter one word (no spaces) display \"Hello \\<name\\>\". If they enter more than one word, display \"Goodbye\"."
      ]
    },
    {
      "cell_type": "code",
      "metadata": {
        "id": "I1aiz-OUBQqO"
      },
      "source": [
        ""
      ],
      "execution_count": null,
      "outputs": []
    },
    {
      "cell_type": "markdown",
      "metadata": {
        "id": "Gle9bA2XwlK-"
      },
      "source": [
        "<a name='eg_password_evaluator_cell'></a>\n",
        "Example: Password Evaluator\n",
        "\n",
        "Write some code which asks the user to suggest a password, and then displays:\n",
        "* \"Strong\" if the password is 12 or more characters, and contains both upper and lower case characters\n",
        "* \"Weak\" if the password satisfies only one of the above conditions\n",
        "* \"Very weak\" if the password satisfies neither of the above conditions."
      ]
    },
    {
      "cell_type": "code",
      "metadata": {
        "id": "59M-Wcf1wrVJ"
      },
      "source": [
        ""
      ],
      "execution_count": null,
      "outputs": []
    },
    {
      "cell_type": "markdown",
      "metadata": {
        "id": "YkNbABqZcwVC"
      },
      "source": [
        "# Loops"
      ]
    },
    {
      "cell_type": "markdown",
      "metadata": {
        "id": "-4TeqaL8CRM9"
      },
      "source": [
        "## While Loops\n",
        "\n",
        "```\n",
        "while condition:\n",
        "  code_to_execute_while_condition_is_true\n",
        "```\n",
        "\n",
        "Following on from the [password evaluator](#eg_password_evaluator_cell) example, what happens if the user enters a password which doesn't satisfy the requirements? Can we ask them to keep entering passwords until they choose a \"strong\" password?"
      ]
    },
    {
      "cell_type": "code",
      "metadata": {
        "id": "GEpm1mgveFOJ"
      },
      "source": [
        ""
      ],
      "execution_count": null,
      "outputs": []
    },
    {
      "cell_type": "markdown",
      "metadata": {
        "id": "qK27eu5W59Xl"
      },
      "source": [
        "Is there a better way to do this?\n",
        "\n",
        "In short, we want to keep doing the same thing over and over again, until a condition is met.\n",
        "\n",
        "> Demo:\n",
        "> * Control flow in loops in general\n",
        "> * Control flow in this example\n",
        "\n"
      ]
    },
    {
      "cell_type": "code",
      "metadata": {
        "id": "WN_9P0QF6G3T"
      },
      "source": [
        ""
      ],
      "execution_count": null,
      "outputs": []
    },
    {
      "cell_type": "markdown",
      "metadata": {
        "id": "4KXXnG4tfj35"
      },
      "source": [
        "<a name='eg_square_numbers_cell'></a>\n",
        "### Example: Square Numbers\n",
        "\n",
        "> Demo:\n",
        "> * What are square numbers? How do we calculate them?\n",
        "> * How do we write this code?\n",
        "\n",
        "Write some code which takes in a number from the user, and prints out the numbers from 1 up to that number, and the squares of those numbers.\n",
        "\n",
        "```\n",
        "Enter a number: 5\n",
        "\n",
        "1 1\n",
        "2 4\n",
        "3 9\n",
        "4 16\n",
        "```"
      ]
    },
    {
      "cell_type": "code",
      "metadata": {
        "id": "rWytniVuDNXz"
      },
      "source": [
        ""
      ],
      "execution_count": null,
      "outputs": []
    },
    {
      "cell_type": "markdown",
      "metadata": {
        "id": "MZ9ug9b_DNs3"
      },
      "source": [
        "<a name='eg_triangular_numbers_cell'></a>\n",
        "### Example: Triangular Numbers\n",
        "\n",
        "> Demo:\n",
        "> * What are triangular numbers? How do we calculate them? (This is more of an aside.)\n",
        "> * How do we write this code?\n",
        "\n",
        "Write some code which takes in a number from the user, and prints out the sum of the numbers from 1 up to and including that number. (ie 3 --> 1+2+3 = 6)\n",
        "\n",
        "```\n",
        "Enter a number: 3\n",
        "\n",
        "6\n",
        "```"
      ]
    },
    {
      "cell_type": "code",
      "metadata": {
        "id": "xc7A6Pp9JApm"
      },
      "source": [
        ""
      ],
      "execution_count": null,
      "outputs": []
    },
    {
      "cell_type": "markdown",
      "metadata": {
        "id": "32MS8qvuDklj"
      },
      "source": [
        "## For Loops\n",
        "\n",
        "```\n",
        "for ... in ...:\n",
        "  code_to_execute_on_each_value\n",
        "```"
      ]
    },
    {
      "cell_type": "markdown",
      "metadata": {
        "id": "o2g7udMkDpMd"
      },
      "source": [
        "Redo the [square numbers](#eg_square_numbers_cell) example and the [triangular numbers](#eg_triangular_numbers_cell) example using for loops instead of while loops."
      ]
    },
    {
      "cell_type": "code",
      "metadata": {
        "id": "LxAjyoYFDv3z"
      },
      "source": [
        ""
      ],
      "execution_count": null,
      "outputs": []
    },
    {
      "cell_type": "code",
      "metadata": {
        "id": "H2AVVV3ZDwKE"
      },
      "source": [
        ""
      ],
      "execution_count": null,
      "outputs": []
    },
    {
      "cell_type": "markdown",
      "metadata": {
        "id": "obYBHYlwN0nl"
      },
      "source": [
        "### Example: Strings - one letter at a time.\n",
        "\n",
        "Write some code which prints out the letters of a string one at a time."
      ]
    },
    {
      "cell_type": "code",
      "metadata": {
        "id": "ftJ3bHMyOLk-"
      },
      "source": [
        "# Using a counter to access individual elements (while loop or for loop)"
      ],
      "execution_count": null,
      "outputs": []
    },
    {
      "cell_type": "code",
      "metadata": {
        "id": "jq4lduglOOQt"
      },
      "source": [
        "# Using the features of a string as an iterator (for loop)"
      ],
      "execution_count": null,
      "outputs": []
    },
    {
      "cell_type": "markdown",
      "metadata": {
        "id": "Dsm5N-CGLh7S"
      },
      "source": [
        "# Bringing it all together\n",
        "\n",
        "Example: Guess my number\n",
        "\n",
        "Write a program (piece of python code) which:\n",
        "1. Asks the user to choose a number between 1 and 100 (but not enter it).\n",
        "2. The program then guesses the user's number, and asks if the user's number is higher or lower than their guess.\n",
        "3. The user then enters `H` for higher, `L` for lower or `C` for correct, depending on whether or not the program has guessed their number.\n",
        "4. The program keeps repeating steps 2 and 3 until it manages to guess the number."
      ]
    },
    {
      "cell_type": "code",
      "metadata": {
        "id": "uXw-qkGuRAdp"
      },
      "source": [
        ""
      ],
      "execution_count": null,
      "outputs": []
    },
    {
      "cell_type": "markdown",
      "metadata": {
        "id": "k9cMFgGkuuDK"
      },
      "source": [
        "# Functions"
      ]
    },
    {
      "cell_type": "markdown",
      "metadata": {
        "id": "6_6ffqy8OolO"
      },
      "source": [
        "Purposes of functions:\n",
        "\n",
        "* Re-use code (\"Every line of code you don't write is bug free.\")\n",
        "* Testing\n",
        "* Abstraction / readability\n",
        "* Re-use code with different parameters\n",
        "\n",
        "(Point 1 and point 4 are different as it's often useful to use functions to not repeat ourselves even if (especially when?) the code is identical and doesn't require parameters to adapt it.)\n",
        "\n"
      ]
    },
    {
      "cell_type": "markdown",
      "metadata": {
        "id": "MZIdfUIcgHcs"
      },
      "source": [
        "Do you remember this box?\n",
        "\n",
        "Can we create a string with this box in it?\n",
        "\n",
        "```\n",
        "+-----+\n",
        "|     |\n",
        "|     |\n",
        "|     |\n",
        "+-----+\n",
        "```"
      ]
    },
    {
      "cell_type": "code",
      "metadata": {
        "id": "-CsBtFSHgWXm"
      },
      "source": [
        ""
      ],
      "execution_count": null,
      "outputs": []
    },
    {
      "cell_type": "markdown",
      "metadata": {
        "id": "Hci2yRlggWua"
      },
      "source": [
        "Can we create this box too?\n",
        "\n",
        "```\n",
        "+----------+\n",
        "|          |\n",
        "|          |\n",
        "|          |\n",
        "+----------+\n",
        "```"
      ]
    },
    {
      "cell_type": "code",
      "metadata": {
        "id": "GwxjSEeygg4m"
      },
      "source": [
        ""
      ],
      "execution_count": null,
      "outputs": []
    },
    {
      "cell_type": "markdown",
      "metadata": {
        "id": "MEPnCq72ghPn"
      },
      "source": [
        "And this one too?\n",
        "\n",
        "```\n",
        "+----------+\n",
        "|          |\n",
        "+----------+\n",
        "```"
      ]
    },
    {
      "cell_type": "markdown",
      "metadata": {
        "id": "xyPLKx0JgqcX"
      },
      "source": [
        "By looking at what the code in each situation has in common, we can write a function which will work for any size box."
      ]
    },
    {
      "cell_type": "code",
      "metadata": {
        "id": "2-5_gU7zgxW4"
      },
      "source": [
        ""
      ],
      "execution_count": null,
      "outputs": []
    },
    {
      "cell_type": "markdown",
      "metadata": {
        "id": "ODCWq1Ydhhha"
      },
      "source": [
        "## Returning values from functions"
      ]
    },
    {
      "cell_type": "markdown",
      "metadata": {
        "id": "AQ9aOqsThOKE"
      },
      "source": [
        "Write a function `my_len()` which takes in a string as a parameter and returns the length of the string. (You can do this using the `len()` function, but the exercise is to do it without it.)"
      ]
    },
    {
      "cell_type": "code",
      "metadata": {
        "id": "x5ZGVZ1chPok"
      },
      "source": [
        ""
      ],
      "execution_count": null,
      "outputs": []
    },
    {
      "cell_type": "markdown",
      "metadata": {
        "id": "m0tGIH5uhP6B"
      },
      "source": [
        "Write your own function `my_count()` which takes in a string and a character and returns the number of times that character occurs in that string."
      ]
    },
    {
      "cell_type": "code",
      "metadata": {
        "id": "qEUo2lyIh7-l"
      },
      "source": [
        ""
      ],
      "execution_count": null,
      "outputs": []
    },
    {
      "cell_type": "markdown",
      "metadata": {
        "id": "8OTO2hrWSFOl"
      },
      "source": [
        "## Functions for Readability\n",
        "\n",
        "Re-write our code from the [Password Evaluator](#eg_password_evaluator_cell) question to use functions to make the code more readable."
      ]
    },
    {
      "cell_type": "code",
      "metadata": {
        "id": "9PDD_lHbSWoJ"
      },
      "source": [
        ""
      ],
      "execution_count": null,
      "outputs": []
    },
    {
      "cell_type": "markdown",
      "metadata": {
        "id": "8MmJvOZTi3PV"
      },
      "source": [
        "# Testing (an introduction)\n",
        "\n",
        "When testing if a piece of code works, we need to check all the different pathways our execution could take, and that each one produces the expected result.\n",
        "\n",
        "`assert(condition)`"
      ]
    },
    {
      "cell_type": "markdown",
      "metadata": {
        "id": "kP7wjZyvji7H"
      },
      "source": [
        "What does it look like when an `assert` passes?"
      ]
    },
    {
      "cell_type": "code",
      "metadata": {
        "id": "kWMcPKYAjl6B"
      },
      "source": [
        ""
      ],
      "execution_count": null,
      "outputs": []
    },
    {
      "cell_type": "markdown",
      "metadata": {
        "id": "P29RUnTkjmNU"
      },
      "source": [
        "What does it look like when an `assert` fails?"
      ]
    },
    {
      "cell_type": "markdown",
      "metadata": {
        "id": "6zQkNeE_jKW2"
      },
      "source": [
        "Write some tests for your my_len() function you wrote above."
      ]
    },
    {
      "cell_type": "code",
      "metadata": {
        "id": "PaPLzML0jHLH"
      },
      "source": [
        ""
      ],
      "execution_count": null,
      "outputs": []
    },
    {
      "cell_type": "markdown",
      "metadata": {
        "id": "9eLH9VV1kS_Z"
      },
      "source": [
        "## Test-Driven Development (TDD)"
      ]
    },
    {
      "cell_type": "markdown",
      "metadata": {
        "id": "L0ryHmlfkDPY"
      },
      "source": [
        "Test-Driven Development (TDD) is an approach to programming whereby the requirements or specification of the project are converted into test cases before the software is written."
      ]
    },
    {
      "cell_type": "markdown",
      "metadata": {
        "id": "b0dIARVrj972"
      },
      "source": [
        "<a name='eg_months_cell'></a>\n",
        "### Example: Months of the Year\n",
        "\n",
        "Consider a function which takes in a number and returns a string with the month of the year that that number corresponds to.\n",
        "\n",
        "1. What cases need to be considered?\n",
        "2. Write some tests which cover these cases.\n",
        "3. Implement the function."
      ]
    },
    {
      "cell_type": "markdown",
      "metadata": {
        "id": "r7z_xzGM3LwB"
      },
      "source": [
        ""
      ]
    },
    {
      "cell_type": "code",
      "metadata": {
        "id": "DWDwbR85lX1t"
      },
      "source": [
        ""
      ],
      "execution_count": null,
      "outputs": []
    },
    {
      "cell_type": "code",
      "metadata": {
        "id": "uBQZ-otplXhV"
      },
      "source": [
        ""
      ],
      "execution_count": null,
      "outputs": []
    },
    {
      "cell_type": "markdown",
      "metadata": {
        "id": "w4PYn6-vx3if"
      },
      "source": [
        "### Example: Ready to Lecture (part 2)\n",
        "\n",
        "Consider the [Getting Ready to Lecture](#eg_ready_to_lecture_cell) example.\n",
        "\n",
        "1. Write tests to check whether or not your code was correct.\n",
        "2. Convert your code into a function which takes in booleans and returns a string.\n",
        "3. Run your tests on your code.\n",
        "\n",
        "This example makes it clear, how much easier it is to test every possible condition, rather than changing the value of the variables with the code."
      ]
    },
    {
      "cell_type": "code",
      "metadata": {
        "id": "mWrenjVay-_n"
      },
      "source": [
        ""
      ],
      "execution_count": null,
      "outputs": []
    },
    {
      "cell_type": "markdown",
      "metadata": {
        "id": "3262a-LbwQqC"
      },
      "source": [
        "# Collections"
      ]
    },
    {
      "cell_type": "markdown",
      "metadata": {
        "id": "RaeMy89GiFLU"
      },
      "source": [
        "## Lists\n"
      ]
    },
    {
      "cell_type": "markdown",
      "metadata": {
        "id": "HUeCv4hAugmM"
      },
      "source": [
        "You have 4 students in the class. Create variables to store their project grades."
      ]
    },
    {
      "cell_type": "code",
      "metadata": {
        "id": "9aOzh4rdupjV"
      },
      "source": [
        ""
      ],
      "execution_count": null,
      "outputs": []
    },
    {
      "cell_type": "markdown",
      "metadata": {
        "id": "k1M9jmPNup-v"
      },
      "source": [
        "What happens when you have 10 students in the class? Or 100? I hear there's at least one COMP course with 1000 students.\n",
        "\n",
        "Lists are:\n",
        "* Used to store multiple items in one variable\n",
        "* Created using square brackets (eg `my_list = []`)\n",
        "* Ordered\n",
        "* Changeable\n",
        "* Allow duplicate values\n",
        "\n",
        "As always (in Python), lists are indexed from 0."
      ]
    },
    {
      "cell_type": "markdown",
      "metadata": {
        "id": "bk5LeZx1w86r"
      },
      "source": [
        "Create a list. (Topic suggestions welcome in chat.)"
      ]
    },
    {
      "cell_type": "code",
      "metadata": {
        "id": "rg87Uv7GxB5N"
      },
      "source": [
        ""
      ],
      "execution_count": null,
      "outputs": []
    },
    {
      "cell_type": "markdown",
      "metadata": {
        "id": "LW4qFumaxCMB"
      },
      "source": [
        "Print the list."
      ]
    },
    {
      "cell_type": "code",
      "metadata": {
        "id": "z6dzDLfUxDro"
      },
      "source": [
        ""
      ],
      "execution_count": null,
      "outputs": []
    },
    {
      "cell_type": "markdown",
      "metadata": {
        "id": "6f_HAVrixD6C"
      },
      "source": [
        "Append (add to the end) an element to the list. (And print it again.)"
      ]
    },
    {
      "cell_type": "code",
      "metadata": {
        "id": "XdekkgFAxHUC"
      },
      "source": [
        ""
      ],
      "execution_count": null,
      "outputs": []
    },
    {
      "cell_type": "markdown",
      "metadata": {
        "id": "voyImQ32xHh9"
      },
      "source": [
        "Print out the length of the list."
      ]
    },
    {
      "cell_type": "code",
      "metadata": {
        "id": "9yIMJl71xOxc"
      },
      "source": [
        ""
      ],
      "execution_count": null,
      "outputs": []
    },
    {
      "cell_type": "markdown",
      "metadata": {
        "id": "VkORFqtgxO_Z"
      },
      "source": [
        "Add some more elements to the list (using `append` and `insert`). Sort the list. (And print it again.)"
      ]
    },
    {
      "cell_type": "code",
      "metadata": {
        "id": "NOOvVMV3xVVo"
      },
      "source": [
        ""
      ],
      "execution_count": null,
      "outputs": []
    },
    {
      "cell_type": "markdown",
      "metadata": {
        "id": "wCJ1e5zF2_aS"
      },
      "source": [
        "Can we sort the list backwards?"
      ]
    },
    {
      "cell_type": "code",
      "metadata": {
        "id": "ELI6p-973CNB"
      },
      "source": [
        ""
      ],
      "execution_count": null,
      "outputs": []
    },
    {
      "cell_type": "markdown",
      "metadata": {
        "id": "PEcj09doxVho"
      },
      "source": [
        "Count the number of times an element occurs in the list."
      ]
    },
    {
      "cell_type": "code",
      "metadata": {
        "id": "VWcz8liqxbRx"
      },
      "source": [
        ""
      ],
      "execution_count": null,
      "outputs": []
    },
    {
      "cell_type": "markdown",
      "metadata": {
        "id": "eQyuUSomxajH"
      },
      "source": [
        "Print out the element at index 2."
      ]
    },
    {
      "cell_type": "code",
      "metadata": {
        "id": "JKJUW7KSxfSn"
      },
      "source": [
        ""
      ],
      "execution_count": null,
      "outputs": []
    },
    {
      "cell_type": "markdown",
      "metadata": {
        "id": "AVRzoOUsKFx-"
      },
      "source": [
        "What happens if we try to print (or access, or assign) an index which is larger than the length of the list?"
      ]
    },
    {
      "cell_type": "code",
      "metadata": {
        "id": "D6LgrhIbKMoz"
      },
      "source": [
        ""
      ],
      "execution_count": null,
      "outputs": []
    },
    {
      "cell_type": "markdown",
      "metadata": {
        "id": "0c-uAIBoxe1H"
      },
      "source": [
        "Change the element at index 1 to be different. Print the list again."
      ]
    },
    {
      "cell_type": "code",
      "metadata": {
        "id": "0FQoRCYzxa3e"
      },
      "source": [
        ""
      ],
      "execution_count": null,
      "outputs": []
    },
    {
      "cell_type": "markdown",
      "metadata": {
        "id": "iegUWlUmzZIe"
      },
      "source": [
        "Remove some elements from the list. (Removing by element, popping by index.) (Printing the list each time.) Remove by element and by index."
      ]
    },
    {
      "cell_type": "code",
      "metadata": {
        "id": "GFfXBgzyzyRu"
      },
      "source": [
        ""
      ],
      "execution_count": null,
      "outputs": []
    },
    {
      "cell_type": "markdown",
      "metadata": {
        "id": "PkHrOJCGxlfS"
      },
      "source": [
        "Clear the list. (And print it again.)"
      ]
    },
    {
      "cell_type": "code",
      "metadata": {
        "id": "SrYAu8LFyeE8"
      },
      "source": [
        ""
      ],
      "execution_count": null,
      "outputs": []
    },
    {
      "cell_type": "markdown",
      "metadata": {
        "id": "HdDMv-Dmjplx"
      },
      "source": [
        "Lists are also handy in some other situations. For example, can we use use a list to simplify our [months of the year](#eg_months_cell) example?\n"
      ]
    },
    {
      "cell_type": "code",
      "metadata": {
        "id": "ClhVtCO6uf_C"
      },
      "source": [
        ""
      ],
      "execution_count": null,
      "outputs": []
    },
    {
      "cell_type": "markdown",
      "metadata": {
        "id": "n1h5s_Nf2Ghn"
      },
      "source": [
        "Can we find out if an element is in the list? (Without searching through the list one by one.)"
      ]
    },
    {
      "cell_type": "code",
      "metadata": {
        "id": "h6FE_Ydu2aLl"
      },
      "source": [
        "\n"
      ],
      "execution_count": null,
      "outputs": []
    },
    {
      "cell_type": "markdown",
      "metadata": {
        "id": "6Cne1Az42sQP"
      },
      "source": [
        "Can we loop through the list one by one?"
      ]
    },
    {
      "cell_type": "code",
      "metadata": {
        "id": "Qw3_2DVz25oL"
      },
      "source": [
        ""
      ],
      "execution_count": null,
      "outputs": []
    },
    {
      "cell_type": "markdown",
      "metadata": {
        "id": "y8G0n6U43Mls"
      },
      "source": [
        "Can we join two lists together? (aka What happens when we + two lists?)"
      ]
    },
    {
      "cell_type": "code",
      "metadata": {
        "id": "xKc-75uZ3RuI"
      },
      "source": [
        ""
      ],
      "execution_count": null,
      "outputs": []
    },
    {
      "cell_type": "markdown",
      "metadata": {
        "id": "YvnK2MFF4fCj"
      },
      "source": [
        "Can lists contain lists? How would we access it? How would we print it?"
      ]
    },
    {
      "cell_type": "code",
      "metadata": {
        "id": "rQn3E3zK4mmx"
      },
      "source": [
        ""
      ],
      "execution_count": null,
      "outputs": []
    },
    {
      "cell_type": "markdown",
      "metadata": {
        "id": "I0HJz1_StemU"
      },
      "source": [
        "Could we make the game Tic Tac Toe?"
      ]
    },
    {
      "cell_type": "code",
      "metadata": {
        "id": "QnG3Tp6ptg58"
      },
      "source": [
        ""
      ],
      "execution_count": null,
      "outputs": []
    },
    {
      "cell_type": "markdown",
      "metadata": {
        "id": "_8aek9zMtjWc"
      },
      "source": [
        "How can we show that the order matters in a list?"
      ]
    },
    {
      "cell_type": "code",
      "metadata": {
        "id": "WoSMPbgstn6F"
      },
      "source": [
        ""
      ],
      "execution_count": null,
      "outputs": []
    },
    {
      "cell_type": "markdown",
      "metadata": {
        "id": "6bFZtlVK567M"
      },
      "source": [
        "## A warning about loops\n",
        "\n",
        "Changing a list (or other collection), while looping over it, can cause unwanted results."
      ]
    },
    {
      "cell_type": "code",
      "metadata": {
        "id": "cRMvNKmA6PDy"
      },
      "source": [
        ""
      ],
      "execution_count": null,
      "outputs": []
    },
    {
      "cell_type": "markdown",
      "metadata": {
        "id": "eZqAulgMz2dj"
      },
      "source": [
        "## Dictionaries"
      ]
    },
    {
      "cell_type": "markdown",
      "metadata": {
        "id": "kbq1or8az6w6"
      },
      "source": [
        "In the real world, dictionaries let us look up *words* and find *meanings*.\n",
        "In Python, dictionaries let us look up *keys* and find *values*.\n",
        "\n",
        "Like a list, but with meaningful keys instead of indexes 0, 1, 2..."
      ]
    },
    {
      "cell_type": "markdown",
      "metadata": {
        "id": "U5BF1VcLWLmn"
      },
      "source": [
        "Create a dictionary mapping classes to tutor or lecturer."
      ]
    },
    {
      "cell_type": "code",
      "metadata": {
        "id": "Rxuh3oyZ8Nc0"
      },
      "source": [
        ""
      ],
      "execution_count": null,
      "outputs": []
    },
    {
      "cell_type": "markdown",
      "metadata": {
        "id": "qNXUH1KZ8NtW"
      },
      "source": [
        "Which tutor teaches H12A?"
      ]
    },
    {
      "cell_type": "code",
      "metadata": {
        "id": "Wh9N6fL28PRq"
      },
      "source": [
        ""
      ],
      "execution_count": null,
      "outputs": []
    },
    {
      "cell_type": "markdown",
      "metadata": {
        "id": "c5VR6-uiWZkg"
      },
      "source": [
        "Can we add another class to the dictionary?"
      ]
    },
    {
      "cell_type": "code",
      "metadata": {
        "id": "4vGiJTroWeL1"
      },
      "source": [
        ""
      ],
      "execution_count": null,
      "outputs": []
    },
    {
      "cell_type": "markdown",
      "metadata": {
        "id": "y5LAY7lZWeYn"
      },
      "source": [
        "Can we change which tutor takes a class?"
      ]
    },
    {
      "cell_type": "code",
      "metadata": {
        "id": "UqDcwA4NWkxf"
      },
      "source": [
        ""
      ],
      "execution_count": null,
      "outputs": []
    },
    {
      "cell_type": "markdown",
      "metadata": {
        "id": "F9DTDyLJWlCf"
      },
      "source": [
        "Two tutors have swapped classes. How would we go about updating the dictionary?"
      ]
    },
    {
      "cell_type": "code",
      "metadata": {
        "id": "hHthwW21XDii"
      },
      "source": [
        ""
      ],
      "execution_count": null,
      "outputs": []
    },
    {
      "cell_type": "markdown",
      "metadata": {
        "id": "EqBIuOzqXDzR"
      },
      "source": [
        "Dictionaries are:\n",
        "* ordered*\n",
        "* changeable\n",
        "* does not allow duplicates\n",
        "\n",
        "Note: As of Python version 3.7, dictionaries are ordered. In Python 3.6 and earlier, dictionaries are unordered."
      ]
    },
    {
      "cell_type": "markdown",
      "metadata": {
        "id": "kD2fo7X4RDhd"
      },
      "source": [
        "What happens if we try and put a duplicate entry into a dictionary?"
      ]
    },
    {
      "cell_type": "code",
      "metadata": {
        "id": "04XcJENJRJbO"
      },
      "source": [
        ""
      ],
      "execution_count": null,
      "outputs": []
    },
    {
      "cell_type": "markdown",
      "metadata": {
        "id": "xVUUQjG_LrMY"
      },
      "source": [
        "Can we loop through a dictionary and print out all the keys?"
      ]
    },
    {
      "cell_type": "code",
      "metadata": {
        "id": "_wuW-cauLv9I"
      },
      "source": [
        ""
      ],
      "execution_count": null,
      "outputs": []
    },
    {
      "cell_type": "markdown",
      "metadata": {
        "id": "Sfl92YK4DsTx"
      },
      "source": [
        "Using what we know about dictionaries, how could we use our loop through the keys, to access all the information?"
      ]
    },
    {
      "cell_type": "code",
      "metadata": {
        "id": "bFCxkpreDwfr"
      },
      "source": [
        ""
      ],
      "execution_count": null,
      "outputs": []
    },
    {
      "cell_type": "markdown",
      "metadata": {
        "id": "6Jj7Wm6JDw4G"
      },
      "source": [
        "Is there a more concise way to display/use all the data in a dictionary?"
      ]
    },
    {
      "cell_type": "code",
      "metadata": {
        "id": "gnZxPebCD2vs"
      },
      "source": [
        ""
      ],
      "execution_count": null,
      "outputs": []
    },
    {
      "cell_type": "markdown",
      "metadata": {
        "id": "8fO_afpfD8Pi"
      },
      "source": [
        "## Tuples"
      ]
    },
    {
      "cell_type": "markdown",
      "metadata": {
        "id": "fOcEmYZIEFpZ"
      },
      "source": [
        "Tuples are:\n",
        "* ordered\n",
        "* unchangeable\n",
        "* allows duplicates"
      ]
    },
    {
      "cell_type": "markdown",
      "metadata": {
        "id": "sBcTABFaEUcJ"
      },
      "source": [
        "Can we use a tuple to return several values from a function?"
      ]
    },
    {
      "cell_type": "code",
      "metadata": {
        "id": "3T_M753vGoVT"
      },
      "source": [
        ""
      ],
      "execution_count": null,
      "outputs": []
    },
    {
      "cell_type": "markdown",
      "metadata": {
        "id": "l3wd6RG-8oXI"
      },
      "source": [
        "# Modules and Libraries\n"
      ]
    },
    {
      "cell_type": "markdown",
      "metadata": {
        "id": "2HccA5Zg8zEb"
      },
      "source": [
        "\n",
        "Why do we have them?\n",
        "\n",
        "Where can I find more? [PyPI - Python Package Index](https://pypi.org/)"
      ]
    },
    {
      "cell_type": "markdown",
      "metadata": {
        "id": "axgGxbd35JVg"
      },
      "source": [
        "# Datetime"
      ]
    },
    {
      "cell_type": "markdown",
      "metadata": {
        "id": "1HQ9OmH8BxVO"
      },
      "source": [
        "Can we get the current datetime?\n"
      ]
    },
    {
      "cell_type": "code",
      "metadata": {
        "id": "vEXQz60eDuGg"
      },
      "source": [
        ""
      ],
      "execution_count": null,
      "outputs": []
    },
    {
      "cell_type": "markdown",
      "metadata": {
        "id": "4uIVMAMIDuY_"
      },
      "source": [
        "Can we create an object with a specific datetime?"
      ]
    },
    {
      "cell_type": "code",
      "metadata": {
        "id": "ravghWwj7o2L"
      },
      "source": [
        ""
      ],
      "execution_count": null,
      "outputs": []
    },
    {
      "cell_type": "markdown",
      "metadata": {
        "id": "bsydqR0UDrjP"
      },
      "source": [
        "Can we print out the current date and time, in the format:\n",
        "\n",
        "> Today is Wednesday, 30/04/2021\n",
        "\n",
        "Some useful/common formats:\n",
        "* %a\tWeekday, short version\tWed\t\n",
        "* %A\tWeekday, full version\tWednesday\t\t\n",
        "* %d\tDay of month 01-31\t31\t\n",
        "* %b\tMonth name, short version\tDec\t\n",
        "* %B\tMonth name, full version\tDecember\t\n",
        "* %m\tMonth as a number 01-12\t12\t\n",
        "* %y\tYear, short version, without century\t18\t\n",
        "* %Y\tYear, full version\t2018\t\n",
        "* %H\tHour 00-23\t17\t\n",
        "* %I\tHour 00-12\t05\t\n",
        "* %p\tAM/PM\tPM\t\n",
        "* %M\tMinute 00-59\t41\t\n",
        "* %S\tSecond 00-59\t08\n",
        "\n",
        "([complete list of formats](https://www.w3schools.com/python/python_datetime.asp))"
      ]
    },
    {
      "cell_type": "code",
      "metadata": {
        "id": "BdHisgwGDs0I"
      },
      "source": [
        ""
      ],
      "execution_count": null,
      "outputs": []
    },
    {
      "cell_type": "markdown",
      "metadata": {
        "id": "pmyZPba6Aztc"
      },
      "source": [
        "# Random\n",
        "\n"
      ]
    },
    {
      "cell_type": "markdown",
      "metadata": {
        "id": "yq3sKbWq1YuI"
      },
      "source": [
        "Write a function which simulates the rolling of a 6-sided dice."
      ]
    },
    {
      "cell_type": "code",
      "metadata": {
        "id": "cOqnLS0OBZp3"
      },
      "source": [
        ""
      ],
      "execution_count": null,
      "outputs": []
    },
    {
      "cell_type": "markdown",
      "metadata": {
        "id": "tQUL7Lts1frh"
      },
      "source": [
        "Writie a function which takes in an integer n, and simulates the rolling of an n-sided dice."
      ]
    },
    {
      "cell_type": "code",
      "metadata": {
        "id": "S4jaGJ_F1kD8"
      },
      "source": [
        ""
      ],
      "execution_count": null,
      "outputs": []
    },
    {
      "cell_type": "markdown",
      "metadata": {
        "id": "ZEFihde3_aXd"
      },
      "source": [
        "# Images"
      ]
    },
    {
      "cell_type": "markdown",
      "metadata": {
        "id": "Kvxtudo1_kHk"
      },
      "source": [
        "Important info:\n",
        "* An image is a width x height grid of pixels\n",
        "* Each pixel has a Red, Green, and Blue component"
      ]
    },
    {
      "cell_type": "markdown",
      "metadata": {
        "id": "SeQyXNX4_vdT"
      },
      "source": [
        "Using the [Pillow](https://python-pillow.org/) library in python allows us to create and manipulate images.\n",
        "\n",
        "**Note:** This is not something we will be covering in depth in this course, so don't feel you have to memorise how to manipulate images."
      ]
    },
    {
      "cell_type": "markdown",
      "metadata": {
        "id": "23RbVs1EYKG8"
      },
      "source": [
        "# Pandas and Plotly (a detour into Musk tweets)"
      ]
    },
    {
      "cell_type": "markdown",
      "metadata": {
        "id": "5iONl3mxYRzF"
      },
      "source": [
        "This code cell creates a list from some of Elon Musk's tweets. \n",
        "\n",
        "*You're not expected to completely understand this code yet. It's only here to give us interesting data*."
      ]
    },
    {
      "cell_type": "code",
      "metadata": {
        "id": "T2UcZXKtYXBb"
      },
      "source": [
        "import pandas\n",
        "\n",
        "raw_tweets = pandas.read_csv('https://raw.githubusercontent.com/sim-mautner/cs1010-21t2/main/data/elonmusk.csv')\n",
        "elon_tweets = list(raw_tweets.tweet)"
      ],
      "execution_count": null,
      "outputs": []
    },
    {
      "cell_type": "markdown",
      "metadata": {
        "id": "SSEDVtEdQ1o9"
      },
      "source": [
        "How many tweets are there in our dataset?"
      ]
    },
    {
      "cell_type": "code",
      "metadata": {
        "id": "9IH7gp4PQ4Ko"
      },
      "source": [
        ""
      ],
      "execution_count": null,
      "outputs": []
    },
    {
      "cell_type": "markdown",
      "metadata": {
        "id": "3-x1Sk2AaR9q"
      },
      "source": [
        "In what tweets has Elon Musk said \"simulation\"?"
      ]
    },
    {
      "cell_type": "code",
      "metadata": {
        "id": "RTKak5pvaXDo"
      },
      "source": [
        ""
      ],
      "execution_count": null,
      "outputs": []
    },
    {
      "cell_type": "markdown",
      "metadata": {
        "id": "HUVyHkreaOz7"
      },
      "source": [
        "What emoji does Elon Musk use?"
      ]
    },
    {
      "cell_type": "code",
      "metadata": {
        "id": "3w8EAUQaaoGz"
      },
      "source": [
        ""
      ],
      "execution_count": null,
      "outputs": []
    },
    {
      "cell_type": "markdown",
      "metadata": {
        "id": "Yzz3BH7ia4VY"
      },
      "source": [
        "Can we build a dictionary counting how often Elon Musk uses each Emoji?"
      ]
    },
    {
      "cell_type": "code",
      "metadata": {
        "id": "YNYeEqDYa_Hw"
      },
      "source": [
        ""
      ],
      "execution_count": null,
      "outputs": []
    },
    {
      "cell_type": "markdown",
      "metadata": {
        "id": "tCkMvSwwbI3H"
      },
      "source": [
        "Can we plot it?"
      ]
    },
    {
      "cell_type": "code",
      "metadata": {
        "id": "cr0SzU9WbKBW"
      },
      "source": [
        ""
      ],
      "execution_count": null,
      "outputs": []
    },
    {
      "cell_type": "markdown",
      "metadata": {
        "id": "EXteVdg6czQQ"
      },
      "source": [
        "What about only the most frequently used ones?"
      ]
    },
    {
      "cell_type": "code",
      "metadata": {
        "id": "Mqz1ozAKbYvG"
      },
      "source": [
        ""
      ],
      "execution_count": null,
      "outputs": []
    },
    {
      "cell_type": "markdown",
      "metadata": {
        "id": "1owyir8N2Vu5"
      },
      "source": [
        "# Lists and Dictionaries Examples\n",
        "\n"
      ]
    },
    {
      "cell_type": "markdown",
      "metadata": {
        "id": "ZaZ9EXVaRvdV"
      },
      "source": [
        "For the exercises below, there are three stages.\n",
        "\n",
        "1. Design the data structures you're going to use.\n",
        "2. Write the tests. (For now, we will only create one sample situation, though you're encouraged to write a more complete set of tests.)\n",
        "2. Implement the program."
      ]
    },
    {
      "cell_type": "markdown",
      "metadata": {
        "id": "k_OBiivEQRjt"
      },
      "source": [
        "## Splitting the Bill\n",
        "\n",
        "(This references the spreadsheet example with the same name from Week 1.)\n",
        "\n",
        "When eating out, sometimes the situation arises when we want to split the bill evenly amongst sub-groups of the people eating together. "
      ]
    },
    {
      "cell_type": "markdown",
      "metadata": {
        "id": "Ov-uD3Qg9jYI"
      },
      "source": [
        "## Gym Class Timetable\n",
        "\n",
        "Use lists and dictionaries to store the details of a gym class timetable.\n",
        "\n",
        "Also consider if there are different ways to store it which might make it easier to display to the user."
      ]
    },
    {
      "cell_type": "markdown",
      "metadata": {
        "id": "DrDu2oIX_YLD"
      },
      "source": [
        "## TV Show Chooser\n",
        "\n",
        "Housemates in a share house want a system to, based on their preferences of tv shows, and genres, choose the best tv show to watch for whichever combination of people are home at the time."
      ]
    },
    {
      "cell_type": "markdown",
      "metadata": {
        "id": "h7YI1WKq20s6"
      },
      "source": [
        "# Topics for later:\n",
        "List comprehension\n",
        "Tuples and Sets"
      ]
    },
    {
      "cell_type": "markdown",
      "metadata": {
        "id": "X1uFcCdDr-F2"
      },
      "source": [
        "# Feedback"
      ]
    },
    {
      "cell_type": "markdown",
      "metadata": {
        "id": "gVsDn4SRruXO"
      },
      "source": [
        "Lecture: 2.1 Python Introduction\n",
        "\n",
        "![](https://i.imgur.com/5FKvgmw.png)\n",
        "\n",
        "\n",
        "[Link to feedback form](https://forms.gle/NdAhw7ZMJ2eBEydd7)"
      ]
    }
  ]
}