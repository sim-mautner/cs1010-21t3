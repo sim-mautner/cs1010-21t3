{
  "nbformat": 4,
  "nbformat_minor": 0,
  "metadata": {
    "colab": {
      "name": "03-testing-introduction.ipynb",
      "provenance": [],
      "authorship_tag": "ABX9TyM0H4cUzOSNTmjG3Ypat8me",
      "include_colab_link": true
    },
    "kernelspec": {
      "name": "python3",
      "display_name": "Python 3"
    },
    "language_info": {
      "name": "python"
    }
  },
  "cells": [
    {
      "cell_type": "markdown",
      "metadata": {
        "id": "view-in-github",
        "colab_type": "text"
      },
      "source": [
        "<a href=\"https://colab.research.google.com/github/sim-mautner/cs1010-21t3/blob/main/lectures/03-python-and-programming-fundamentals/03-testing-introduction.ipynb\" target=\"_parent\"><img src=\"https://colab.research.google.com/assets/colab-badge.svg\" alt=\"Open In Colab\"/></a>"
      ]
    },
    {
      "cell_type": "markdown",
      "metadata": {
        "id": "8y3btaKHE4ag"
      },
      "source": [
        "> Topic 3<br>\n",
        "> Python and Programming Fundamentals<br>\n",
        "> COMP1010 2021 T3<br>\n",
        "> Week 1-3\n",
        "\n",
        "> Topic 3.3<br>\n",
        "> Testing (an introduction)"
      ]
    },
    {
      "cell_type": "markdown",
      "metadata": {
        "id": "8MmJvOZTi3PV"
      },
      "source": [
        "# 1 - Assert\n",
        "\n",
        "When testing if a piece of code works, we need to check all the different pathways our execution could take, and that each one produces the expected result.\n",
        "\n",
        "`assert(condition)`"
      ]
    },
    {
      "cell_type": "markdown",
      "metadata": {
        "id": "kP7wjZyvji7H"
      },
      "source": [
        "What does it look like when an `assert` passes?"
      ]
    },
    {
      "cell_type": "code",
      "metadata": {
        "id": "kWMcPKYAjl6B"
      },
      "source": [
        "assert(True)"
      ],
      "execution_count": 1,
      "outputs": []
    },
    {
      "cell_type": "markdown",
      "metadata": {
        "id": "P29RUnTkjmNU"
      },
      "source": [
        "What does it look like when an `assert` fails?"
      ]
    },
    {
      "cell_type": "code",
      "metadata": {
        "id": "PbchiK12Rmby",
        "outputId": "2d649f3c-a2aa-4a1b-abf6-5b4e90de2a64",
        "colab": {
          "base_uri": "https://localhost:8080/",
          "height": 164
        }
      },
      "source": [
        "assert(False)"
      ],
      "execution_count": 2,
      "outputs": [
        {
          "output_type": "error",
          "ename": "AssertionError",
          "evalue": "ignored",
          "traceback": [
            "\u001b[0;31m---------------------------------------------------------------------------\u001b[0m",
            "\u001b[0;31mAssertionError\u001b[0m                            Traceback (most recent call last)",
            "\u001b[0;32m<ipython-input-2-8808c4021c9c>\u001b[0m in \u001b[0;36m<module>\u001b[0;34m()\u001b[0m\n\u001b[0;32m----> 1\u001b[0;31m \u001b[0;32massert\u001b[0m\u001b[0;34m(\u001b[0m\u001b[0;32mFalse\u001b[0m\u001b[0;34m)\u001b[0m\u001b[0;34m\u001b[0m\u001b[0;34m\u001b[0m\u001b[0m\n\u001b[0m",
            "\u001b[0;31mAssertionError\u001b[0m: "
          ]
        }
      ]
    },
    {
      "cell_type": "markdown",
      "metadata": {
        "id": "6zQkNeE_jKW2"
      },
      "source": [
        "Write some tests for your ready to lecture function you wrote above."
      ]
    },
    {
      "cell_type": "code",
      "metadata": {
        "id": "PaPLzML0jHLH"
      },
      "source": [
        "def ready_to_lecture(on_time, bed_made, has_bottle):\n",
        "    if not on_time and not (bed_made and has_bottle):\n",
        "        return \"No time to get ready. Start lecturing now.\"\n",
        "    else:\n",
        "        if not bed_made and not has_bottle:\n",
        "            return \"Go make your bed and get your water bottle.\"\n",
        "        if not bed_made:\n",
        "            return \"Go make your bed.\"\n",
        "        if not has_bottle:\n",
        "            return \"Get your water bottle.\"\n",
        "        elif bed_made:\n",
        "            return \"Ready to lecture.\""
      ],
      "execution_count": 10,
      "outputs": []
    },
    {
      "cell_type": "code",
      "metadata": {
        "id": "_N8HY_4CSNQW"
      },
      "source": [
        "# Tests\n",
        "\n",
        "assert ready_to_lecture(True, True, True) == \"Ready to lecture.\"\n",
        "assert ready_to_lecture(True, True, False) == \"Get your water bottle.\"\n",
        "assert ready_to_lecture(True, False, True) == \"Go make your bed.\"\n",
        "assert ready_to_lecture(True, False, False) == \"Go make your bed and get your water bottle.\"\n",
        "assert ready_to_lecture(False, True, True) == \"Ready to lecture.\"\n",
        "assert ready_to_lecture(False, True, False) == \"No time to get ready. Start lecturing now.\"\n",
        "assert ready_to_lecture(False, False, True) == \"No time to get ready. Start lecturing now.\"\n",
        "assert ready_to_lecture(False, False, False) == \"No time to get ready. Start lecturing now.\""
      ],
      "execution_count": 11,
      "outputs": []
    },
    {
      "cell_type": "markdown",
      "metadata": {
        "id": "9eLH9VV1kS_Z"
      },
      "source": [
        "# 2 - Test-Driven Development (TDD)"
      ]
    },
    {
      "cell_type": "markdown",
      "metadata": {
        "id": "L0ryHmlfkDPY"
      },
      "source": [
        "Test-Driven Development (TDD) is an approach to programming whereby the requirements or specification of the project are converted into test cases before the software is written."
      ]
    },
    {
      "cell_type": "markdown",
      "metadata": {
        "id": "b0dIARVrj972"
      },
      "source": [
        "<a name='eg_months_cell'></a>\n",
        "### Example: Months of the Year\n",
        "\n",
        "Consider a function which takes in a number and returns a string with the month of the year that that number corresponds to.\n",
        "\n",
        "1. What cases need to be considered?\n",
        "2. Write some tests which cover these cases.\n",
        "3. Implement the function."
      ]
    },
    {
      "cell_type": "markdown",
      "metadata": {
        "id": "r7z_xzGM3LwB"
      },
      "source": [
        "Cases to consider:\n",
        "* each number 1-12\n",
        "* 0\n",
        "* negative number\n",
        "* 13\n",
        "* non-integer input"
      ]
    },
    {
      "cell_type": "code",
      "metadata": {
        "id": "DWDwbR85lX1t"
      },
      "source": [
        "assert month_to_text(1) == \"Jan\"\n",
        "assert month_to_text(2) == \"Feb\"\n",
        "assert month_to_text(3) == \"Mar\"\n",
        "assert month_to_text(4) == \"Apr\"\n",
        "assert month_to_text(5) == \"May\"\n",
        "assert month_to_text(6) == \"Jun\"\n",
        "assert month_to_text(7) == \"Jul\"\n",
        "assert month_to_text(8) == \"Aug\"\n",
        "assert month_to_text(9) == \"Sep\"\n",
        "assert month_to_text(10) == \"Oct\"\n",
        "assert month_to_text(11) == \"Nov\"\n",
        "assert month_to_text(12) == \"Dec\"\n",
        "# We will learn more about errors later on. (see topics NoneType and Exceptions in 3.6)\n",
        "assert month_to_text(0) == \"\"\n",
        "assert month_to_text(-1) == \"\"\n",
        "assert month_to_text(13) == \"\"\n",
        "assert month_to_text(\"hello\") == \"\"\n",
        "assert month_to_text(3.14) == \"\"\n"
      ],
      "execution_count": 21,
      "outputs": []
    },
    {
      "cell_type": "code",
      "metadata": {
        "id": "T6hl6MA2VUuY"
      },
      "source": [
        "assert month_to_text(\"hello\") == \"\"\n",
        "assert month_to_text(3.14) == \"\""
      ],
      "execution_count": 14,
      "outputs": []
    },
    {
      "cell_type": "code",
      "metadata": {
        "id": "VBYB3u2PVvfA",
        "outputId": "4e85d1f0-6361-4979-b082-5bd97b74cfaa",
        "colab": {
          "base_uri": "https://localhost:8080/"
        }
      },
      "source": [
        "print(isinstance(\"hello\", str))"
      ],
      "execution_count": 15,
      "outputs": [
        {
          "output_type": "stream",
          "name": "stdout",
          "text": [
            "True\n"
          ]
        }
      ]
    },
    {
      "cell_type": "code",
      "metadata": {
        "id": "7ecxuGaqVzdJ",
        "outputId": "605d0865-d45a-44e1-85cf-378637bc9e4d",
        "colab": {
          "base_uri": "https://localhost:8080/"
        }
      },
      "source": [
        "print(isinstance(5, int))"
      ],
      "execution_count": 16,
      "outputs": [
        {
          "output_type": "stream",
          "name": "stdout",
          "text": [
            "True\n"
          ]
        }
      ]
    },
    {
      "cell_type": "code",
      "metadata": {
        "id": "HSXMytSwV2fy",
        "outputId": "b9c3e3e0-1bcc-4d09-cf0c-fb26fb72b81e",
        "colab": {
          "base_uri": "https://localhost:8080/"
        }
      },
      "source": [
        "print(isinstance('5', int))"
      ],
      "execution_count": 17,
      "outputs": [
        {
          "output_type": "stream",
          "name": "stdout",
          "text": [
            "False\n"
          ]
        }
      ]
    },
    {
      "cell_type": "code",
      "metadata": {
        "id": "uBQZ-otplXhV"
      },
      "source": [
        "def month_to_text(num):\n",
        "    # Error cases first\n",
        "    # If num is not an int, then return \"\"\n",
        "    if not isinstance(num, int):\n",
        "        return \"\"\n",
        "    elif num < 1 or num > 12:\n",
        "        return \"\"\n",
        "    \n",
        "    if num == 1: return \"Jan\"\n",
        "    elif num == 2: return \"Feb\"\n",
        "    elif num == 3: return \"Mar\"\n",
        "    elif num == 4: return \"Apr\"\n",
        "    elif num == 5: return \"May\"\n",
        "    elif num == 6: return \"Jun\"\n",
        "    elif num == 7: return \"Jul\"\n",
        "    elif num == 8: return \"Aug\"\n",
        "    elif num == 9: return \"Sep\"\n",
        "    elif num == 10: return \"Oct\"\n",
        "    elif num == 11: return \"Nov\"\n",
        "    elif num == 12: return \"Dec\""
      ],
      "execution_count": 20,
      "outputs": []
    },
    {
      "cell_type": "markdown",
      "metadata": {
        "id": "w4PYn6-vx3if"
      },
      "source": [
        "### Example: Ready to Lecture (part 2)\n",
        "\n",
        "Consider the [Getting Ready to Lecture](#eg_ready_to_lecture_cell) example.\n",
        "\n",
        "1. Write tests to check whether or not your code was correct.\n",
        "2. Convert your code into a function which takes in booleans and returns a string.\n",
        "3. Run your tests on your code.\n",
        "\n",
        "This example makes it clear, how much easier it is to test every possible condition, rather than changing the value of the variables with the code."
      ]
    },
    {
      "cell_type": "code",
      "metadata": {
        "id": "mWrenjVay-_n"
      },
      "source": [
        "# Done above"
      ],
      "execution_count": null,
      "outputs": []
    },
    {
      "cell_type": "markdown",
      "metadata": {
        "id": "1JHlGGzR6AF_"
      },
      "source": [
        "# Feedback (Topic 3.3)\n",
        "\n",
        "[https://forms.gle/Uod5Jpr7AJ2z7cHLA](https://forms.gle/Uod5Jpr7AJ2z7cHLA)\n",
        "\n",
        "![](https://i.imgur.com/0L50D4L.png)"
      ]
    }
  ]
}