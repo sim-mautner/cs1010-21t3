{
  "nbformat": 4,
  "nbformat_minor": 0,
  "metadata": {
    "colab": {
      "name": "02-control-flow.ipynb",
      "provenance": [],
      "authorship_tag": "ABX9TyOkdbiBlxay+YVogI4JPPqJ",
      "include_colab_link": true
    },
    "kernelspec": {
      "name": "python3",
      "display_name": "Python 3"
    },
    "language_info": {
      "name": "python"
    }
  },
  "cells": [
    {
      "cell_type": "markdown",
      "metadata": {
        "id": "view-in-github",
        "colab_type": "text"
      },
      "source": [
        "<a href=\"https://colab.research.google.com/github/sim-mautner/cs1010-21t3/blob/main/lectures/03-python-and-programming-fundamentals/02-control-flow.ipynb\" target=\"_parent\"><img src=\"https://colab.research.google.com/assets/colab-badge.svg\" alt=\"Open In Colab\"/></a>"
      ]
    },
    {
      "cell_type": "markdown",
      "metadata": {
        "id": "DZASYuPR5kI3"
      },
      "source": [
        "> Topic 3<br>\n",
        "> Python and Programming Fundamentals<br>\n",
        "> COMP1010 2021 T3<br>\n",
        "> Week 1-3\n",
        "\n",
        "> Topic 3.2<br>\n",
        "> Control Flow"
      ]
    },
    {
      "cell_type": "markdown",
      "metadata": {
        "id": "0368ktSurcTf"
      },
      "source": [
        "# 2.1 - Conditionals"
      ]
    },
    {
      "cell_type": "markdown",
      "metadata": {
        "id": "unFlOlC2KVRm"
      },
      "source": [
        " * =    -->  Let it be equal to. Statement. Assigns.\n",
        " * ==   -->  Is it equal to? Question. Returns True or False."
      ]
    },
    {
      "cell_type": "markdown",
      "metadata": {
        "id": "o_7e49apRLPS"
      },
      "source": [
        "## if\n",
        "\n",
        "```\n",
        "if condition:\n",
        "  code_to_execute_if_condition_is_true\n",
        "```\n",
        "\n",
        "\n",
        "\n",
        "What happens if the condition is `True`?"
      ]
    },
    {
      "cell_type": "code",
      "metadata": {
        "id": "ujDJWU7hrJTI",
        "colab": {
          "base_uri": "https://localhost:8080/"
        },
        "outputId": "0bbfd1db-ff55-45f2-dce5-7a087757b018"
      },
      "source": [
        "if 5==5:\n",
        "    print(\"Yes they are equal.\")"
      ],
      "execution_count": null,
      "outputs": [
        {
          "output_type": "stream",
          "name": "stdout",
          "text": [
            "Yes they are equal.\n"
          ]
        }
      ]
    },
    {
      "cell_type": "markdown",
      "metadata": {
        "id": "Ls5OhTbhr3gN"
      },
      "source": [
        "What happens if the condition is `False`?"
      ]
    },
    {
      "cell_type": "code",
      "metadata": {
        "id": "-3JVINAbr6YR"
      },
      "source": [
        "if 5==10:\n",
        "    print(\"Yes they are equal.\")"
      ],
      "execution_count": null,
      "outputs": []
    },
    {
      "cell_type": "markdown",
      "metadata": {
        "id": "0rLJlS15s1TQ"
      },
      "source": [
        "Can we have multiple lines of code to execute?"
      ]
    },
    {
      "cell_type": "code",
      "metadata": {
        "id": "5GVhji6AtRmj",
        "colab": {
          "base_uri": "https://localhost:8080/"
        },
        "outputId": "7b0822f2-26ca-46d0-8145-dfd9c8681b46"
      },
      "source": [
        "if 5!=10:\n",
        "    print(\"Yes they are equal.\")\n",
        "    print(\"This line too.\")"
      ],
      "execution_count": null,
      "outputs": [
        {
          "output_type": "stream",
          "name": "stdout",
          "text": [
            "Yes they are equal.\n",
            "This line too.\n"
          ]
        }
      ]
    },
    {
      "cell_type": "markdown",
      "metadata": {
        "id": "qSDrVBLHr8tU"
      },
      "source": [
        "Does the indentation matter?"
      ]
    },
    {
      "cell_type": "code",
      "metadata": {
        "id": "x6kpZjREtRW-",
        "colab": {
          "base_uri": "https://localhost:8080/"
        },
        "outputId": "a282db2e-9aac-49a7-d1e1-c85695f0f832"
      },
      "source": [
        "if 5==10:\n",
        "    print(\"Does indentation matter?\")\n",
        "print(\"I am not indented.\")"
      ],
      "execution_count": null,
      "outputs": [
        {
          "output_type": "stream",
          "name": "stdout",
          "text": [
            "I am not indented.\n"
          ]
        }
      ]
    },
    {
      "cell_type": "markdown",
      "metadata": {
        "id": "693LDbk6uCQY"
      },
      "source": [
        "## Testing Variables and Creating Conditions"
      ]
    },
    {
      "cell_type": "markdown",
      "metadata": {
        "id": "nt-AoOUruhyK"
      },
      "source": [
        "Can we create a variable with a boolean to test?\n",
        "\n",
        "* `not`"
      ]
    },
    {
      "cell_type": "code",
      "metadata": {
        "colab": {
          "base_uri": "https://localhost:8080/"
        },
        "id": "TTS8JF7uuoZp",
        "outputId": "166b19e2-facb-4cc2-b0a9-f053208b372c"
      },
      "source": [
        "name = \"Kai\"\n",
        "\n",
        "if name == \"Sim\":\n",
        "    print(\"Welcome!\")\n",
        "\n",
        "if not name == \"Sim\":\n",
        "    print(\"Go away.\")"
      ],
      "execution_count": null,
      "outputs": [
        {
          "output_type": "stream",
          "name": "stdout",
          "text": [
            "Go away.\n"
          ]
        }
      ]
    },
    {
      "cell_type": "markdown",
      "metadata": {
        "id": "A-DTcDRpuoqG"
      },
      "source": [
        "Can we create an integer to test?\n",
        "\n",
        "* ==\n",
        "* !=\n",
        "* \\>\n",
        "* <\n",
        "* <=\n",
        "* \\>="
      ]
    },
    {
      "cell_type": "code",
      "metadata": {
        "id": "Kci8FX_juhX9"
      },
      "source": [
        "age = 17\n",
        "\n",
        "if age < 16:\n",
        "    print(\"Not allowed to drive.\")\n",
        "\n",
        "if age == 16:\n",
        "    print(\"Learner only.\")\n",
        "\n",
        "if age >= 17:\n",
        "    print(\"Driving allowed.\")"
      ],
      "execution_count": null,
      "outputs": []
    },
    {
      "cell_type": "markdown",
      "metadata": {
        "id": "hh8PwWRmwLYH"
      },
      "source": [
        "Can we create a string to test?\n",
        "\n",
        "* ==\n",
        "* !="
      ]
    },
    {
      "cell_type": "code",
      "metadata": {
        "id": "bzgFtvsWwN4H",
        "colab": {
          "base_uri": "https://localhost:8080/"
        },
        "outputId": "18accca1-cecb-4ada-cff6-ecccce4d33f9"
      },
      "source": [
        "# Done above."
      ],
      "execution_count": null,
      "outputs": [
        {
          "output_type": "stream",
          "name": "stdout",
          "text": [
            "End of the alphabet.\n"
          ]
        }
      ]
    },
    {
      "cell_type": "markdown",
      "metadata": {
        "id": "vL6uZVZjwt6d"
      },
      "source": [
        "What happens if we use > and < on strings?"
      ]
    },
    {
      "cell_type": "code",
      "metadata": {
        "id": "IO7URFOJww7b"
      },
      "source": [
        "name = \"Sim\"\n",
        "\n",
        "if name > \"L\":\n",
        "    print(\"End of the alphabet.\")\n",
        "\n",
        "# Apple\n",
        "# Banana\n",
        "# Lemon\n",
        "# Peach\n",
        "# Pear"
      ],
      "execution_count": null,
      "outputs": []
    },
    {
      "cell_type": "markdown",
      "metadata": {
        "id": "MK7ri_tSt05T"
      },
      "source": [
        "## else\n",
        "\n",
        "```\n",
        "if condition:\n",
        "  code_if_true\n",
        "else:\n",
        "  code_if_false\n",
        "```\n",
        "\n"
      ]
    },
    {
      "cell_type": "code",
      "metadata": {
        "id": "XGsYqgqNMnGo",
        "colab": {
          "base_uri": "https://localhost:8080/"
        },
        "outputId": "114b2785-3e40-4dd0-d2c1-f7d70f1bf7b3"
      },
      "source": [
        "name = \"Sim\"\n",
        "\n",
        "if name == \"Sim\":\n",
        "    print(\"Welcome!\")\n",
        "else:\n",
        "    print(\"Go away.\")\n",
        "\n",
        "print(\"This will always show up.\")"
      ],
      "execution_count": null,
      "outputs": [
        {
          "output_type": "stream",
          "name": "stdout",
          "text": [
            "Welcome!\n",
            "This will always show up.\n"
          ]
        }
      ]
    },
    {
      "cell_type": "markdown",
      "metadata": {
        "id": "Dty2p3QOyP7V"
      },
      "source": [
        "## elif\n",
        "\n",
        "```\n",
        "if condition:\n",
        "  code_if_true\n",
        "elif condition_2:\n",
        "  code_if_condition1_false_and_condition2_true \n",
        "else:\n",
        "  code_if_false\n",
        "```\n",
        "\n",
        "* You must have exactly one `if`.\n",
        "* You may have 0 or more (as many as you'd like) `elif`.\n",
        "* You may have 0 or 1 `else`.\n",
        "* The order matters. Both for `if`, `elif`, `else` and for the order of the `elif`s."
      ]
    },
    {
      "cell_type": "code",
      "metadata": {
        "id": "DX5qbcOOM9h0"
      },
      "source": [
        "age = 17\n",
        "\n",
        "if age < 16:\n",
        "    print(\"Not allowed to drive.\")\n",
        "elif age == 16:\n",
        "    print(\"Learner only.\")\n",
        "else:\n",
        "    print(\"Driving allowed.\")"
      ],
      "execution_count": null,
      "outputs": []
    },
    {
      "cell_type": "code",
      "metadata": {
        "id": "sG11PvtqNVjA"
      },
      "source": [
        "age = 17\n",
        "\n",
        "if age >= 16:\n",
        "    if age == 16:\n",
        "        print(\"Learner only.\")\n",
        "    else:\n",
        "        print(\"Driving allowed.\")\n",
        "else:\n",
        "    print(\"Not allowed to drive.\")"
      ],
      "execution_count": null,
      "outputs": []
    },
    {
      "cell_type": "markdown",
      "metadata": {
        "id": "335MMrGxBpup"
      },
      "source": [
        "<a name='eg_ready_to_lecture_cell'></a>\n",
        "## Example: Getting Ready to Lecture Online\n",
        "\n",
        "Lecturing from home means that I have my bed in the background of my webcam. This means that each day, before I lecture, I prefer to make my bed.\n",
        "\n",
        "(a) Write some code which:\n",
        "1. Declares a boolean `bed_made` to be `True` or `False`.\n",
        "2. Depending on the value of `bed_made`, display \"Go make your bed.\" or \"Ready to lecture.\""
      ]
    },
    {
      "cell_type": "code",
      "metadata": {
        "id": "2kooY55xCCv4"
      },
      "source": [
        "bed_made = True\n",
        "\n",
        "if bed_made == True:\n",
        "    print(\"Ready to lecture.\")\n",
        "else:\n",
        "    print(\"Go make your bed.\")"
      ],
      "execution_count": null,
      "outputs": []
    },
    {
      "cell_type": "code",
      "metadata": {
        "id": "u4TdpezmOifd"
      },
      "source": [
        "bed_made = True\n",
        "\n",
        "if bed_made:\n",
        "    print(\"Ready to lecture.\")\n",
        "else:\n",
        "    print(\"Go make your bed.\")"
      ],
      "execution_count": null,
      "outputs": []
    },
    {
      "cell_type": "markdown",
      "metadata": {
        "id": "-7TjfhgZCDD5"
      },
      "source": [
        "(Continuing from previous question...)\n",
        "\n",
        "(b) Some days, I'm running late and I don't have time to make my bed, and end up giving lectures even if my bed is still unmade.\n",
        "\n",
        "Copy the code from the previous question and:\n",
        "1. Add a boolean `on_time` to be `True` or `False`.\n",
        "2. Depending on the values of `bed_made` and `on_time` display \"Go make your bed.\", \"Ready to lecture.\" or \"No time to make your bed. Go lecture anyway.\""
      ]
    },
    {
      "cell_type": "code",
      "metadata": {
        "id": "sI6nSImnCh9I"
      },
      "source": [
        "bed_made = False\n",
        "on_time = False\n",
        "\n",
        "if bed_made:\n",
        "    print(\"Ready to lecture.\")\n",
        "else:\n",
        "    if on_time:\n",
        "        print(\"Go make your bed.\")\n",
        "    else: # not bed_made, not on_time\n",
        "        print(\"No time to make your bed. Go lecture anyway.\")"
      ],
      "execution_count": null,
      "outputs": []
    },
    {
      "cell_type": "markdown",
      "metadata": {
        "id": "bvqyuwoDCiU5"
      },
      "source": [
        "(c) Can you implement the above code in a different way? (Enter at least 4 different ways of implementing the code.)\n",
        "\n"
      ]
    },
    {
      "cell_type": "code",
      "metadata": {
        "id": "3EUy369TClD4"
      },
      "source": [
        "bed_made = False\n",
        "on_time = False\n",
        "\n",
        "if bed_made:\n",
        "    print(\"Ready to lecture.\")\n",
        "elif on_time:\n",
        "    print(\"Go make your bed.\")\n",
        "else: # not bed_made, not on_time\n",
        "    print(\"No time to make your bed. Go lecture anyway.\")"
      ],
      "execution_count": null,
      "outputs": []
    },
    {
      "cell_type": "code",
      "metadata": {
        "id": "Wi9glk4FO_nS"
      },
      "source": [
        "bed_made = False\n",
        "on_time = False\n",
        "\n",
        "if on_time and bed_made:\n",
        "    print(\"Ready to lecture.\")\n",
        "elif not on_time and not bed_made:\n",
        "    print(\"No time to make your bed. Go lecture anyway.\")\n",
        "elif on_time and not bed_made:\n",
        "    print(\"Go make your bed.\")\n",
        "elif on_time and bed_made:\n",
        "    print(\"Ready to lecture.\")"
      ],
      "execution_count": null,
      "outputs": []
    },
    {
      "cell_type": "code",
      "metadata": {
        "id": "9Tk1gFjkPdxu"
      },
      "source": [
        "bed_made = False\n",
        "on_time = False\n",
        "\n",
        "if on_time and bed_made:\n",
        "    print(\"Ready to lecture.\")\n",
        "elif not on_time and not bed_made:\n",
        "    print(\"No time to make your bed. Go lecture anyway.\")\n",
        "elif on_time and not bed_made:\n",
        "    print(\"Go make your bed.\")\n",
        "else:\n",
        "    print(\"Ready to lecture.\")"
      ],
      "execution_count": null,
      "outputs": []
    },
    {
      "cell_type": "code",
      "metadata": {
        "id": "FSVXNqZiPjOo"
      },
      "source": [
        "bed_made = False\n",
        "on_time = False\n",
        "\n",
        "if not on_time and not bed_made:\n",
        "    print(\"No time to make your bed. Go lecture anyway.\")\n",
        "elif on_time and not bed_made:\n",
        "    print(\"Go make your bed.\")\n",
        "else:\n",
        "    print(\"Ready to lecture.\")"
      ],
      "execution_count": null,
      "outputs": []
    },
    {
      "cell_type": "code",
      "metadata": {
        "id": "rCMw9ie3PmjQ"
      },
      "source": [
        "bed_made = False\n",
        "on_time = False\n",
        "\n",
        "if (on_time and bed_made) or (not on_time and bed_made):\n",
        "    print(\"Ready to lecture.\")\n",
        "elif not on_time and not bed_made:\n",
        "    print(\"No time to make your bed. Go lecture anyway.\")\n",
        "elif on_time and not bed_made:\n",
        "    print(\"Go make your bed.\")"
      ],
      "execution_count": null,
      "outputs": []
    },
    {
      "cell_type": "markdown",
      "metadata": {
        "id": "BnwzKHfrEXIh"
      },
      "source": [
        "**A note about plagiarism in writing computer programs.**"
      ]
    },
    {
      "cell_type": "markdown",
      "metadata": {
        "id": "QTO1tK_dCzWE"
      },
      "source": [
        "(d) Implement the above code, but take into consideration that I also like to have a water bottle on my desk before I start lecturing.\n",
        "\n",
        "The outputs are now:\n",
        "* No time to get ready. Start lecturing now.\n",
        "* Ready to lecture.\n",
        "* Get your water bottle.\n",
        "* Go make your bed."
      ]
    },
    {
      "cell_type": "code",
      "metadata": {
        "id": "bdpdieZYrAIz",
        "colab": {
          "base_uri": "https://localhost:8080/"
        },
        "outputId": "2f65cb5f-0bb7-4c61-c20f-1c46376b4ff7"
      },
      "source": [
        "bed_made = False\n",
        "on_time = True\n",
        "has_bottle = False\n",
        "\n",
        "if not on_time:\n",
        "    print(\"No time to get ready. Start lecturing now.\")\n",
        "else:\n",
        "    if not bed_made:\n",
        "        print(\"Go make your bed.\")\n",
        "    if not has_bottle:\n",
        "        print(\"Get your water bottle.\")\n",
        "    elif bed_made:\n",
        "        print(\"Ready to lecture.\")"
      ],
      "execution_count": null,
      "outputs": [
        {
          "output_type": "stream",
          "name": "stdout",
          "text": [
            "Go make your bed.\n",
            "Get your water bottle.\n"
          ]
        }
      ]
    },
    {
      "cell_type": "code",
      "metadata": {
        "id": "CVya0Xs6RkDw",
        "colab": {
          "base_uri": "https://localhost:8080/"
        },
        "outputId": "d9e276ca-f6b6-450a-b74b-5af60f796056"
      },
      "source": [
        "bed_made = True\n",
        "on_time = False\n",
        "has_bottle = True\n",
        "\n",
        "if bed_made and has_bottle:\n",
        "    print(\"Ready to lecture.\")\n",
        "elif on_time:\n",
        "    if not bed_made:\n",
        "        print(\"Go make your bed.\")\n",
        "    if not has_bottle:\n",
        "        print(\"Get your water bottle.\")\n",
        "else: # Not on time, and not ready.\n",
        "    print(\"No time to get ready. Start lecturing now.\")"
      ],
      "execution_count": null,
      "outputs": [
        {
          "output_type": "stream",
          "name": "stdout",
          "text": [
            "Ready to lecture.\n"
          ]
        }
      ]
    },
    {
      "cell_type": "markdown",
      "metadata": {
        "id": "Dq6fWE4oY9_P"
      },
      "source": [
        "# 2.2 - User Text Input\n",
        "\n",
        "* Get input from the user:\n",
        "`input()`\n",
        "* Put a prompt telling the user what they should be entering:\n",
        "`input(prompt)`\n",
        "* Save what the user inputs:\n",
        "`variable = input()`"
      ]
    },
    {
      "cell_type": "code",
      "metadata": {
        "id": "z-8NF2xdZCub",
        "colab": {
          "base_uri": "https://localhost:8080/"
        },
        "outputId": "553f5899-821b-4ef8-bc54-e7314842c720"
      },
      "source": [
        "name = input()\n",
        "print(\"You entered your name as: \"+name)"
      ],
      "execution_count": null,
      "outputs": [
        {
          "output_type": "stream",
          "name": "stdout",
          "text": [
            "42\n",
            "You entered your name as: 42\n"
          ]
        }
      ]
    },
    {
      "cell_type": "code",
      "metadata": {
        "id": "EAwF-3-DAaQo",
        "colab": {
          "base_uri": "https://localhost:8080/"
        },
        "outputId": "25405869-61de-449d-b9a4-597b91e51ae8"
      },
      "source": [
        "name = input(\"Enter your name: \")\n",
        "print(\"You entered your name as: \"+name)"
      ],
      "execution_count": null,
      "outputs": [
        {
          "output_type": "stream",
          "name": "stdout",
          "text": [
            "Enter your name: Sim\n",
            "You entered your name as: Sim\n"
          ]
        }
      ]
    },
    {
      "cell_type": "markdown",
      "metadata": {
        "id": "fvKZYreWZcrQ"
      },
      "source": [
        "Write some code which asks the user for their name. If they enter \"Sim\", then say \"Hello Sim\". If they enter any other name, say \"Goodbye\"."
      ]
    },
    {
      "cell_type": "code",
      "metadata": {
        "id": "50fqNw9xBBGI"
      },
      "source": [
        "name = input(\"Enter your name: \")\n",
        "\n",
        "if name == \"Sim\":\n",
        "    print(\"Hello Sim\")\n",
        "else:\n",
        "    print(\"Goodbye\")"
      ],
      "execution_count": null,
      "outputs": []
    },
    {
      "cell_type": "code",
      "metadata": {
        "id": "vofxEPW5UzWU"
      },
      "source": [
        "# Is the input always a string? Yes. But it can be cast."
      ],
      "execution_count": null,
      "outputs": []
    },
    {
      "cell_type": "markdown",
      "metadata": {
        "id": "mBrpzl21BBZ_"
      },
      "source": [
        "Write some code which asks the user for their name. If they enter one word (no spaces) display \"Hello \\<name\\>\". If they enter more than one word, display \"Goodbye\"."
      ]
    },
    {
      "cell_type": "code",
      "metadata": {
        "id": "I1aiz-OUBQqO",
        "colab": {
          "base_uri": "https://localhost:8080/"
        },
        "outputId": "bdaf7e61-8e1c-43fc-b90b-245067ffb540"
      },
      "source": [
        "name = input(\"Enter your name: \")\n",
        "\n",
        "# Remove all whitespace (spaces, tabs, newlines)\n",
        "# from the start and end of our variable.\n",
        "name = name.strip()\n",
        "\n",
        "if name.count(' ') > 0:\n",
        "    print(\"Goodbye\")\n",
        "else:\n",
        "    print(\"Hello \"+name)"
      ],
      "execution_count": null,
      "outputs": [
        {
          "output_type": "stream",
          "name": "stdout",
          "text": [
            "Enter your name:  Sim\n",
            "Hello Sim\n"
          ]
        }
      ]
    },
    {
      "cell_type": "code",
      "metadata": {
        "id": "v1T6n0yLWyP8"
      },
      "source": [
        "name = input(\"Enter your name: \")\n",
        "\n",
        "# Remove all whitespace (spaces, tabs, newlines)\n",
        "# from the start and end of our variable.\n",
        "name = name.strip()\n",
        "\n",
        "if name.count(' ') == 0:\n",
        "    print(\"Hello \"+name)\n",
        "else:\n",
        "    print(\"Goodbye\")"
      ],
      "execution_count": null,
      "outputs": []
    },
    {
      "cell_type": "code",
      "metadata": {
        "id": "ONB24wgIVyRz"
      },
      "source": [
        "name = input(\"Enter your name: \")\n",
        "\n",
        "# Remove all whitespace (spaces, tabs, newlines)\n",
        "# from the start and end of our variable.\n",
        "name = name.strip()\n",
        "\n",
        "if ' ' in name:\n",
        "    print(\"Goodbye\")\n",
        "else:\n",
        "    print(\"Hello \"+name)"
      ],
      "execution_count": null,
      "outputs": []
    },
    {
      "cell_type": "code",
      "metadata": {
        "id": "bLnXRnj1W7Et"
      },
      "source": [
        "name = input(\"Enter your name: \")\n",
        "\n",
        "# Remove all whitespace (spaces, tabs, newlines)\n",
        "# from the start and end of our variable.\n",
        "name = name.strip()\n",
        "\n",
        "if ' ' not in name:\n",
        "    print(\"Hello \"+name)\n",
        "else:\n",
        "    print(\"Goodbye\")"
      ],
      "execution_count": null,
      "outputs": []
    },
    {
      "cell_type": "markdown",
      "metadata": {
        "id": "ZUE943yVXE1N"
      },
      "source": [
        "String Punctuation"
      ]
    },
    {
      "cell_type": "code",
      "metadata": {
        "id": "8Nolsoa4XElc",
        "colab": {
          "base_uri": "https://localhost:8080/"
        },
        "outputId": "1545af1b-c301-4a40-8fce-7e4c9b650a33"
      },
      "source": [
        "import string\n",
        "#print(string.punctuation)\n",
        "\n",
        "letter = 'a'\n",
        "\n",
        "if letter in string.punctuation:\n",
        "    print(\"Punctuation.\")\n",
        "else:\n",
        "    print(\"Not punctuation.\")"
      ],
      "execution_count": null,
      "outputs": [
        {
          "output_type": "stream",
          "name": "stdout",
          "text": [
            "Not punctuation.\n"
          ]
        }
      ]
    },
    {
      "cell_type": "markdown",
      "metadata": {
        "id": "CmoIK6WEXaF8"
      },
      "source": [
        "Strip"
      ]
    },
    {
      "cell_type": "code",
      "metadata": {
        "id": "DkfKmAIBXbGO",
        "colab": {
          "base_uri": "https://localhost:8080/"
        },
        "outputId": "e2617083-5116-43f9-9ebf-a6a101b6e81b"
      },
      "source": [
        "text = \"    hello   this.   is.  my.  text...    \"\n",
        "print('---'+text+'---')\n",
        "text = text.strip()\n",
        "print('---'+text+'---')"
      ],
      "execution_count": null,
      "outputs": [
        {
          "output_type": "stream",
          "name": "stdout",
          "text": [
            "---    hello   this.   is.  my.  text...    ---\n",
            "---hello   this.   is.  my.  text...---\n"
          ]
        }
      ]
    },
    {
      "cell_type": "markdown",
      "metadata": {
        "id": "Gle9bA2XwlK-"
      },
      "source": [
        "<a name='eg_password_evaluator_cell'></a>\n",
        "Example: Password Evaluator\n",
        "\n",
        "Write some code which asks the user to suggest a password, and then displays:\n",
        "* \"Strong\" if the password is 12 or more characters, and contains both upper and lower case characters\n",
        "* \"Weak\" if the password satisfies only one of the above conditions\n",
        "* \"Very weak\" if the password satisfies neither of the above conditions."
      ]
    },
    {
      "cell_type": "code",
      "metadata": {
        "id": "59M-Wcf1wrVJ",
        "colab": {
          "base_uri": "https://localhost:8080/"
        },
        "outputId": "ea470da4-9b81-443e-8d0d-2cead0ac5928"
      },
      "source": [
        "password = input(\"Enter a password: \")\n",
        "\n",
        "len_of_password = len(password)\n",
        "long_enough = (len_of_password >= 12)\n",
        "\n",
        "# not quite right. could contain spaces, punctuation etc.\n",
        "# abcd --> true (islower) --> not --> false\n",
        "#                   --> false, there are no upper case characters\n",
        "has_upper = not password.islower()\n",
        "has_lower = not password.isupper()\n",
        "\n",
        "if long_enough and has_upper and has_lower:\n",
        "    print(\"Strong\")\n",
        "elif long_enough or (has_upper and has_lower):\n",
        "    print(\"Weak\")\n",
        "else:\n",
        "    print(\"Very Weak\")"
      ],
      "execution_count": null,
      "outputs": [
        {
          "output_type": "stream",
          "name": "stdout",
          "text": [
            "Enter a password: abc\n",
            "Very Weak\n"
          ]
        }
      ]
    },
    {
      "cell_type": "code",
      "metadata": {
        "id": "Pv6WuxFKYxP5",
        "colab": {
          "base_uri": "https://localhost:8080/"
        },
        "outputId": "8c08f242-29d3-497f-8135-55d0150c0f28"
      },
      "source": [
        "# How could we convert to lowercase?\n",
        "# Can we use this to tell if there are any uppercase characters?\n",
        "\n",
        "password = input(\"Enter a password: \")\n",
        "\n",
        "lower_password = password.lower()\n",
        "\n",
        "# approach 1:\n",
        "has_upper = not (password == lower_password)\n",
        "\n",
        "# approach 2:\n",
        "has_upper = True\n",
        "if password == lower_password:\n",
        "    has_upper = False"
      ],
      "execution_count": null,
      "outputs": [
        {
          "name": "stdout",
          "output_type": "stream",
          "text": [
            "Enter a password: Abc123\n"
          ]
        }
      ]
    },
    {
      "cell_type": "code",
      "metadata": {
        "id": "IuhPvA5ZZegG",
        "colab": {
          "base_uri": "https://localhost:8080/"
        },
        "outputId": "606e6ec2-81db-498b-fb92-c871b60f16eb"
      },
      "source": [
        "password_upper = input().upper()\n",
        "\n",
        "print(password_upper)"
      ],
      "execution_count": null,
      "outputs": [
        {
          "output_type": "stream",
          "name": "stdout",
          "text": [
            "hello123\n",
            "HELLO123\n"
          ]
        }
      ]
    },
    {
      "cell_type": "code",
      "metadata": {
        "id": "l93xRl6XbN_c"
      },
      "source": [
        "# Best, final approach\n",
        "password = input(\"Enter a password: \")\n",
        "\n",
        "# Get password length, check it's >= 12\n",
        "len_of_password = len(password)\n",
        "long_enough = (len_of_password >= 12)\n",
        "\n",
        "# Get lower and uppercase versions of the password\n",
        "lower_password = password.lower()\n",
        "upper_password = password.upper()\n",
        "\n",
        "# If the lowercase version of the password,\n",
        "# is the same as the original, then there are\n",
        "# no uppercase characters.\n",
        "# has_upper = not (password == lower_password)\n",
        "has_upper = True\n",
        "if password == lower_password:\n",
        "    has_upper = False\n",
        "\n",
        "# If the uppercase version of the password,\n",
        "# is the same as the original, then there are\n",
        "# no lowercase characters.\n",
        "# has_lower = not (password == upper_password)\n",
        "has_lower = True\n",
        "if password == upper_password:\n",
        "    has_lower = False\n",
        "\n",
        "\n",
        "if long_enough and has_upper and has_lower:\n",
        "    print(\"Strong\")\n",
        "elif long_enough or (has_upper and has_lower):\n",
        "    print(\"Weak\")\n",
        "else:\n",
        "    print(\"Very Weak\")"
      ],
      "execution_count": null,
      "outputs": []
    },
    {
      "cell_type": "markdown",
      "metadata": {
        "id": "YkNbABqZcwVC"
      },
      "source": [
        "# 2.3 - Loops"
      ]
    },
    {
      "cell_type": "markdown",
      "metadata": {
        "id": "-4TeqaL8CRM9"
      },
      "source": [
        "## While Loops\n",
        "\n",
        "```\n",
        "while condition:\n",
        "  code_to_execute_while_condition_is_true\n",
        "```\n",
        "\n",
        "Following on from the [password evaluator](#eg_password_evaluator_cell) example, what happens if the user enters a password which doesn't satisfy the requirements? Can we ask them to keep entering passwords until they choose a \"strong\" password?"
      ]
    },
    {
      "cell_type": "code",
      "metadata": {
        "id": "GEpm1mgveFOJ"
      },
      "source": [
        "# NOT A SOLUTION\n",
        "\n",
        "password = input(\"Enter a password: \")\n",
        "\n",
        "# Get password length, check it's >= 12\n",
        "len_of_password = len(password)\n",
        "long_enough = (len_of_password >= 12)\n",
        "\n",
        "# Get lower and uppercase versions of the password\n",
        "lower_password = password.lower()\n",
        "upper_password = password.upper()\n",
        "\n",
        "has_upper = not (password == lower_password)\n",
        "has_lower = not (password == upper_password)\n",
        "\n",
        "if long_enough and has_upper and has_lower:\n",
        "    print(\"Strong\")\n",
        "elif long_enough or (has_upper and has_lower):\n",
        "    print(\"Weak\")\n",
        "    password = input(\"Enter a password: \")\n",
        "    # Get password length, check it's >= 12\n",
        "    len_of_password = len(password)\n",
        "    long_enough = (len_of_password >= 12)\n",
        "\n",
        "    # Get lower and uppercase versions of the password\n",
        "    lower_password = password.lower()\n",
        "    upper_password = password.upper()\n",
        "\n",
        "    has_upper = not (password == lower_password)\n",
        "    has_lower = not (password == upper_password)\n",
        "\n",
        "else:\n",
        "    print(\"Very Weak\")"
      ],
      "execution_count": null,
      "outputs": []
    },
    {
      "cell_type": "markdown",
      "metadata": {
        "id": "qK27eu5W59Xl"
      },
      "source": [
        "Is there a better way to do this?\n",
        "\n",
        "In short, we want to keep doing the same thing over and over again, until a condition is met.\n",
        "\n",
        "> Demo:\n",
        "> * Control flow in loops in general\n",
        "> * Control flow in this example\n",
        "\n"
      ]
    },
    {
      "cell_type": "code",
      "metadata": {
        "id": "WN_9P0QF6G3T",
        "colab": {
          "base_uri": "https://localhost:8080/"
        },
        "outputId": "f0b740b0-9327-4ee2-9f99-23171b256c8b"
      },
      "source": [
        "strong_password = False\n",
        "\n",
        "# while it's not a strong password, keep getting passwords\n",
        "while not strong_password:\n",
        "    password = input(\"Enter a password: \")\n",
        "\n",
        "    # Get password length, check it's >= 12\n",
        "    len_of_password = len(password)\n",
        "    long_enough = (len_of_password >= 12)\n",
        "\n",
        "    # Get lower and uppercase versions of the password\n",
        "    lower_password = password.lower()\n",
        "    upper_password = password.upper()\n",
        "\n",
        "    has_upper = not (password == lower_password)\n",
        "    has_lower = not (password == upper_password)\n",
        "\n",
        "    strong_password = long_enough and has_upper and has_lower\n",
        "\n",
        "    # If it's not strong, give a meaningful error message\n",
        "    if not long_enough:\n",
        "        print(\"Must have 12 or more characters.\")\n",
        "    if not (has_upper and has_lower):\n",
        "        print(\"Must contain both uppercase and lowercase characters.\")\n",
        "\n",
        "# To exit the loop, they must've entered a strong password.\n",
        "print(\"Well done. You finally entered a strong password.\")"
      ],
      "execution_count": null,
      "outputs": [
        {
          "output_type": "stream",
          "name": "stdout",
          "text": [
            "Enter a password: abcd\n",
            "Must have 12 or more characters.\n",
            "Must contain both uppercase and lowercase characters.\n",
            "Enter a password: ABCd\n",
            "Must have 12 or more characters.\n",
            "Enter a password: ABCabcABCabcABC\n",
            "Well done. You finally entered a strong password.\n"
          ]
        }
      ]
    },
    {
      "cell_type": "markdown",
      "metadata": {
        "id": "4KXXnG4tfj35"
      },
      "source": [
        "<a name='eg_square_numbers_cell'></a>\n",
        "### Example: Square Numbers\n",
        "\n",
        "> Demo:\n",
        "> * What are square numbers? How do we calculate them?\n",
        "> * How do we write this code?\n",
        "\n",
        "\n",
        "\n",
        "```\n",
        "*\n",
        "\n",
        "**\n",
        "**\n",
        "\n",
        "***\n",
        "***\n",
        "***\n",
        "```\n",
        "\n",
        "\n",
        "\n",
        "Write some code which takes in a number from the user, and prints out the numbers from 1 up to that number, and the squares of those numbers.\n",
        "\n",
        "```\n",
        "Enter a number: 5\n",
        "\n",
        "1 1\n",
        "2 4\n",
        "3 9\n",
        "4 16\n",
        "```"
      ]
    },
    {
      "cell_type": "code",
      "metadata": {
        "id": "rWytniVuDNXz",
        "colab": {
          "base_uri": "https://localhost:8080/"
        },
        "outputId": "a43d9721-b11f-4051-cca2-514e792cad22"
      },
      "source": [
        "# If the user enters 5:\n",
        "\n",
        "#print(f\"{1} {1*1}\")\n",
        "#print(f\"{2} {2*2}\")\n",
        "#print(f\"{3} {3*3}\")\n",
        "#print(f\"{4} {4*4}\")\n",
        "\n",
        "num = input(\"Enter your number: \")\n",
        "num = int(num)\n",
        "\n",
        "i = 1\n",
        "\n",
        "while i < num:\n",
        "    print(f\"{i} {i*i}\")\n",
        "    i = i + 1"
      ],
      "execution_count": null,
      "outputs": [
        {
          "output_type": "stream",
          "name": "stdout",
          "text": [
            "Enter your number: 9\n",
            "1 1\n",
            "2 4\n",
            "3 9\n",
            "4 16\n",
            "5 25\n",
            "6 36\n",
            "7 49\n",
            "8 64\n"
          ]
        }
      ]
    },
    {
      "cell_type": "markdown",
      "metadata": {
        "id": "MZ9ug9b_DNs3"
      },
      "source": [
        "<a name='eg_triangular_numbers_cell'></a>\n",
        "### Example: Triangular Numbers\n",
        "\n",
        "> Demo:\n",
        "> * What are triangular numbers? How do we calculate them? (This is more of an aside.)\n",
        "> * How do we write this code?\n",
        "\n",
        "Write some code which takes in a number from the user, and prints out the sum of the numbers from 1 up to and including that number. (ie 3 --> 1+2+3 = 6)\n",
        "\n",
        "```\n",
        "Enter a number: 3\n",
        "\n",
        "6\n",
        "```"
      ]
    },
    {
      "cell_type": "markdown",
      "metadata": {
        "id": "4A4r8ziY_U93"
      },
      "source": [
        "\n",
        "\n",
        "```\n",
        "* --> 1, 0+1\n",
        "\n",
        "  *\n",
        " * *  --> 1+2 = 3, previous + 2\n",
        "\n",
        "  *\n",
        " * *\n",
        "* * *  --> 1+2+3 = 6, previous + 3\n",
        "\n",
        "   *\n",
        "  * *\n",
        " * * *\n",
        "* * * *  --> 1+2+3+4 = 10, previous + 4\n",
        "\n",
        "\n",
        "```\n",
        "\n"
      ]
    },
    {
      "cell_type": "code",
      "metadata": {
        "id": "xc7A6Pp9JApm",
        "outputId": "60a04553-5eca-43f1-d150-f3854ad38a8c",
        "colab": {
          "base_uri": "https://localhost:8080/"
        }
      },
      "source": [
        "num = input(\"Enter a number: \")\n",
        "\n",
        "num = int(num)\n",
        "\n",
        "up_to = 0\n",
        "triangular_number = 0\n",
        "\n",
        "# while the one we are up to, is less than\n",
        "# the one the user wants us to go up to\n",
        "while up_to < num:\n",
        "    # add one to up_to\n",
        "    up_to = up_to + 1 # up_to += 1\n",
        "    triangular_number += up_to\n",
        "\n",
        "print(f\"Result: {triangular_number}\")"
      ],
      "execution_count": 3,
      "outputs": [
        {
          "output_type": "stream",
          "name": "stdout",
          "text": [
            "Enter a number: 4\n",
            "Result: 10\n"
          ]
        }
      ]
    },
    {
      "cell_type": "code",
      "metadata": {
        "id": "cWACzQffBPEE",
        "outputId": "6172879e-8540-4e80-ce96-f9725469e5b4",
        "colab": {
          "base_uri": "https://localhost:8080/"
        }
      },
      "source": [
        "# Question: What is the +=?\n",
        "x = 5\n",
        "#x = x + 1\n",
        "x += 1\n",
        "print(x)\n",
        "\n",
        "x = 5\n",
        "y = 2\n",
        "# let x = x + y\n",
        "x += y\n",
        "print(x)"
      ],
      "execution_count": 6,
      "outputs": [
        {
          "output_type": "stream",
          "name": "stdout",
          "text": [
            "6\n",
            "7\n"
          ]
        }
      ]
    },
    {
      "cell_type": "code",
      "metadata": {
        "id": "TbZ-Oj6tBhvj",
        "outputId": "e245c45c-52f2-43d7-c19a-40ae8cdbe738",
        "colab": {
          "base_uri": "https://localhost:8080/"
        }
      },
      "source": [
        "# Q: Why did you use f when you print it?\n",
        "# print(f\"Result: {triangular_number}\")\n",
        "\n",
        "print(\"Result: \" + str(triangular_number))\n",
        "\n",
        "# For more info: Topic 3.1 F-Strings\n"
      ],
      "execution_count": 8,
      "outputs": [
        {
          "output_type": "stream",
          "name": "stdout",
          "text": [
            "Result: 10\n"
          ]
        }
      ]
    },
    {
      "cell_type": "markdown",
      "metadata": {
        "id": "32MS8qvuDklj"
      },
      "source": [
        "## For Loops\n",
        "\n",
        "```\n",
        "for ... in ...:\n",
        "  code_to_execute_on_each_value\n",
        "```"
      ]
    },
    {
      "cell_type": "code",
      "metadata": {
        "id": "LxAjyoYFDv3z",
        "outputId": "dbfb4998-ee6b-491b-89b7-1552a2ce38fa",
        "colab": {
          "base_uri": "https://localhost:8080/"
        }
      },
      "source": [
        "for i in range(0, 10):\n",
        "    print(i)"
      ],
      "execution_count": 9,
      "outputs": [
        {
          "output_type": "stream",
          "name": "stdout",
          "text": [
            "0\n",
            "1\n",
            "2\n",
            "3\n",
            "4\n",
            "5\n",
            "6\n",
            "7\n",
            "8\n",
            "9\n"
          ]
        }
      ]
    },
    {
      "cell_type": "markdown",
      "metadata": {
        "id": "o2g7udMkDpMd"
      },
      "source": [
        "Redo the [square numbers](#eg_square_numbers_cell) example and the [triangular numbers](#eg_triangular_numbers_cell) example using for loops instead of while loops."
      ]
    },
    {
      "cell_type": "code",
      "metadata": {
        "id": "H2AVVV3ZDwKE",
        "outputId": "9a4b9662-6fb3-4928-f9dc-a289cc7eafd2",
        "colab": {
          "base_uri": "https://localhost:8080/"
        }
      },
      "source": [
        "# Square Numbers\n",
        "\n",
        "num = int(input(\"Enter a number: \"))\n",
        "\n",
        "for i in range(1, num+1):\n",
        "    print(f\"{i}   {i*i}\")"
      ],
      "execution_count": 13,
      "outputs": [
        {
          "output_type": "stream",
          "name": "stdout",
          "text": [
            "Enter a number: 3\n",
            "1   1\n",
            "2   4\n",
            "3   9\n"
          ]
        }
      ]
    },
    {
      "cell_type": "code",
      "metadata": {
        "id": "iMh7q-ZCCZqZ",
        "outputId": "5e15961a-ec6a-43a5-ede4-7497073076bc",
        "colab": {
          "base_uri": "https://localhost:8080/"
        }
      },
      "source": [
        "# Triangular Numbers\n",
        "\n",
        "num = int(input(\"Enter a number: \"))\n",
        "\n",
        "triangular_number = 0\n",
        "for i in range(1, num+1):\n",
        "    triangular_number += i\n",
        "\n",
        "print(f\"Result: {triangular_number}\")"
      ],
      "execution_count": 14,
      "outputs": [
        {
          "output_type": "stream",
          "name": "stdout",
          "text": [
            "Enter a number: 5\n",
            "Result: 15\n"
          ]
        }
      ]
    },
    {
      "cell_type": "markdown",
      "metadata": {
        "id": "obYBHYlwN0nl"
      },
      "source": [
        "### Example: Strings - one letter at a time.\n",
        "\n",
        "Write some code which prints out the letters of a string one at a time."
      ]
    },
    {
      "cell_type": "code",
      "metadata": {
        "id": "8kBsQRAMD9o3",
        "outputId": "d491d99a-e27e-474d-d9a6-39e2b1f860b1",
        "colab": {
          "base_uri": "https://localhost:8080/"
        }
      },
      "source": [
        "text = \"The quick brown fox.\"\n",
        "\n",
        "print(text[0])\n",
        "print(text[1])\n",
        "print(text[2])"
      ],
      "execution_count": 16,
      "outputs": [
        {
          "output_type": "stream",
          "name": "stdout",
          "text": [
            "T\n",
            "h\n",
            "e\n"
          ]
        }
      ]
    },
    {
      "cell_type": "code",
      "metadata": {
        "id": "ftJ3bHMyOLk-",
        "outputId": "371d0026-326b-42ae-bcb7-5c2f81e0bdce",
        "colab": {
          "base_uri": "https://localhost:8080/"
        }
      },
      "source": [
        "# Using a counter to access individual elements (while loop or for loop)\n",
        "\n",
        "text = \"The quick brown fox.\"\n",
        "\n",
        "# 'i' is our counter: tells us which character we are up to\n",
        "i = 0\n",
        "# keep going, as long as 'i' is less than the length of the string\n",
        "while i < len(text):\n",
        "    print(text[i])\n",
        "    # Add one to i so that next time, we print the next character\n",
        "    i += 1\n"
      ],
      "execution_count": 18,
      "outputs": [
        {
          "output_type": "stream",
          "name": "stdout",
          "text": [
            "T\n",
            "h\n",
            "e\n",
            " \n",
            "q\n",
            "u\n",
            "i\n",
            "c\n",
            "k\n",
            " \n",
            "b\n",
            "r\n",
            "o\n",
            "w\n",
            "n\n",
            " \n",
            "f\n",
            "o\n",
            "x\n",
            ".\n"
          ]
        }
      ]
    },
    {
      "cell_type": "code",
      "metadata": {
        "id": "jq4lduglOOQt",
        "outputId": "46a13e54-bc82-4131-c99c-64b25644e467",
        "colab": {
          "base_uri": "https://localhost:8080/"
        }
      },
      "source": [
        "# Using the features of a string as an iterator (for loop)\n",
        "\n",
        "text = \"The quick brown fox.\"\n",
        "\n",
        "for character in text:\n",
        "    print(character)"
      ],
      "execution_count": 19,
      "outputs": [
        {
          "output_type": "stream",
          "name": "stdout",
          "text": [
            "T\n",
            "h\n",
            "e\n",
            " \n",
            "q\n",
            "u\n",
            "i\n",
            "c\n",
            "k\n",
            " \n",
            "b\n",
            "r\n",
            "o\n",
            "w\n",
            "n\n",
            " \n",
            "f\n",
            "o\n",
            "x\n",
            ".\n"
          ]
        }
      ]
    },
    {
      "cell_type": "code",
      "metadata": {
        "id": "XKcbLsI3FSnP",
        "outputId": "c42928d3-9f2e-460b-f065-cbe12f63cb15",
        "colab": {
          "base_uri": "https://localhost:8080/"
        }
      },
      "source": [
        "# Print only the lowercase characters\n",
        "\n",
        "text = \"The quick brown fox.\"\n",
        "\n",
        "for character in text:\n",
        "    if character.islower():\n",
        "        print(character)"
      ],
      "execution_count": 20,
      "outputs": [
        {
          "output_type": "stream",
          "name": "stdout",
          "text": [
            "h\n",
            "e\n",
            "q\n",
            "u\n",
            "i\n",
            "c\n",
            "k\n",
            "b\n",
            "r\n",
            "o\n",
            "w\n",
            "n\n",
            "f\n",
            "o\n",
            "x\n"
          ]
        }
      ]
    },
    {
      "cell_type": "markdown",
      "metadata": {
        "id": "HPEBS58xnYI4"
      },
      "source": [
        "### Obfuscation\n",
        "Is there another way to solve this problem?\n",
        "\n",
        "> Oh no, somaona hes dona somathing tarribla to my writing. Thay'va sweppad eround tha lattar 'e' end tha lattar 'a'"
      ]
    },
    {
      "cell_type": "code",
      "metadata": {
        "id": "Q1o7O3DkFn2T",
        "outputId": "2518993e-afe4-46cc-9736-420911d453ef",
        "colab": {
          "base_uri": "https://localhost:8080/"
        }
      },
      "source": [
        "text = \"Oh no, somaona hes dona somathing tarribla to my writing. Thay'va sweppad eround tha lattar 'e' end tha lattar 'a'\"\n",
        "result = \"\"\n",
        "\n",
        "for character in text:\n",
        "    # if my character is an 'a', add an 'e' to my result text\n",
        "    if character == 'a':\n",
        "        result += 'e'\n",
        "    elif character == 'e':\n",
        "        # if character is 'e', add 'a' to my result text\n",
        "        result += 'a'\n",
        "    else:\n",
        "        # otherwise add the original character to the result\n",
        "        result += character\n",
        "\n",
        "print(result)"
      ],
      "execution_count": 21,
      "outputs": [
        {
          "output_type": "stream",
          "name": "stdout",
          "text": [
            "Oh no, someone has done something terrible to my writing. They've swapped around the letter 'a' and the letter 'e'\n"
          ]
        }
      ]
    },
    {
      "cell_type": "markdown",
      "metadata": {
        "id": "Dsm5N-CGLh7S"
      },
      "source": [
        "# 2.4 - Bringing it all together\n",
        "\n",
        "Example: Guess my number\n",
        "\n",
        "Write a program (piece of python code) which:\n",
        "1. Asks the user to choose a number between 1 and 100 (but not enter it).\n",
        "2. The program then guesses the user's number, and asks if the user's number is higher or lower than their guess.\n",
        "3. The user then enters `H` for higher, `L` for lower or `C` for correct, depending on whether or not the program has guessed their number.\n",
        "4. The program keeps repeating steps 2 and 3 until it manages to guess the number."
      ]
    },
    {
      "cell_type": "code",
      "metadata": {
        "id": "uXw-qkGuRAdp",
        "outputId": "2fe289b8-fbc3-425b-f91c-ed7ee3a631c3",
        "colab": {
          "base_uri": "https://localhost:8080/"
        }
      },
      "source": [
        "print(\"Choose a number between 1 and 100.\")\n",
        "\n",
        "low = 1\n",
        "high = 100\n",
        "\n",
        "guess = int((low + high)/2)\n",
        "\n",
        "print(f\"Is your number {guess}?\")\n",
        "response = input(\"Enter H, L or C: \")\n",
        "\n",
        "while response != 'C': # != means \"not equal to\" --> while not response == 'C':\n",
        "    # If need to go lower, make high = guess - 1\n",
        "    if response == 'L':\n",
        "        high = guess - 1\n",
        "    elif response == 'H':\n",
        "        # lowest possible number is guess + 1\n",
        "        low = guess + 1\n",
        "\n",
        "    guess = int((low + high)/2)\n",
        "\n",
        "    print(f\"Is your number {guess}?\")\n",
        "    response = input(\"Enter H, L or C: \")"
      ],
      "execution_count": 23,
      "outputs": [
        {
          "name": "stdout",
          "output_type": "stream",
          "text": [
            "Choose a number between 1 and 100.\n",
            "Is your number 50?\n",
            "Enter H, L or C: L\n",
            "Is your number 25?\n",
            "Enter H, L or C: H\n",
            "Is your number 37?\n",
            "Enter H, L or C: H\n",
            "Is your number 43?\n",
            "Enter H, L or C: L\n",
            "Is your number 40?\n",
            "Enter H, L or C: H\n",
            "Is your number 41?\n",
            "Enter H, L or C: H\n",
            "Is your number 42?\n",
            "Enter H, L or C: C\n"
          ]
        }
      ]
    },
    {
      "cell_type": "markdown",
      "metadata": {
        "id": "k9cMFgGkuuDK"
      },
      "source": [
        "# 2.5 - Functions"
      ]
    },
    {
      "cell_type": "markdown",
      "metadata": {
        "id": "6_6ffqy8OolO"
      },
      "source": [
        "Purposes of functions:\n",
        "\n",
        "* Re-use code (\"Every line of code you don't write is bug free.\")\n",
        "* Testing\n",
        "* Abstraction / readability\n",
        "* Re-use code with different parameters\n",
        "\n",
        "(Point 1 and point 4 are different as it's often useful to use functions to not repeat ourselves even if (especially when?) the code is identical and doesn't require parameters to adapt it.)\n",
        "\n"
      ]
    },
    {
      "cell_type": "markdown",
      "metadata": {
        "id": "MZIdfUIcgHcs"
      },
      "source": [
        "Do you remember this box?\n",
        "\n",
        "Can we create a string with this box in it?\n",
        "\n",
        "```\n",
        "+-----+\n",
        "|     |\n",
        "|     |\n",
        "|     |\n",
        "+-----+\n",
        "```"
      ]
    },
    {
      "cell_type": "code",
      "metadata": {
        "id": "-CsBtFSHgWXm",
        "outputId": "65608dea-3506-4ea1-cb37-2b4fc34b20aa",
        "colab": {
          "base_uri": "https://localhost:8080/"
        }
      },
      "source": [
        "box = ('+'+'-'*5+'+\\n')+('|'+' '*5+'|\\n')*3+('+'+'-'*5+'+\\n')\n",
        "print(box)"
      ],
      "execution_count": 24,
      "outputs": [
        {
          "output_type": "stream",
          "name": "stdout",
          "text": [
            "+-----+\n",
            "|     |\n",
            "|     |\n",
            "|     |\n",
            "+-----+\n",
            "\n"
          ]
        }
      ]
    },
    {
      "cell_type": "markdown",
      "metadata": {
        "id": "Hci2yRlggWua"
      },
      "source": [
        "Can we create this box too?\n",
        "\n",
        "```\n",
        "+----------+\n",
        "|          |\n",
        "|          |\n",
        "|          |\n",
        "+----------+\n",
        "```"
      ]
    },
    {
      "cell_type": "code",
      "metadata": {
        "id": "GwxjSEeygg4m",
        "outputId": "22cd1133-0727-45a1-c07a-e886ac18da1f",
        "colab": {
          "base_uri": "https://localhost:8080/"
        }
      },
      "source": [
        "# box = ('+'+'-'*5+'+\\n')+('|'+' '*5+'|\\n')*3+('+'+'-'*5+'+\\n')\n",
        "box = ('+'+'-'*10+'+\\n')+('|'+' '*10+'|\\n')*3+('+'+'-'*10+'+\\n')\n",
        "print(box)"
      ],
      "execution_count": 26,
      "outputs": [
        {
          "output_type": "stream",
          "name": "stdout",
          "text": [
            "+----------+\n",
            "|          |\n",
            "|          |\n",
            "|          |\n",
            "+----------+\n",
            "\n"
          ]
        }
      ]
    },
    {
      "cell_type": "markdown",
      "metadata": {
        "id": "MEPnCq72ghPn"
      },
      "source": [
        "And this one too?\n",
        "\n",
        "```\n",
        "+----------+\n",
        "|          |\n",
        "+----------+\n",
        "```"
      ]
    },
    {
      "cell_type": "code",
      "metadata": {
        "id": "HwJKOJq7I8fM",
        "outputId": "ed8b3fde-fe55-412b-ae7d-9832711cfeca",
        "colab": {
          "base_uri": "https://localhost:8080/"
        }
      },
      "source": [
        "# box = ('+'+'-'*5+'+\\n')+('|'+' '*5+'|\\n')*3+('+'+'-'*5+'+\\n')\n",
        "# box = ('+'+'-'*10+'+\\n')+('|'+' '*10+'|\\n')*3+('+'+'-'*10+'+\\n')\n",
        "box = ('+'+'-'*10+'+\\n')+('|'+' '*10+'|\\n')*1+('+'+'-'*10+'+\\n')\n",
        "print(box)"
      ],
      "execution_count": 27,
      "outputs": [
        {
          "output_type": "stream",
          "name": "stdout",
          "text": [
            "+----------+\n",
            "|          |\n",
            "+----------+\n",
            "\n"
          ]
        }
      ]
    },
    {
      "cell_type": "markdown",
      "metadata": {
        "id": "xyPLKx0JgqcX"
      },
      "source": [
        "By looking at what the code in each situation has in common, we can write a function which will work for any size box."
      ]
    },
    {
      "cell_type": "code",
      "metadata": {
        "id": "2-5_gU7zgxW4"
      },
      "source": [
        "def get_box_string(width, height):\n",
        "    print(f\"You asked me to create a box string with width {width} and height {height}.\")\n",
        "    box = (('+'+'-'*width+'+\\n') +\n",
        "          ('|'+' '*width+'|\\n') * height +\n",
        "          ('+'+'-'*width+'+\\n'))\n",
        "    return box"
      ],
      "execution_count": 34,
      "outputs": []
    },
    {
      "cell_type": "code",
      "metadata": {
        "id": "VbaBL-nuJe5Q",
        "outputId": "713ba38a-b0af-4e3f-a855-75c15e7c864e",
        "colab": {
          "base_uri": "https://localhost:8080/"
        }
      },
      "source": [
        "box = get_box_string(5,3)\n",
        "print(box)\n",
        "box = get_box_string(10,3)\n",
        "print(box)\n",
        "box = get_box_string(10,1)\n",
        "print(box)"
      ],
      "execution_count": 36,
      "outputs": [
        {
          "output_type": "stream",
          "name": "stdout",
          "text": [
            "You asked me to create a box string with width 5 and height 3.\n",
            "+-----+\n",
            "|     |\n",
            "|     |\n",
            "|     |\n",
            "+-----+\n",
            "\n",
            "You asked me to create a box string with width 10 and height 3.\n",
            "+----------+\n",
            "|          |\n",
            "|          |\n",
            "|          |\n",
            "+----------+\n",
            "\n",
            "You asked me to create a box string with width 10 and height 1.\n",
            "+----------+\n",
            "|          |\n",
            "+----------+\n",
            "\n"
          ]
        }
      ]
    },
    {
      "cell_type": "code",
      "metadata": {
        "id": "bNtKELZ0P2zW"
      },
      "source": [
        "# Can a function not return anything?\n",
        "\n",
        "def print_box(width, height):\n",
        "    print(f\"You asked me to print a box string with width {width} and height {height}.\")\n",
        "    print(('+'+'-'*width+'+\\n') +\n",
        "          ('|'+' '*width+'|\\n') * height +\n",
        "          ('+'+'-'*width+'+\\n'))"
      ],
      "execution_count": 42,
      "outputs": []
    },
    {
      "cell_type": "code",
      "metadata": {
        "id": "YzAk1mq_QCpn",
        "outputId": "32949c04-ebe1-4a19-9183-97417d80dfc3",
        "colab": {
          "base_uri": "https://localhost:8080/"
        }
      },
      "source": [
        "print_box(27,15)"
      ],
      "execution_count": 44,
      "outputs": [
        {
          "output_type": "stream",
          "name": "stdout",
          "text": [
            "You asked me to print a box string with width 27 and height 15.\n",
            "+---------------------------+\n",
            "|                           |\n",
            "|                           |\n",
            "|                           |\n",
            "|                           |\n",
            "|                           |\n",
            "|                           |\n",
            "|                           |\n",
            "|                           |\n",
            "|                           |\n",
            "|                           |\n",
            "|                           |\n",
            "|                           |\n",
            "|                           |\n",
            "|                           |\n",
            "|                           |\n",
            "+---------------------------+\n",
            "\n"
          ]
        }
      ]
    },
    {
      "cell_type": "markdown",
      "metadata": {
        "id": "ODCWq1Ydhhha"
      },
      "source": [
        "## Returning values from functions"
      ]
    },
    {
      "cell_type": "markdown",
      "metadata": {
        "id": "m0tGIH5uhP6B"
      },
      "source": [
        "Write your own function `my_count()` which takes in a string and a character and returns the number of times that character occurs in that string."
      ]
    },
    {
      "cell_type": "code",
      "metadata": {
        "id": "qEUo2lyIh7-l"
      },
      "source": [
        "def my_count(text, character):\n",
        "\n",
        "    # Assume there are 0 occurances of character in the text\n",
        "    count = 0\n",
        "\n",
        "    # Go through each character in our text\n",
        "    for text_char in text:\n",
        "        # If the character we are looking at is the one we are looking for\n",
        "        if text_char == character:\n",
        "            # Add one to our count\n",
        "            count += 1\n",
        "\n",
        "    return count"
      ],
      "execution_count": 37,
      "outputs": []
    },
    {
      "cell_type": "code",
      "metadata": {
        "id": "2Cmb-stCMZiK",
        "outputId": "2c176aa2-e67b-4133-c5d7-347227ccd96b",
        "colab": {
          "base_uri": "https://localhost:8080/"
        }
      },
      "source": [
        "print(my_count(\"hello\", 'h'))\n",
        "print(my_count(\"hello\", 'l'))\n",
        "print(my_count(\"hello\", 'p'))"
      ],
      "execution_count": 38,
      "outputs": [
        {
          "output_type": "stream",
          "name": "stdout",
          "text": [
            "1\n",
            "2\n",
            "0\n"
          ]
        }
      ]
    },
    {
      "cell_type": "markdown",
      "metadata": {
        "id": "y_PrzNsvK7C5"
      },
      "source": [
        "Write a function `count_punctuation()` which takes in a string and returns the number of punctuation characters which occur in it."
      ]
    },
    {
      "cell_type": "code",
      "metadata": {
        "id": "_1rBGkVDMvEX",
        "outputId": "49a2bc57-d9af-4b6d-9e48-e528b1646782",
        "colab": {
          "base_uri": "https://localhost:8080/"
        }
      },
      "source": [
        "import string\n",
        "print(string.punctuation)"
      ],
      "execution_count": 39,
      "outputs": [
        {
          "output_type": "stream",
          "name": "stdout",
          "text": [
            "!\"#$%&'()*+,-./:;<=>?@[\\]^_`{|}~\n"
          ]
        }
      ]
    },
    {
      "cell_type": "code",
      "metadata": {
        "id": "y0k1c7vKLE09"
      },
      "source": [
        "# Approach 1: Loop through text and check if it's in string.punctuation\n",
        "\n",
        "def count_punctuation_ap1(text):\n",
        "    # assume no punctuation\n",
        "    num_punctuation = 0\n",
        "    # go through each character\n",
        "    for character in text:\n",
        "        # if the character occurs in string.punctuation\n",
        "        if character in string.punctuation:\n",
        "            # add one to number of punctuation\n",
        "            num_punctuation += 1\n",
        "    # return how many punctuation we counted\n",
        "    return num_punctuation"
      ],
      "execution_count": 40,
      "outputs": []
    },
    {
      "cell_type": "code",
      "metadata": {
        "id": "SXk5xxBqNPRb",
        "outputId": "eea074b4-193a-4630-e76d-2670cc0784a4",
        "colab": {
          "base_uri": "https://localhost:8080/"
        }
      },
      "source": [
        "print(count_punctuation_ap1(\"Hello. My name is Sim. There's more interesting... $#&=\"))"
      ],
      "execution_count": 41,
      "outputs": [
        {
          "output_type": "stream",
          "name": "stdout",
          "text": [
            "10\n"
          ]
        }
      ]
    },
    {
      "cell_type": "code",
      "metadata": {
        "id": "wSuaH8uNLFHf"
      },
      "source": [
        "# Approach 2: Loop through punctuation and count how many of that occur in text\n",
        "\n",
        "def count_punctuation_ap2(text):\n",
        "    num_punctuation = 0\n",
        "\n",
        "    # Go through each punctuation character in the punctuation possibilities\n",
        "    for punc_char in string.punctuation:\n",
        "        # Count how many times it occurs in the text, and add it on to\n",
        "        # our total number of punctuation items\n",
        "        num_punctuation += my_count(text, punc_char)\n",
        "    \n",
        "    # Return the number of punctuation items we saw\n",
        "    return num_punctuation"
      ],
      "execution_count": null,
      "outputs": []
    },
    {
      "cell_type": "markdown",
      "metadata": {
        "id": "8OTO2hrWSFOl"
      },
      "source": [
        "## Functions for Readability\n",
        "\n",
        "Re-write our code from the [Password Evaluator](#eg_password_evaluator_cell) question to use functions to make the code more readable."
      ]
    },
    {
      "cell_type": "code",
      "metadata": {
        "id": "9PDD_lHbSWoJ"
      },
      "source": [
        "def is_long_enough(password):\n",
        "    return len(password) >= 12\n",
        "\n",
        "def has_upper_and_lower(password):\n",
        "    has_upper = not password.islower()\n",
        "    has_lower = not password.isupper()\n",
        "    return has_upper and has_lower\n",
        "\n",
        "password = input(\"Enter a password: \")\n",
        "\n",
        "if is_long_enough(password) and has_upper_and_lower(password):\n",
        "    print(\"Strong\")\n",
        "elif is_long_enough(password) or has_upper_and_lower(password):\n",
        "    print(\"Weak\")\n",
        "else:\n",
        "    print(\"Very Weak\")"
      ],
      "execution_count": null,
      "outputs": []
    },
    {
      "cell_type": "markdown",
      "metadata": {
        "id": "gHLgpeGq50Yg"
      },
      "source": [
        "# Feedback (Topic 3.2)\n",
        "\n",
        "[https://forms.gle/Uod5Jpr7AJ2z7cHLA](https://forms.gle/Uod5Jpr7AJ2z7cHLA)\n",
        "\n",
        "![](https://i.imgur.com/0L50D4L.png)"
      ]
    }
  ]
}