{
  "nbformat": 4,
  "nbformat_minor": 0,
  "metadata": {
    "colab": {
      "name": "06-further-topics.ipynb",
      "provenance": [],
      "authorship_tag": "ABX9TyOi2EY4HhEWbgVOS23ZB7Vs",
      "include_colab_link": true
    },
    "kernelspec": {
      "name": "python3",
      "display_name": "Python 3"
    },
    "language_info": {
      "name": "python"
    }
  },
  "cells": [
    {
      "cell_type": "markdown",
      "metadata": {
        "id": "view-in-github",
        "colab_type": "text"
      },
      "source": [
        "<a href=\"https://colab.research.google.com/github/sim-mautner/cs1010-21t3/blob/main/lectures/03-python-and-programming-fundamentals/06-further-topics.ipynb\" target=\"_parent\"><img src=\"https://colab.research.google.com/assets/colab-badge.svg\" alt=\"Open In Colab\"/></a>"
      ]
    },
    {
      "cell_type": "markdown",
      "metadata": {
        "id": "DZASYuPR5kI3"
      },
      "source": [
        "> Topic 3<br>\n",
        "> Python and Programming Fundamentals<br>\n",
        "> COMP1010 2021 T3<br>\n",
        "> Week 1-3\n",
        "\n",
        "> Topic 3.6<br>\n",
        "> Further Topics"
      ]
    },
    {
      "cell_type": "markdown",
      "metadata": {
        "id": "E_NZ3hENDnVP"
      },
      "source": [
        "# 1 - Data Types: NoneType\n",
        "\n",
        "`None` is a special value in Python we can use to represent values that are unknown.\n",
        "\n",
        "**Important Info**:\n",
        "\n",
        "* The type of `None` is `NoneType`. It is the only value of that type.\n",
        "* Python has special support for dealing with `None` values in `if` statements."
      ]
    },
    {
      "cell_type": "code",
      "metadata": {
        "id": "UwgjpWp1TNrM",
        "colab": {
          "base_uri": "https://localhost:8080/"
        },
        "outputId": "7faf4740-ded3-4c9e-ad84-d01cdc0f2dcb"
      },
      "source": [
        "a = None\n",
        "print(a)\n",
        "print(type(a))"
      ],
      "execution_count": null,
      "outputs": [
        {
          "output_type": "stream",
          "name": "stdout",
          "text": [
            "None\n",
            "<class 'NoneType'>\n"
          ]
        }
      ]
    },
    {
      "cell_type": "markdown",
      "metadata": {
        "id": "scgOs3yeDtti"
      },
      "source": [
        "Write a function `maximum(numbers)` that finds the maximum number in a list."
      ]
    },
    {
      "cell_type": "code",
      "metadata": {
        "id": "EkigXAXzDvyf"
      },
      "source": [
        "def maximum(numbers):\n",
        "    max = None\n",
        "    for num in numbers:\n",
        "        if max == None or num > max:\n",
        "            max = num\n",
        "    return max"
      ],
      "execution_count": null,
      "outputs": []
    },
    {
      "cell_type": "code",
      "metadata": {
        "id": "0NKmC4fKThyc",
        "colab": {
          "base_uri": "https://localhost:8080/"
        },
        "outputId": "34ab44c0-c4b2-490a-da55-26487d4eb9bb"
      },
      "source": [
        "print(maximum([1,2,3]))\n",
        "print(maximum([]))\n",
        "print(maximum([-1,-2,-3]))\n",
        "print(maximum([-700,-800]))"
      ],
      "execution_count": null,
      "outputs": [
        {
          "output_type": "stream",
          "name": "stdout",
          "text": [
            "3\n",
            "None\n",
            "-1\n",
            "-700\n"
          ]
        }
      ]
    },
    {
      "cell_type": "markdown",
      "metadata": {
        "id": "Y27MaZHDvUF_"
      },
      "source": [
        "Copy the table from topic 3.1.6: Data Types here, and fill in an extra row for the `NoneType` data type."
      ]
    },
    {
      "cell_type": "markdown",
      "metadata": {
        "id": "lHezovahucUF"
      },
      "source": [
        "Fill in the following summary of data types:\n",
        "\n",
        "\n",
        "Data Type | Declaration Examples | Printing Examples\n",
        "---|---|---\n",
        "string | x = \"hello there world!\"<br>x = \"5\"| 'hello there world!'<br>'5'\n",
        "integer | x = 5 | 5\n",
        "boolean | x = True<br>x = False|True<br>False\n",
        "float | x = 5.5 | 5.5\n",
        "NoneType | x = None | None\n",
        "\n"
      ]
    },
    {
      "cell_type": "markdown",
      "metadata": {
        "id": "RVpz4unYJtf0"
      },
      "source": [
        "# 2 - Exceptions\n",
        "\n",
        "When things go wrong..."
      ]
    },
    {
      "cell_type": "markdown",
      "metadata": {
        "id": "5fNllqHELp79"
      },
      "source": [
        "* An exception is an action that disrupts\n",
        "the normal flow of a program.\n",
        "* This action\n",
        "is often representative of an error being\n",
        "thrown.\n",
        "* Exceptions are ways that we can\n",
        "elegantly recover from errors."
      ]
    },
    {
      "cell_type": "markdown",
      "metadata": {
        "id": "stVDEaVnQVX-"
      },
      "source": [
        "Where have we seen exceptions before?"
      ]
    },
    {
      "cell_type": "code",
      "metadata": {
        "id": "VEXE9kbSJ2wp",
        "outputId": "989bf95e-6535-45e7-e710-f34da4f60f3c",
        "colab": {
          "base_uri": "https://localhost:8080/",
          "height": 196
        }
      },
      "source": [
        "num = 5\n",
        "print(\"My age is: \"+num)\n",
        "print(\"The line above doesn't matter. Let's keep going.\")"
      ],
      "execution_count": 2,
      "outputs": [
        {
          "output_type": "error",
          "ename": "TypeError",
          "evalue": "ignored",
          "traceback": [
            "\u001b[0;31m---------------------------------------------------------------------------\u001b[0m",
            "\u001b[0;31mTypeError\u001b[0m                                 Traceback (most recent call last)",
            "\u001b[0;32m<ipython-input-2-0a21b16557bc>\u001b[0m in \u001b[0;36m<module>\u001b[0;34m()\u001b[0m\n\u001b[1;32m      1\u001b[0m \u001b[0mnum\u001b[0m \u001b[0;34m=\u001b[0m \u001b[0;36m5\u001b[0m\u001b[0;34m\u001b[0m\u001b[0;34m\u001b[0m\u001b[0m\n\u001b[0;32m----> 2\u001b[0;31m \u001b[0mprint\u001b[0m\u001b[0;34m(\u001b[0m\u001b[0;34m\"My age is: \"\u001b[0m\u001b[0;34m+\u001b[0m\u001b[0mnum\u001b[0m\u001b[0;34m)\u001b[0m\u001b[0;34m\u001b[0m\u001b[0;34m\u001b[0m\u001b[0m\n\u001b[0m\u001b[1;32m      3\u001b[0m \u001b[0mprint\u001b[0m\u001b[0;34m(\u001b[0m\u001b[0;34m\"The line above doesn't matter. Let's keep going.\"\u001b[0m\u001b[0;34m)\u001b[0m\u001b[0;34m\u001b[0m\u001b[0;34m\u001b[0m\u001b[0m\n",
            "\u001b[0;31mTypeError\u001b[0m: can only concatenate str (not \"int\") to str"
          ]
        }
      ]
    },
    {
      "cell_type": "markdown",
      "metadata": {
        "id": "zk8p6k5nQUZ3"
      },
      "source": [
        "Can we recover from this more elegantly? (And even keep going with our program?)"
      ]
    },
    {
      "cell_type": "code",
      "metadata": {
        "id": "xKo_ISZKJ61v",
        "outputId": "66a33864-fb77-4cf6-b155-f3151610ec76",
        "colab": {
          "base_uri": "https://localhost:8080/",
          "height": 213
        }
      },
      "source": [
        "num = int(input(\"Enter a number: \"))\n",
        "divided = 10/num\n",
        "print(f\"Your answer is: {divided}\")"
      ],
      "execution_count": 5,
      "outputs": [
        {
          "name": "stdout",
          "output_type": "stream",
          "text": [
            "Enter a number: 0\n"
          ]
        },
        {
          "output_type": "error",
          "ename": "ZeroDivisionError",
          "evalue": "ignored",
          "traceback": [
            "\u001b[0;31m---------------------------------------------------------------------------\u001b[0m",
            "\u001b[0;31mZeroDivisionError\u001b[0m                         Traceback (most recent call last)",
            "\u001b[0;32m<ipython-input-5-863d6bd4df55>\u001b[0m in \u001b[0;36m<module>\u001b[0;34m()\u001b[0m\n\u001b[1;32m      1\u001b[0m \u001b[0mnum\u001b[0m \u001b[0;34m=\u001b[0m \u001b[0mint\u001b[0m\u001b[0;34m(\u001b[0m\u001b[0minput\u001b[0m\u001b[0;34m(\u001b[0m\u001b[0;34m\"Enter a number: \"\u001b[0m\u001b[0;34m)\u001b[0m\u001b[0;34m)\u001b[0m\u001b[0;34m\u001b[0m\u001b[0;34m\u001b[0m\u001b[0m\n\u001b[0;32m----> 2\u001b[0;31m \u001b[0mdivided\u001b[0m \u001b[0;34m=\u001b[0m \u001b[0;36m10\u001b[0m\u001b[0;34m/\u001b[0m\u001b[0mnum\u001b[0m\u001b[0;34m\u001b[0m\u001b[0;34m\u001b[0m\u001b[0m\n\u001b[0m\u001b[1;32m      3\u001b[0m \u001b[0mprint\u001b[0m\u001b[0;34m(\u001b[0m\u001b[0;34mf\"Your answer is: {divided}\"\u001b[0m\u001b[0;34m)\u001b[0m\u001b[0;34m\u001b[0m\u001b[0;34m\u001b[0m\u001b[0m\n",
            "\u001b[0;31mZeroDivisionError\u001b[0m: division by zero"
          ]
        }
      ]
    },
    {
      "cell_type": "code",
      "metadata": {
        "id": "ldM2CTQyOmNz",
        "outputId": "e181f0f1-b5b9-4cf3-863c-bcfaf97689cb",
        "colab": {
          "base_uri": "https://localhost:8080/"
        }
      },
      "source": [
        "num = int(input(\"Enter a number: \"))\n",
        "try:\n",
        "    divided = 10/num\n",
        "except:\n",
        "    # This code is executed if an exception occurred.\n",
        "    print(\"Your number messed up my program.\")\n",
        "print(f\"Your answer is: {divided}\")"
      ],
      "execution_count": 7,
      "outputs": [
        {
          "output_type": "stream",
          "name": "stdout",
          "text": [
            "Enter a number: 0\n",
            "Your number messed up my program.\n",
            "Your answer is: 10.0\n"
          ]
        }
      ]
    },
    {
      "cell_type": "code",
      "metadata": {
        "id": "1xJHiWg0O8Te",
        "outputId": "3dc3ad9f-22ff-4837-a182-92e20c5fde7a",
        "colab": {
          "base_uri": "https://localhost:8080/"
        }
      },
      "source": [
        "problem = True\n",
        "while problem:\n",
        "    num = int(input(\"Enter a number: \"))\n",
        "    try:\n",
        "        divided = 10/num\n",
        "    except:\n",
        "        # This code is executed if an exception occurred.\n",
        "        print(\"Your number messed up my program.\")\n",
        "        print(\"Please don't enter 0.\")\n",
        "    else:\n",
        "        # This code is executed if there was no exception in the try block.\n",
        "        problem = False\n",
        "\n",
        "    \n",
        "print(f\"Your answer is: {divided}\")"
      ],
      "execution_count": 9,
      "outputs": [
        {
          "output_type": "stream",
          "name": "stdout",
          "text": [
            "Enter a number: 0\n",
            "Your number messed up my program.\n",
            "Please don't enter 0.\n",
            "Enter a number: 0\n",
            "Your number messed up my program.\n",
            "Please don't enter 0.\n",
            "Enter a number: 0\n",
            "Your number messed up my program.\n",
            "Please don't enter 0.\n",
            "Enter a number: 5\n",
            "Your answer is: 2.0\n"
          ]
        }
      ]
    },
    {
      "cell_type": "markdown",
      "metadata": {
        "id": "eCT50GU7MtWV"
      },
      "source": [
        "Can we print out details of the exception?"
      ]
    },
    {
      "cell_type": "code",
      "metadata": {
        "id": "GvdhASaeMvvp",
        "outputId": "6c0c6a44-93d5-480a-c419-5a58de696769",
        "colab": {
          "base_uri": "https://localhost:8080/"
        }
      },
      "source": [
        "num = 5\n",
        "try:\n",
        "    print(\"My age is: \"+num)\n",
        "except Exception as e:\n",
        "    print(e)\n",
        "print(\"The line above doesn't matter. Let's keep going.\")"
      ],
      "execution_count": 10,
      "outputs": [
        {
          "output_type": "stream",
          "name": "stdout",
          "text": [
            "can only concatenate str (not \"int\") to str\n",
            "The line above doesn't matter. Let's keep going.\n"
          ]
        }
      ]
    },
    {
      "cell_type": "markdown",
      "metadata": {
        "id": "Q7PoxgLgNKJf"
      },
      "source": [
        "What happens if we are deep inside functions?"
      ]
    },
    {
      "cell_type": "code",
      "metadata": {
        "id": "BYmdOwTGNMvL",
        "outputId": "cd7c0ef7-563a-46f4-a888-f4dc7b6a9fe1",
        "colab": {
          "base_uri": "https://localhost:8080/",
          "height": 354
        }
      },
      "source": [
        "def level_one():\n",
        "    level_two()\n",
        "\n",
        "def level_two():\n",
        "    print(\"In level 2. Before 3 call.\")\n",
        "    level_three()\n",
        "    print(\"In level 2. After level 3 call.\")\n",
        "\n",
        "def level_three():\n",
        "    num = 5/0\n",
        "    print(\"In level 3.\")\n",
        "\n",
        "level_one()"
      ],
      "execution_count": 13,
      "outputs": [
        {
          "output_type": "stream",
          "name": "stdout",
          "text": [
            "In level 2. Before 3 call.\n"
          ]
        },
        {
          "output_type": "error",
          "ename": "ZeroDivisionError",
          "evalue": "ignored",
          "traceback": [
            "\u001b[0;31m---------------------------------------------------------------------------\u001b[0m",
            "\u001b[0;31mZeroDivisionError\u001b[0m                         Traceback (most recent call last)",
            "\u001b[0;32m<ipython-input-13-f13ece883ef1>\u001b[0m in \u001b[0;36m<module>\u001b[0;34m()\u001b[0m\n\u001b[1;32m     11\u001b[0m     \u001b[0mprint\u001b[0m\u001b[0;34m(\u001b[0m\u001b[0;34m\"In level 3.\"\u001b[0m\u001b[0;34m)\u001b[0m\u001b[0;34m\u001b[0m\u001b[0;34m\u001b[0m\u001b[0m\n\u001b[1;32m     12\u001b[0m \u001b[0;34m\u001b[0m\u001b[0m\n\u001b[0;32m---> 13\u001b[0;31m \u001b[0mlevel_one\u001b[0m\u001b[0;34m(\u001b[0m\u001b[0;34m)\u001b[0m\u001b[0;34m\u001b[0m\u001b[0;34m\u001b[0m\u001b[0m\n\u001b[0m",
            "\u001b[0;32m<ipython-input-13-f13ece883ef1>\u001b[0m in \u001b[0;36mlevel_one\u001b[0;34m()\u001b[0m\n\u001b[1;32m      1\u001b[0m \u001b[0;32mdef\u001b[0m \u001b[0mlevel_one\u001b[0m\u001b[0;34m(\u001b[0m\u001b[0;34m)\u001b[0m\u001b[0;34m:\u001b[0m\u001b[0;34m\u001b[0m\u001b[0;34m\u001b[0m\u001b[0m\n\u001b[0;32m----> 2\u001b[0;31m     \u001b[0mlevel_two\u001b[0m\u001b[0;34m(\u001b[0m\u001b[0;34m)\u001b[0m\u001b[0;34m\u001b[0m\u001b[0;34m\u001b[0m\u001b[0m\n\u001b[0m\u001b[1;32m      3\u001b[0m \u001b[0;34m\u001b[0m\u001b[0m\n\u001b[1;32m      4\u001b[0m \u001b[0;32mdef\u001b[0m \u001b[0mlevel_two\u001b[0m\u001b[0;34m(\u001b[0m\u001b[0;34m)\u001b[0m\u001b[0;34m:\u001b[0m\u001b[0;34m\u001b[0m\u001b[0;34m\u001b[0m\u001b[0m\n\u001b[1;32m      5\u001b[0m     \u001b[0mprint\u001b[0m\u001b[0;34m(\u001b[0m\u001b[0;34m\"In level 2. Before 3 call.\"\u001b[0m\u001b[0;34m)\u001b[0m\u001b[0;34m\u001b[0m\u001b[0;34m\u001b[0m\u001b[0m\n",
            "\u001b[0;32m<ipython-input-13-f13ece883ef1>\u001b[0m in \u001b[0;36mlevel_two\u001b[0;34m()\u001b[0m\n\u001b[1;32m      4\u001b[0m \u001b[0;32mdef\u001b[0m \u001b[0mlevel_two\u001b[0m\u001b[0;34m(\u001b[0m\u001b[0;34m)\u001b[0m\u001b[0;34m:\u001b[0m\u001b[0;34m\u001b[0m\u001b[0;34m\u001b[0m\u001b[0m\n\u001b[1;32m      5\u001b[0m     \u001b[0mprint\u001b[0m\u001b[0;34m(\u001b[0m\u001b[0;34m\"In level 2. Before 3 call.\"\u001b[0m\u001b[0;34m)\u001b[0m\u001b[0;34m\u001b[0m\u001b[0;34m\u001b[0m\u001b[0m\n\u001b[0;32m----> 6\u001b[0;31m     \u001b[0mlevel_three\u001b[0m\u001b[0;34m(\u001b[0m\u001b[0;34m)\u001b[0m\u001b[0;34m\u001b[0m\u001b[0;34m\u001b[0m\u001b[0m\n\u001b[0m\u001b[1;32m      7\u001b[0m     \u001b[0mprint\u001b[0m\u001b[0;34m(\u001b[0m\u001b[0;34m\"In level 2. After level 3 call.\"\u001b[0m\u001b[0;34m)\u001b[0m\u001b[0;34m\u001b[0m\u001b[0;34m\u001b[0m\u001b[0m\n\u001b[1;32m      8\u001b[0m \u001b[0;34m\u001b[0m\u001b[0m\n",
            "\u001b[0;32m<ipython-input-13-f13ece883ef1>\u001b[0m in \u001b[0;36mlevel_three\u001b[0;34m()\u001b[0m\n\u001b[1;32m      8\u001b[0m \u001b[0;34m\u001b[0m\u001b[0m\n\u001b[1;32m      9\u001b[0m \u001b[0;32mdef\u001b[0m \u001b[0mlevel_three\u001b[0m\u001b[0;34m(\u001b[0m\u001b[0;34m)\u001b[0m\u001b[0;34m:\u001b[0m\u001b[0;34m\u001b[0m\u001b[0;34m\u001b[0m\u001b[0m\n\u001b[0;32m---> 10\u001b[0;31m     \u001b[0mnum\u001b[0m \u001b[0;34m=\u001b[0m \u001b[0;36m5\u001b[0m\u001b[0;34m/\u001b[0m\u001b[0;36m0\u001b[0m\u001b[0;34m\u001b[0m\u001b[0;34m\u001b[0m\u001b[0m\n\u001b[0m\u001b[1;32m     11\u001b[0m     \u001b[0mprint\u001b[0m\u001b[0;34m(\u001b[0m\u001b[0;34m\"In level 3.\"\u001b[0m\u001b[0;34m)\u001b[0m\u001b[0;34m\u001b[0m\u001b[0;34m\u001b[0m\u001b[0m\n\u001b[1;32m     12\u001b[0m \u001b[0;34m\u001b[0m\u001b[0m\n",
            "\u001b[0;31mZeroDivisionError\u001b[0m: division by zero"
          ]
        }
      ]
    },
    {
      "cell_type": "code",
      "metadata": {
        "id": "LVRYTS_LQuuu",
        "outputId": "5095449a-bbd3-4157-c523-6aba147ed486",
        "colab": {
          "base_uri": "https://localhost:8080/"
        }
      },
      "source": [
        "def level_one():\n",
        "    level_two()\n",
        "\n",
        "def level_two():\n",
        "    print(\"In level 2. Before.\")\n",
        "    try:\n",
        "        level_three()\n",
        "    except:\n",
        "        print(\"In level 2. Something went wrong in level 3.\")\n",
        "    print(\"In level 3. After.\")\n",
        "\n",
        "def level_three():\n",
        "    num = 5/0\n",
        "\n",
        "level_one()"
      ],
      "execution_count": 14,
      "outputs": [
        {
          "output_type": "stream",
          "name": "stdout",
          "text": [
            "In level 2. Before.\n",
            "In level 2. Something went wrong in level 3.\n",
            "In level 3. After.\n"
          ]
        }
      ]
    },
    {
      "cell_type": "markdown",
      "metadata": {
        "id": "M4xjPjx0PPxG"
      },
      "source": [
        "`else` and `finally`"
      ]
    },
    {
      "cell_type": "code",
      "metadata": {
        "id": "UXnCbJzOPVCg",
        "outputId": "d93fe5f2-a6e7-4d7b-d0f2-65fed6c797c4",
        "colab": {
          "base_uri": "https://localhost:8080/"
        }
      },
      "source": [
        "try:\n",
        "    num = 5/5\n",
        "except:\n",
        "    print(\"Something went wrong.\")\n",
        "else:\n",
        "    print(\"Nothing went wrong.\")\n",
        "finally:\n",
        "    print(\"I want to do this whether or not something went wrong.\")\n",
        "    # Often used to close a file."
      ],
      "execution_count": 16,
      "outputs": [
        {
          "output_type": "stream",
          "name": "stdout",
          "text": [
            "Nothing went wrong.\n",
            "I want to do this whether or not something went wrong.\n"
          ]
        }
      ]
    },
    {
      "cell_type": "markdown",
      "metadata": {
        "id": "k8QBKZAFSRnh"
      },
      "source": [
        "# How Functions Work"
      ]
    },
    {
      "cell_type": "markdown",
      "metadata": {
        "id": "BNsv7x3dLJom"
      },
      "source": [
        "# 3 - Recursion\n",
        "\n",
        "> 4B5A"
      ]
    },
    {
      "cell_type": "markdown",
      "metadata": {
        "id": "wEzpLPivLSaI"
      },
      "source": [
        "Write a function that, when given a number, prints out that many asterisks."
      ]
    },
    {
      "cell_type": "code",
      "metadata": {
        "id": "RYt3tBQJLWHI",
        "outputId": "e81714fd-ed38-4d36-bf6d-b34c37332bd8",
        "colab": {
          "base_uri": "https://localhost:8080/"
        }
      },
      "source": [
        "def asterisks(num):\n",
        "    i = 0\n",
        "    while i < num:\n",
        "        print(\"*\", end=\"\")\n",
        "        i = i+1\n",
        "\n",
        "asterisks(3)"
      ],
      "execution_count": 18,
      "outputs": [
        {
          "output_type": "stream",
          "name": "stdout",
          "text": [
            "***"
          ]
        }
      ]
    },
    {
      "cell_type": "code",
      "metadata": {
        "id": "Zf9qwtEKZFx_",
        "outputId": "5fbcd800-33e6-4dd1-e954-6d5020772940",
        "colab": {
          "base_uri": "https://localhost:8080/"
        }
      },
      "source": [
        "def asterisks(num):\n",
        "    while num > 0:\n",
        "        print(\"*\", end=\"\")\n",
        "        num = num -1\n",
        "\n",
        "asterisks(3)"
      ],
      "execution_count": 21,
      "outputs": [
        {
          "output_type": "stream",
          "name": "stdout",
          "text": [
            "***"
          ]
        }
      ]
    },
    {
      "cell_type": "markdown",
      "metadata": {
        "id": "0JOvedFlLcld"
      },
      "source": [
        "Wrtie the same function, but use recursion instead."
      ]
    },
    {
      "cell_type": "code",
      "metadata": {
        "id": "qd38W7hSLetP",
        "outputId": "b82842e7-692d-4ca3-8332-4bd804581f8b",
        "colab": {
          "base_uri": "https://localhost:8080/"
        }
      },
      "source": [
        "def asterisks(num):\n",
        "    if num <= 0:\n",
        "        return\n",
        "    else:\n",
        "        print(\"*\", end=\"\")\n",
        "        asterisks(num-1)\n",
        "\n",
        "asterisks(5)"
      ],
      "execution_count": 20,
      "outputs": [
        {
          "output_type": "stream",
          "name": "stdout",
          "text": [
            "*****"
          ]
        }
      ]
    },
    {
      "cell_type": "markdown",
      "metadata": {
        "id": "LUUqrM8VLWpM"
      },
      "source": [
        "Write a function that, when given a number, returns a string with that many asterisks."
      ]
    },
    {
      "cell_type": "code",
      "metadata": {
        "id": "pLIKCa5ZLaZ3",
        "outputId": "69503a38-2f95-49b0-f084-c36e73144e1b",
        "colab": {
          "base_uri": "https://localhost:8080/"
        }
      },
      "source": [
        "# Iterative\n",
        "def ret_asterisks(num):\n",
        "    result = \"\"\n",
        "    while num > 0:\n",
        "        result = result + \"*\"\n",
        "        num = num - 1\n",
        "    return result\n",
        "\n",
        "print(ret_asterisks(5))"
      ],
      "execution_count": 22,
      "outputs": [
        {
          "output_type": "stream",
          "name": "stdout",
          "text": [
            "*****\n"
          ]
        }
      ]
    },
    {
      "cell_type": "code",
      "metadata": {
        "id": "ZtEdNYzvL3yy",
        "outputId": "b9dd5ce7-5fcc-478e-f701-6ab1296c0e68",
        "colab": {
          "base_uri": "https://localhost:8080/"
        }
      },
      "source": [
        "# Recursive\n",
        "def ret_asterisks(num):\n",
        "    if num <= 0:\n",
        "        return \"\"\n",
        "    else:\n",
        "        # get a string of asterisks, num-1 in length\n",
        "        result = ret_asterisks(num-1)\n",
        "        # add one asterisk to our string\n",
        "        result = result + \"*\"\n",
        "        # return it\n",
        "        return result\n",
        "\n",
        "print(ret_asterisks(4))"
      ],
      "execution_count": 24,
      "outputs": [
        {
          "output_type": "stream",
          "name": "stdout",
          "text": [
            "****\n"
          ]
        }
      ]
    },
    {
      "cell_type": "markdown",
      "metadata": {
        "id": "3QXDpZjYyxAZ"
      },
      "source": [
        "Write a function that, when given a number, prints out the numbers up to that number."
      ]
    },
    {
      "cell_type": "code",
      "metadata": {
        "id": "kITOwebHywob"
      },
      "source": [
        "# Iterative"
      ],
      "execution_count": null,
      "outputs": []
    },
    {
      "cell_type": "code",
      "metadata": {
        "id": "UQovWlSky3R-"
      },
      "source": [
        "# Recursive"
      ],
      "execution_count": null,
      "outputs": []
    },
    {
      "cell_type": "markdown",
      "metadata": {
        "id": "QSX3qbxOL0ND"
      },
      "source": [
        "Write a function that computes the factorial of a given number"
      ]
    },
    {
      "cell_type": "code",
      "metadata": {
        "id": "JIK-XpPCL1MA"
      },
      "source": [
        "# Iterative"
      ],
      "execution_count": null,
      "outputs": []
    },
    {
      "cell_type": "code",
      "metadata": {
        "id": "Asj31SlpL7d6"
      },
      "source": [
        "# Recursive"
      ],
      "execution_count": null,
      "outputs": []
    },
    {
      "cell_type": "markdown",
      "metadata": {
        "id": "XOv4LnJ0LOQw"
      },
      "source": [
        "Write a function that, when given a list, returns a new list that is the reverse of it."
      ]
    },
    {
      "cell_type": "code",
      "metadata": {
        "id": "lFTK4fTQLROP"
      },
      "source": [
        "# Iterative"
      ],
      "execution_count": null,
      "outputs": []
    },
    {
      "cell_type": "code",
      "metadata": {
        "id": "gI8131NmL-Ki"
      },
      "source": [
        "# Recursive"
      ],
      "execution_count": null,
      "outputs": []
    },
    {
      "cell_type": "markdown",
      "metadata": {
        "id": "1JHlGGzR6AF_"
      },
      "source": [
        "# Feedback (Topic 3.6)\n",
        "\n",
        "[https://forms.gle/Uod5Jpr7AJ2z7cHLA](https://forms.gle/Uod5Jpr7AJ2z7cHLA)\n",
        "\n",
        "![](https://i.imgur.com/0L50D4L.png)"
      ]
    }
  ]
}