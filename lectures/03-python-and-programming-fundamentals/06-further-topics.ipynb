{
  "nbformat": 4,
  "nbformat_minor": 0,
  "metadata": {
    "colab": {
      "name": "06-further-topics.ipynb",
      "provenance": [],
      "authorship_tag": "ABX9TyMYkuIryQ8v6MDmK0YdovYL",
      "include_colab_link": true
    },
    "kernelspec": {
      "name": "python3",
      "display_name": "Python 3"
    },
    "language_info": {
      "name": "python"
    }
  },
  "cells": [
    {
      "cell_type": "markdown",
      "metadata": {
        "id": "view-in-github",
        "colab_type": "text"
      },
      "source": [
        "<a href=\"https://colab.research.google.com/github/sim-mautner/cs1010-21t3/blob/main/lectures/03-python-and-programming-fundamentals/06-further-topics.ipynb\" target=\"_parent\"><img src=\"https://colab.research.google.com/assets/colab-badge.svg\" alt=\"Open In Colab\"/></a>"
      ]
    },
    {
      "cell_type": "markdown",
      "metadata": {
        "id": "DZASYuPR5kI3"
      },
      "source": [
        "> Topic 3<br>\n",
        "> Python and Programming Fundamentals<br>\n",
        "> COMP1010 2021 T3<br>\n",
        "> Week 1-3\n",
        "\n",
        "> Topic 3.6<br>\n",
        "> Further Topics"
      ]
    },
    {
      "cell_type": "markdown",
      "metadata": {
        "id": "E_NZ3hENDnVP"
      },
      "source": [
        "# 1 - Data Types: NoneType\n",
        "\n",
        "`None` is a special value in Python we can use to represent values that are unknown.\n",
        "\n",
        "**Important Info**:\n",
        "\n",
        "* The type of `None` is `NoneType`. It is the only value of that type.\n",
        "* Python has special support for dealing with `None` values in `if` statements."
      ]
    },
    {
      "cell_type": "code",
      "metadata": {
        "id": "UwgjpWp1TNrM",
        "outputId": "7faf4740-ded3-4c9e-ad84-d01cdc0f2dcb",
        "colab": {
          "base_uri": "https://localhost:8080/"
        }
      },
      "source": [
        "a = None\n",
        "print(a)\n",
        "print(type(a))"
      ],
      "execution_count": 1,
      "outputs": [
        {
          "output_type": "stream",
          "name": "stdout",
          "text": [
            "None\n",
            "<class 'NoneType'>\n"
          ]
        }
      ]
    },
    {
      "cell_type": "markdown",
      "metadata": {
        "id": "scgOs3yeDtti"
      },
      "source": [
        "Write a function `maximum(numbers)` that finds the maximum number in a list."
      ]
    },
    {
      "cell_type": "code",
      "metadata": {
        "id": "EkigXAXzDvyf"
      },
      "source": [
        "def maximum(numbers):\n",
        "    max = None\n",
        "    for num in numbers:\n",
        "        if max == None or num > max:\n",
        "            max = num\n",
        "    return max"
      ],
      "execution_count": 7,
      "outputs": []
    },
    {
      "cell_type": "code",
      "metadata": {
        "id": "0NKmC4fKThyc",
        "outputId": "34ab44c0-c4b2-490a-da55-26487d4eb9bb",
        "colab": {
          "base_uri": "https://localhost:8080/"
        }
      },
      "source": [
        "print(maximum([1,2,3]))\n",
        "print(maximum([]))\n",
        "print(maximum([-1,-2,-3]))\n",
        "print(maximum([-700,-800]))"
      ],
      "execution_count": 8,
      "outputs": [
        {
          "output_type": "stream",
          "name": "stdout",
          "text": [
            "3\n",
            "None\n",
            "-1\n",
            "-700\n"
          ]
        }
      ]
    },
    {
      "cell_type": "markdown",
      "metadata": {
        "id": "Y27MaZHDvUF_"
      },
      "source": [
        "Copy the table from topic 3.1.6: Data Types here, and fill in an extra row for the `NoneType` data type."
      ]
    },
    {
      "cell_type": "markdown",
      "metadata": {
        "id": "lHezovahucUF"
      },
      "source": [
        "Fill in the following summary of data types:\n",
        "\n",
        "\n",
        "Data Type | Declaration Examples | Printing Examples\n",
        "---|---|---\n",
        "string | x = \"hello there world!\"<br>x = \"5\"| 'hello there world!'<br>'5'\n",
        "integer | x = 5 | 5\n",
        "boolean | x = True<br>x = False|True<br>False\n",
        "float | x = 5.5 | 5.5\n",
        "NoneType | x = None | None\n",
        "\n"
      ]
    },
    {
      "cell_type": "markdown",
      "metadata": {
        "id": "RVpz4unYJtf0"
      },
      "source": [
        "# 2 - Exceptions\n",
        "\n",
        "When things go wrong..."
      ]
    },
    {
      "cell_type": "markdown",
      "metadata": {
        "id": "5fNllqHELp79"
      },
      "source": [
        "* An exception is an action that disrupts\n",
        "the normal flow of a program.\n",
        "* This action\n",
        "is often representative of an error being\n",
        "thrown.\n",
        "* Exceptions are ways that we can\n",
        "elegantly recover from errors."
      ]
    },
    {
      "cell_type": "markdown",
      "metadata": {
        "id": "stVDEaVnQVX-"
      },
      "source": [
        "Where have we seen exceptions before?"
      ]
    },
    {
      "cell_type": "code",
      "metadata": {
        "id": "VEXE9kbSJ2wp"
      },
      "source": [
        ""
      ],
      "execution_count": null,
      "outputs": []
    },
    {
      "cell_type": "markdown",
      "metadata": {
        "id": "zk8p6k5nQUZ3"
      },
      "source": [
        "Can we recover from this more elegantly? (And even keep going with our program?)"
      ]
    },
    {
      "cell_type": "code",
      "metadata": {
        "id": "xKo_ISZKJ61v"
      },
      "source": [
        ""
      ],
      "execution_count": null,
      "outputs": []
    },
    {
      "cell_type": "markdown",
      "metadata": {
        "id": "eCT50GU7MtWV"
      },
      "source": [
        "Can we print out details of the exception?"
      ]
    },
    {
      "cell_type": "code",
      "metadata": {
        "id": "GvdhASaeMvvp"
      },
      "source": [
        ""
      ],
      "execution_count": null,
      "outputs": []
    },
    {
      "cell_type": "markdown",
      "metadata": {
        "id": "Q7PoxgLgNKJf"
      },
      "source": [
        "What happens if we are deep inside functions?"
      ]
    },
    {
      "cell_type": "code",
      "metadata": {
        "id": "BYmdOwTGNMvL"
      },
      "source": [
        ""
      ],
      "execution_count": null,
      "outputs": []
    },
    {
      "cell_type": "markdown",
      "metadata": {
        "id": "M4xjPjx0PPxG"
      },
      "source": [
        "`else` and `finally`"
      ]
    },
    {
      "cell_type": "code",
      "metadata": {
        "id": "UXnCbJzOPVCg"
      },
      "source": [
        ""
      ],
      "execution_count": null,
      "outputs": []
    },
    {
      "cell_type": "markdown",
      "metadata": {
        "id": "BNsv7x3dLJom"
      },
      "source": [
        "# 3 - Recursion\n",
        "\n",
        "> 4B5A"
      ]
    },
    {
      "cell_type": "markdown",
      "metadata": {
        "id": "wEzpLPivLSaI"
      },
      "source": [
        "Write a function that, when given a number, prints out that many asterisks."
      ]
    },
    {
      "cell_type": "code",
      "metadata": {
        "id": "RYt3tBQJLWHI"
      },
      "source": [
        ""
      ],
      "execution_count": null,
      "outputs": []
    },
    {
      "cell_type": "markdown",
      "metadata": {
        "id": "0JOvedFlLcld"
      },
      "source": [
        "Wrtie the same function, but use recursion instead."
      ]
    },
    {
      "cell_type": "code",
      "metadata": {
        "id": "qd38W7hSLetP"
      },
      "source": [
        ""
      ],
      "execution_count": null,
      "outputs": []
    },
    {
      "cell_type": "markdown",
      "metadata": {
        "id": "LUUqrM8VLWpM"
      },
      "source": [
        "Write a function that, when given a number, returns a string with that many asterisks."
      ]
    },
    {
      "cell_type": "code",
      "metadata": {
        "id": "pLIKCa5ZLaZ3"
      },
      "source": [
        "# Iterative"
      ],
      "execution_count": null,
      "outputs": []
    },
    {
      "cell_type": "code",
      "metadata": {
        "id": "ZtEdNYzvL3yy"
      },
      "source": [
        "# Recursive"
      ],
      "execution_count": null,
      "outputs": []
    },
    {
      "cell_type": "markdown",
      "metadata": {
        "id": "3QXDpZjYyxAZ"
      },
      "source": [
        "Write a function that, when given a number, prints out the numbers up to that number."
      ]
    },
    {
      "cell_type": "code",
      "metadata": {
        "id": "kITOwebHywob"
      },
      "source": [
        "# Iterative"
      ],
      "execution_count": null,
      "outputs": []
    },
    {
      "cell_type": "code",
      "metadata": {
        "id": "UQovWlSky3R-"
      },
      "source": [
        "# Recursive"
      ],
      "execution_count": null,
      "outputs": []
    },
    {
      "cell_type": "markdown",
      "metadata": {
        "id": "QSX3qbxOL0ND"
      },
      "source": [
        "Write a function that computes the factorial of a given number"
      ]
    },
    {
      "cell_type": "code",
      "metadata": {
        "id": "JIK-XpPCL1MA"
      },
      "source": [
        "# Iterative"
      ],
      "execution_count": null,
      "outputs": []
    },
    {
      "cell_type": "code",
      "metadata": {
        "id": "Asj31SlpL7d6"
      },
      "source": [
        "# Recursive"
      ],
      "execution_count": null,
      "outputs": []
    },
    {
      "cell_type": "markdown",
      "metadata": {
        "id": "XOv4LnJ0LOQw"
      },
      "source": [
        "Write a function that, when given a list, returns a new list that is the reverse of it."
      ]
    },
    {
      "cell_type": "code",
      "metadata": {
        "id": "lFTK4fTQLROP"
      },
      "source": [
        "# Iterative"
      ],
      "execution_count": null,
      "outputs": []
    },
    {
      "cell_type": "code",
      "metadata": {
        "id": "gI8131NmL-Ki"
      },
      "source": [
        "# Recursive"
      ],
      "execution_count": null,
      "outputs": []
    },
    {
      "cell_type": "markdown",
      "metadata": {
        "id": "1JHlGGzR6AF_"
      },
      "source": [
        "# Feedback (Topic 3.6)\n",
        "\n",
        "[https://forms.gle/Uod5Jpr7AJ2z7cHLA](https://forms.gle/Uod5Jpr7AJ2z7cHLA)\n",
        "\n",
        "![](https://i.imgur.com/0L50D4L.png)"
      ]
    }
  ]
}