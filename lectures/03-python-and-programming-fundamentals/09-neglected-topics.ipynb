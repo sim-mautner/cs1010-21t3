{
  "nbformat": 4,
  "nbformat_minor": 0,
  "metadata": {
    "colab": {
      "name": "09-neglected-topics.ipynb",
      "provenance": [],
      "authorship_tag": "ABX9TyNNuctMaExN3oRmPzdX7srb",
      "include_colab_link": true
    },
    "kernelspec": {
      "name": "python3",
      "display_name": "Python 3"
    },
    "language_info": {
      "name": "python"
    }
  },
  "cells": [
    {
      "cell_type": "markdown",
      "metadata": {
        "id": "view-in-github",
        "colab_type": "text"
      },
      "source": [
        "<a href=\"https://colab.research.google.com/github/sim-mautner/cs1010-21t3/blob/main/lectures/03-python-and-programming-fundamentals/09-neglected-topics.ipynb\" target=\"_parent\"><img src=\"https://colab.research.google.com/assets/colab-badge.svg\" alt=\"Open In Colab\"/></a>"
      ]
    },
    {
      "cell_type": "markdown",
      "metadata": {
        "id": "Jb67I5W-GzRP"
      },
      "source": [
        "## Split"
      ]
    },
    {
      "cell_type": "code",
      "metadata": {
        "colab": {
          "base_uri": "https://localhost:8080/"
        },
        "id": "rREglkhJGqFV",
        "outputId": "b7658100-aaf1-4f6a-e41d-87b7c1228135"
      },
      "source": [
        "text = \"When he himself might his quietus make, with a bare bodkin who would fardels bear.\"\n",
        "broken_text = text.split()\n",
        "print(broken_text)"
      ],
      "execution_count": 5,
      "outputs": [
        {
          "output_type": "stream",
          "name": "stdout",
          "text": [
            "['When', 'he', 'himself', 'might', 'his', 'quietus', 'make,', 'with', 'a', 'bare', 'bodkin', 'who', 'would', 'fardels', 'bear.']\n"
          ]
        }
      ]
    },
    {
      "cell_type": "markdown",
      "metadata": {
        "id": "0FVoMyCUG1Qc"
      },
      "source": [
        "## Join"
      ]
    },
    {
      "cell_type": "code",
      "metadata": {
        "colab": {
          "base_uri": "https://localhost:8080/"
        },
        "id": "n95pKmTkG2dc",
        "outputId": "9d28e468-6f6f-451d-d89e-cf8675dda921"
      },
      "source": [
        "joined_text = \" \".join(broken_text)\n",
        "print(joined_text)"
      ],
      "execution_count": 9,
      "outputs": [
        {
          "output_type": "stream",
          "name": "stdout",
          "text": [
            "When he himself might his quietus make, with a bare bodkin who would fardels bear.\n"
          ]
        }
      ]
    }
  ]
}