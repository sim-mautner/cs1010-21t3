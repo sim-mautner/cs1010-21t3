{
  "nbformat": 4,
  "nbformat_minor": 0,
  "metadata": {
    "colab": {
      "name": "02-control-flow.ipynb",
      "provenance": [],
      "toc_visible": true,
      "authorship_tag": "ABX9TyM3rK2ygb/3ytlePhf275my",
      "include_colab_link": true
    },
    "kernelspec": {
      "name": "python3",
      "display_name": "Python 3"
    },
    "language_info": {
      "name": "python"
    }
  },
  "cells": [
    {
      "cell_type": "markdown",
      "metadata": {
        "id": "view-in-github",
        "colab_type": "text"
      },
      "source": [
        "<a href=\"https://colab.research.google.com/github/sim-mautner/cs1010-21t3/blob/main/lectures/03-python-and-programming-fundamentals/scaffold/02-control-flow.ipynb\" target=\"_parent\"><img src=\"https://colab.research.google.com/assets/colab-badge.svg\" alt=\"Open In Colab\"/></a>"
      ]
    },
    {
      "cell_type": "markdown",
      "metadata": {
        "id": "DZASYuPR5kI3"
      },
      "source": [
        "> Topic 3<br>\n",
        "> Python and Programming Fundamentals<br>\n",
        "> COMP1010 2021 T3<br>\n",
        "> Week 1-3\n",
        "\n",
        "> Topic 3.2<br>\n",
        "> Control Flow"
      ]
    },
    {
      "cell_type": "markdown",
      "metadata": {
        "id": "0368ktSurcTf"
      },
      "source": [
        "# 2.1 - Conditionals"
      ]
    },
    {
      "cell_type": "markdown",
      "metadata": {
        "id": "o_7e49apRLPS"
      },
      "source": [
        "## if\n",
        "\n",
        "```\n",
        "if condition:\n",
        "  code_to_execute_if_condition_is_true\n",
        "```\n",
        "\n",
        "\n",
        "\n",
        "What happens if the condition is `True`?"
      ]
    },
    {
      "cell_type": "code",
      "metadata": {
        "id": "ujDJWU7hrJTI"
      },
      "source": [
        ""
      ],
      "execution_count": null,
      "outputs": []
    },
    {
      "cell_type": "markdown",
      "metadata": {
        "id": "Ls5OhTbhr3gN"
      },
      "source": [
        "What happens if the condition is `False`?"
      ]
    },
    {
      "cell_type": "code",
      "metadata": {
        "id": "-3JVINAbr6YR"
      },
      "source": [
        ""
      ],
      "execution_count": null,
      "outputs": []
    },
    {
      "cell_type": "markdown",
      "metadata": {
        "id": "0rLJlS15s1TQ"
      },
      "source": [
        "Can we have multiple lines of code to execute?"
      ]
    },
    {
      "cell_type": "code",
      "metadata": {
        "id": "5GVhji6AtRmj"
      },
      "source": [
        ""
      ],
      "execution_count": null,
      "outputs": []
    },
    {
      "cell_type": "markdown",
      "metadata": {
        "id": "qSDrVBLHr8tU"
      },
      "source": [
        "Does the indentation matter?"
      ]
    },
    {
      "cell_type": "code",
      "metadata": {
        "id": "x6kpZjREtRW-"
      },
      "source": [
        ""
      ],
      "execution_count": null,
      "outputs": []
    },
    {
      "cell_type": "markdown",
      "metadata": {
        "id": "693LDbk6uCQY"
      },
      "source": [
        "## Testing Variables and Creating Conditions"
      ]
    },
    {
      "cell_type": "markdown",
      "metadata": {
        "id": "nt-AoOUruhyK"
      },
      "source": [
        "Can we create a variable with a boolean to test?\n",
        "\n",
        "* `not`"
      ]
    },
    {
      "cell_type": "code",
      "metadata": {
        "colab": {
          "base_uri": "https://localhost:8080/"
        },
        "id": "TTS8JF7uuoZp",
        "outputId": "5b1aaaed-906d-4f20-974e-304d8774980b"
      },
      "source": [
        ""
      ],
      "execution_count": null,
      "outputs": [
        {
          "output_type": "stream",
          "text": [
            "here\n"
          ],
          "name": "stdout"
        }
      ]
    },
    {
      "cell_type": "markdown",
      "metadata": {
        "id": "A-DTcDRpuoqG"
      },
      "source": [
        "Can we create an integer to test?\n",
        "\n",
        "* ==\n",
        "* !=\n",
        "* \\>\n",
        "* <\n",
        "* <=\n",
        "* \\>="
      ]
    },
    {
      "cell_type": "code",
      "metadata": {
        "id": "Kci8FX_juhX9"
      },
      "source": [
        ""
      ],
      "execution_count": null,
      "outputs": []
    },
    {
      "cell_type": "markdown",
      "metadata": {
        "id": "hh8PwWRmwLYH"
      },
      "source": [
        "Can we create a string to test?\n",
        "\n",
        "* ==\n",
        "* !="
      ]
    },
    {
      "cell_type": "code",
      "metadata": {
        "id": "bzgFtvsWwN4H"
      },
      "source": [
        "\n"
      ],
      "execution_count": null,
      "outputs": []
    },
    {
      "cell_type": "markdown",
      "metadata": {
        "id": "vL6uZVZjwt6d"
      },
      "source": [
        "What happens if we use > and < on strings?"
      ]
    },
    {
      "cell_type": "code",
      "metadata": {
        "id": "IO7URFOJww7b"
      },
      "source": [
        ""
      ],
      "execution_count": null,
      "outputs": []
    },
    {
      "cell_type": "markdown",
      "metadata": {
        "id": "MK7ri_tSt05T"
      },
      "source": [
        "## else\n",
        "\n",
        "```\n",
        "if condition:\n",
        "  code_if_true\n",
        "else:\n",
        "  code_if_false\n",
        "```\n",
        "\n"
      ]
    },
    {
      "cell_type": "markdown",
      "metadata": {
        "id": "Dty2p3QOyP7V"
      },
      "source": [
        "## elif\n",
        "\n",
        "```\n",
        "if condition:\n",
        "  code_if_true\n",
        "elif condition_2:\n",
        "  code_if_condition1_false_and_condition2_true \n",
        "else:\n",
        "  code_if_false\n",
        "```\n",
        "\n",
        "* You must have exactly one `if`.\n",
        "* You may have 0 or more (as many as you'd like) `elif`.\n",
        "* You may have 0 or 1 `else`.\n",
        "* The order matters. Both for `if`, `elif`, `else` and for the order of the `elif`s."
      ]
    },
    {
      "cell_type": "markdown",
      "metadata": {
        "id": "335MMrGxBpup"
      },
      "source": [
        "<a name='eg_ready_to_lecture_cell'></a>\n",
        "## Example: Getting Ready to Lecture Online\n",
        "\n",
        "Lecturing from home means that I have my bed in the background of my webcam. This means that each day, before I lecture, I prefer to make my bed.\n",
        "\n",
        "(a) Write some code which:\n",
        "1. Declares a boolean `bed_made` to be `True` or `False`.\n",
        "2. Depending on the value of `bed_made`, display \"Go make your bed.\" or \"Ready to lecture.\""
      ]
    },
    {
      "cell_type": "code",
      "metadata": {
        "id": "2kooY55xCCv4"
      },
      "source": [
        ""
      ],
      "execution_count": null,
      "outputs": []
    },
    {
      "cell_type": "markdown",
      "metadata": {
        "id": "-7TjfhgZCDD5"
      },
      "source": [
        "(Continuing from previous question...)\n",
        "\n",
        "(b) Some days, I'm running late and I don't have time to make my bed, and end up giving lectures even if my bed is still unmade.\n",
        "\n",
        "Copy the code from the previous question and:\n",
        "1. Add a boolean `on_time` to be `True` or `False`.\n",
        "2. Depending on the values of `bed_made` and `on_time` display \"Go make your bed.\", \"Ready to lecture.\" or \"No time to make your bed. Go lecture anyway.\""
      ]
    },
    {
      "cell_type": "code",
      "metadata": {
        "id": "sI6nSImnCh9I"
      },
      "source": [
        ""
      ],
      "execution_count": null,
      "outputs": []
    },
    {
      "cell_type": "markdown",
      "metadata": {
        "id": "bvqyuwoDCiU5"
      },
      "source": [
        "(c) Can you implement the above code in a different way? (Enter at least 4 different ways of implementing the code.)\n",
        "\n"
      ]
    },
    {
      "cell_type": "code",
      "metadata": {
        "id": "3EUy369TClD4"
      },
      "source": [
        ""
      ],
      "execution_count": null,
      "outputs": []
    },
    {
      "cell_type": "markdown",
      "metadata": {
        "id": "BnwzKHfrEXIh"
      },
      "source": [
        "**A note about plagiarism in writing computer programs.**"
      ]
    },
    {
      "cell_type": "markdown",
      "metadata": {
        "id": "QTO1tK_dCzWE"
      },
      "source": [
        "(d) Implement the above code, but take into consideration that I also like to have a water bottle on my desk before I start lecturing.\n",
        "\n",
        "The outputs are now:\n",
        "* No time to get ready. Start lecturing now.\n",
        "* Ready to lecture.\n",
        "* Get your water bottle.\n",
        "* Go make your bed."
      ]
    },
    {
      "cell_type": "code",
      "metadata": {
        "id": "bdpdieZYrAIz"
      },
      "source": [
        ""
      ],
      "execution_count": null,
      "outputs": []
    },
    {
      "cell_type": "markdown",
      "metadata": {
        "id": "Dq6fWE4oY9_P"
      },
      "source": [
        "# 2.2 - User Text Input\n",
        "\n",
        "* Get input from the user:\n",
        "`input()`\n",
        "* Put a prompt telling the user what they should be entering:\n",
        "`input(prompt)`\n",
        "* Save what the user inputs:\n",
        "`variable = input()`"
      ]
    },
    {
      "cell_type": "code",
      "metadata": {
        "id": "z-8NF2xdZCub"
      },
      "source": [
        ""
      ],
      "execution_count": null,
      "outputs": []
    },
    {
      "cell_type": "code",
      "metadata": {
        "id": "EAwF-3-DAaQo"
      },
      "source": [
        ""
      ],
      "execution_count": null,
      "outputs": []
    },
    {
      "cell_type": "markdown",
      "metadata": {
        "id": "fvKZYreWZcrQ"
      },
      "source": [
        "Write some code which asks the user for their name. If they enter \"Sim\", then say \"Hello Sim\". If they enter any other name, say \"Goodbye\"."
      ]
    },
    {
      "cell_type": "code",
      "metadata": {
        "id": "50fqNw9xBBGI"
      },
      "source": [
        ""
      ],
      "execution_count": null,
      "outputs": []
    },
    {
      "cell_type": "markdown",
      "metadata": {
        "id": "mBrpzl21BBZ_"
      },
      "source": [
        "Write some code which asks the user for their name. If they enter one word (no spaces) display \"Hello \\<name\\>\". If they enter more than one word, display \"Goodbye\"."
      ]
    },
    {
      "cell_type": "code",
      "metadata": {
        "id": "I1aiz-OUBQqO"
      },
      "source": [
        ""
      ],
      "execution_count": null,
      "outputs": []
    },
    {
      "cell_type": "markdown",
      "metadata": {
        "id": "Gle9bA2XwlK-"
      },
      "source": [
        "<a name='eg_password_evaluator_cell'></a>\n",
        "Example: Password Evaluator\n",
        "\n",
        "Write some code which asks the user to suggest a password, and then displays:\n",
        "* \"Strong\" if the password is 12 or more characters, and contains both upper and lower case characters\n",
        "* \"Weak\" if the password satisfies only one of the above conditions\n",
        "* \"Very weak\" if the password satisfies neither of the above conditions."
      ]
    },
    {
      "cell_type": "code",
      "metadata": {
        "id": "59M-Wcf1wrVJ"
      },
      "source": [
        ""
      ],
      "execution_count": null,
      "outputs": []
    },
    {
      "cell_type": "markdown",
      "metadata": {
        "id": "YkNbABqZcwVC"
      },
      "source": [
        "# 2.3 - Loops"
      ]
    },
    {
      "cell_type": "markdown",
      "metadata": {
        "id": "-4TeqaL8CRM9"
      },
      "source": [
        "## While Loops\n",
        "\n",
        "```\n",
        "while condition:\n",
        "  code_to_execute_while_condition_is_true\n",
        "```\n",
        "\n",
        "Following on from the [password evaluator](#eg_password_evaluator_cell) example, what happens if the user enters a password which doesn't satisfy the requirements? Can we ask them to keep entering passwords until they choose a \"strong\" password?"
      ]
    },
    {
      "cell_type": "code",
      "metadata": {
        "id": "GEpm1mgveFOJ"
      },
      "source": [
        ""
      ],
      "execution_count": null,
      "outputs": []
    },
    {
      "cell_type": "markdown",
      "metadata": {
        "id": "qK27eu5W59Xl"
      },
      "source": [
        "Is there a better way to do this?\n",
        "\n",
        "In short, we want to keep doing the same thing over and over again, until a condition is met.\n",
        "\n",
        "> Demo:\n",
        "> * Control flow in loops in general\n",
        "> * Control flow in this example\n",
        "\n"
      ]
    },
    {
      "cell_type": "code",
      "metadata": {
        "id": "WN_9P0QF6G3T"
      },
      "source": [
        ""
      ],
      "execution_count": null,
      "outputs": []
    },
    {
      "cell_type": "markdown",
      "metadata": {
        "id": "4KXXnG4tfj35"
      },
      "source": [
        "<a name='eg_square_numbers_cell'></a>\n",
        "### Example: Square Numbers\n",
        "\n",
        "> Demo:\n",
        "> * What are square numbers? How do we calculate them?\n",
        "> * How do we write this code?\n",
        "\n",
        "Write some code which takes in a number from the user, and prints out the numbers from 1 up to that number, and the squares of those numbers.\n",
        "\n",
        "```\n",
        "Enter a number: 5\n",
        "\n",
        "1 1\n",
        "2 4\n",
        "3 9\n",
        "4 16\n",
        "```"
      ]
    },
    {
      "cell_type": "code",
      "metadata": {
        "id": "rWytniVuDNXz"
      },
      "source": [
        ""
      ],
      "execution_count": null,
      "outputs": []
    },
    {
      "cell_type": "markdown",
      "metadata": {
        "id": "MZ9ug9b_DNs3"
      },
      "source": [
        "<a name='eg_triangular_numbers_cell'></a>\n",
        "### Example: Triangular Numbers\n",
        "\n",
        "> Demo:\n",
        "> * What are triangular numbers? How do we calculate them? (This is more of an aside.)\n",
        "> * How do we write this code?\n",
        "\n",
        "Write some code which takes in a number from the user, and prints out the sum of the numbers from 1 up to and including that number. (ie 3 --> 1+2+3 = 6)\n",
        "\n",
        "```\n",
        "Enter a number: 3\n",
        "\n",
        "6\n",
        "```"
      ]
    },
    {
      "cell_type": "code",
      "metadata": {
        "id": "xc7A6Pp9JApm"
      },
      "source": [
        ""
      ],
      "execution_count": null,
      "outputs": []
    },
    {
      "cell_type": "markdown",
      "metadata": {
        "id": "32MS8qvuDklj"
      },
      "source": [
        "## For Loops\n",
        "\n",
        "```\n",
        "for ... in ...:\n",
        "  code_to_execute_on_each_value\n",
        "```"
      ]
    },
    {
      "cell_type": "markdown",
      "metadata": {
        "id": "o2g7udMkDpMd"
      },
      "source": [
        "Redo the [square numbers](#eg_square_numbers_cell) example and the [triangular numbers](#eg_triangular_numbers_cell) example using for loops instead of while loops."
      ]
    },
    {
      "cell_type": "code",
      "metadata": {
        "id": "LxAjyoYFDv3z"
      },
      "source": [
        ""
      ],
      "execution_count": null,
      "outputs": []
    },
    {
      "cell_type": "code",
      "metadata": {
        "id": "H2AVVV3ZDwKE"
      },
      "source": [
        ""
      ],
      "execution_count": null,
      "outputs": []
    },
    {
      "cell_type": "markdown",
      "metadata": {
        "id": "obYBHYlwN0nl"
      },
      "source": [
        "### Example: Strings - one letter at a time.\n",
        "\n",
        "Write some code which prints out the letters of a string one at a time."
      ]
    },
    {
      "cell_type": "code",
      "metadata": {
        "id": "ftJ3bHMyOLk-"
      },
      "source": [
        "# Using a counter to access individual elements (while loop or for loop)"
      ],
      "execution_count": null,
      "outputs": []
    },
    {
      "cell_type": "code",
      "metadata": {
        "id": "jq4lduglOOQt"
      },
      "source": [
        "# Using the features of a string as an iterator (for loop)"
      ],
      "execution_count": null,
      "outputs": []
    },
    {
      "cell_type": "markdown",
      "metadata": {
        "id": "HPEBS58xnYI4"
      },
      "source": [
        "### Obfuscation\n",
        "Is there another way to solve this problem?\n",
        "\n",
        "> Oh no, somaona hes dona somathing tarribla to my writing. Thay'va sweppad eround tha lattar 'e' end tha lattar 'a'"
      ]
    },
    {
      "cell_type": "markdown",
      "metadata": {
        "id": "Dsm5N-CGLh7S"
      },
      "source": [
        "# 2.4 - Bringing it all together\n",
        "\n",
        "Example: Guess my number\n",
        "\n",
        "Write a program (piece of python code) which:\n",
        "1. Asks the user to choose a number between 1 and 100 (but not enter it).\n",
        "2. The program then guesses the user's number, and asks if the user's number is higher or lower than their guess.\n",
        "3. The user then enters `H` for higher, `L` for lower or `C` for correct, depending on whether or not the program has guessed their number.\n",
        "4. The program keeps repeating steps 2 and 3 until it manages to guess the number."
      ]
    },
    {
      "cell_type": "code",
      "metadata": {
        "id": "uXw-qkGuRAdp"
      },
      "source": [
        ""
      ],
      "execution_count": null,
      "outputs": []
    },
    {
      "cell_type": "markdown",
      "metadata": {
        "id": "k9cMFgGkuuDK"
      },
      "source": [
        "# 2.5 - Functions"
      ]
    },
    {
      "cell_type": "markdown",
      "metadata": {
        "id": "6_6ffqy8OolO"
      },
      "source": [
        "Purposes of functions:\n",
        "\n",
        "* Re-use code (\"Every line of code you don't write is bug free.\")\n",
        "* Testing\n",
        "* Abstraction / readability\n",
        "* Re-use code with different parameters\n",
        "\n",
        "(Point 1 and point 4 are different as it's often useful to use functions to not repeat ourselves even if (especially when?) the code is identical and doesn't require parameters to adapt it.)\n",
        "\n"
      ]
    },
    {
      "cell_type": "markdown",
      "metadata": {
        "id": "MZIdfUIcgHcs"
      },
      "source": [
        "Do you remember this box?\n",
        "\n",
        "Can we create a string with this box in it?\n",
        "\n",
        "```\n",
        "+-----+\n",
        "|     |\n",
        "|     |\n",
        "|     |\n",
        "+-----+\n",
        "```"
      ]
    },
    {
      "cell_type": "code",
      "metadata": {
        "id": "-CsBtFSHgWXm"
      },
      "source": [
        ""
      ],
      "execution_count": null,
      "outputs": []
    },
    {
      "cell_type": "markdown",
      "metadata": {
        "id": "Hci2yRlggWua"
      },
      "source": [
        "Can we create this box too?\n",
        "\n",
        "```\n",
        "+----------+\n",
        "|          |\n",
        "|          |\n",
        "|          |\n",
        "+----------+\n",
        "```"
      ]
    },
    {
      "cell_type": "code",
      "metadata": {
        "id": "GwxjSEeygg4m"
      },
      "source": [
        ""
      ],
      "execution_count": null,
      "outputs": []
    },
    {
      "cell_type": "markdown",
      "metadata": {
        "id": "MEPnCq72ghPn"
      },
      "source": [
        "And this one too?\n",
        "\n",
        "```\n",
        "+----------+\n",
        "|          |\n",
        "+----------+\n",
        "```"
      ]
    },
    {
      "cell_type": "markdown",
      "metadata": {
        "id": "xyPLKx0JgqcX"
      },
      "source": [
        "By looking at what the code in each situation has in common, we can write a function which will work for any size box."
      ]
    },
    {
      "cell_type": "code",
      "metadata": {
        "id": "2-5_gU7zgxW4"
      },
      "source": [
        ""
      ],
      "execution_count": null,
      "outputs": []
    },
    {
      "cell_type": "markdown",
      "metadata": {
        "id": "ODCWq1Ydhhha"
      },
      "source": [
        "## Returning values from functions"
      ]
    },
    {
      "cell_type": "markdown",
      "metadata": {
        "id": "AQ9aOqsThOKE"
      },
      "source": [
        "Write a function `my_len()` which takes in a string as a parameter and returns the length of the string. (You can do this using the `len()` function, but the exercise is to do it without it.)"
      ]
    },
    {
      "cell_type": "code",
      "metadata": {
        "id": "x5ZGVZ1chPok"
      },
      "source": [
        ""
      ],
      "execution_count": null,
      "outputs": []
    },
    {
      "cell_type": "markdown",
      "metadata": {
        "id": "m0tGIH5uhP6B"
      },
      "source": [
        "Write your own function `my_count()` which takes in a string and a character and returns the number of times that character occurs in that string."
      ]
    },
    {
      "cell_type": "code",
      "metadata": {
        "id": "qEUo2lyIh7-l"
      },
      "source": [
        ""
      ],
      "execution_count": null,
      "outputs": []
    },
    {
      "cell_type": "markdown",
      "metadata": {
        "id": "8OTO2hrWSFOl"
      },
      "source": [
        "## Functions for Readability\n",
        "\n",
        "Re-write our code from the [Password Evaluator](#eg_password_evaluator_cell) question to use functions to make the code more readable."
      ]
    },
    {
      "cell_type": "code",
      "metadata": {
        "id": "9PDD_lHbSWoJ"
      },
      "source": [
        ""
      ],
      "execution_count": null,
      "outputs": []
    }
  ]
}