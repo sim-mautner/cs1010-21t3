{
  "nbformat": 4,
  "nbformat_minor": 0,
  "metadata": {
    "colab": {
      "name": "03-testing-introduction.ipynb",
      "provenance": [],
      "toc_visible": true,
      "authorship_tag": "ABX9TyNDozRpPIQuLgvEbyXCOJ1B",
      "include_colab_link": true
    },
    "kernelspec": {
      "name": "python3",
      "display_name": "Python 3"
    },
    "language_info": {
      "name": "python"
    }
  },
  "cells": [
    {
      "cell_type": "markdown",
      "metadata": {
        "id": "view-in-github",
        "colab_type": "text"
      },
      "source": [
        "<a href=\"https://colab.research.google.com/github/sim-mautner/cs1010-21t3/blob/main/lectures/03-python-and-programming-fundamentals/scaffold/03-testing-introduction.ipynb\" target=\"_parent\"><img src=\"https://colab.research.google.com/assets/colab-badge.svg\" alt=\"Open In Colab\"/></a>"
      ]
    },
    {
      "cell_type": "markdown",
      "metadata": {
        "id": "8y3btaKHE4ag"
      },
      "source": [
        "> Topic 3<br>\n",
        "> Python and Programming Fundamentals<br>\n",
        "> COMP1010 2021 T3<br>\n",
        "> Week 1-3\n",
        "\n",
        "> Topic 3.3<br>\n",
        "> Testing (an introduction)"
      ]
    },
    {
      "cell_type": "markdown",
      "metadata": {
        "id": "8MmJvOZTi3PV"
      },
      "source": [
        "# 1 - Assert\n",
        "\n",
        "When testing if a piece of code works, we need to check all the different pathways our execution could take, and that each one produces the expected result.\n",
        "\n",
        "`assert(condition)`"
      ]
    },
    {
      "cell_type": "markdown",
      "metadata": {
        "id": "kP7wjZyvji7H"
      },
      "source": [
        "What does it look like when an `assert` passes?"
      ]
    },
    {
      "cell_type": "code",
      "metadata": {
        "id": "kWMcPKYAjl6B"
      },
      "source": [
        ""
      ],
      "execution_count": null,
      "outputs": []
    },
    {
      "cell_type": "markdown",
      "metadata": {
        "id": "P29RUnTkjmNU"
      },
      "source": [
        "What does it look like when an `assert` fails?"
      ]
    },
    {
      "cell_type": "markdown",
      "metadata": {
        "id": "6zQkNeE_jKW2"
      },
      "source": [
        "Write some tests for your my_len() function you wrote above."
      ]
    },
    {
      "cell_type": "code",
      "metadata": {
        "id": "PaPLzML0jHLH"
      },
      "source": [
        ""
      ],
      "execution_count": null,
      "outputs": []
    },
    {
      "cell_type": "markdown",
      "metadata": {
        "id": "9eLH9VV1kS_Z"
      },
      "source": [
        "# 2 - Test-Driven Development (TDD)"
      ]
    },
    {
      "cell_type": "markdown",
      "metadata": {
        "id": "L0ryHmlfkDPY"
      },
      "source": [
        "Test-Driven Development (TDD) is an approach to programming whereby the requirements or specification of the project are converted into test cases before the software is written."
      ]
    },
    {
      "cell_type": "markdown",
      "metadata": {
        "id": "b0dIARVrj972"
      },
      "source": [
        "<a name='eg_months_cell'></a>\n",
        "### Example: Months of the Year\n",
        "\n",
        "Consider a function which takes in a number and returns a string with the month of the year that that number corresponds to.\n",
        "\n",
        "1. What cases need to be considered?\n",
        "2. Write some tests which cover these cases.\n",
        "3. Implement the function."
      ]
    },
    {
      "cell_type": "markdown",
      "metadata": {
        "id": "r7z_xzGM3LwB"
      },
      "source": [
        ""
      ]
    },
    {
      "cell_type": "code",
      "metadata": {
        "id": "DWDwbR85lX1t"
      },
      "source": [
        ""
      ],
      "execution_count": null,
      "outputs": []
    },
    {
      "cell_type": "code",
      "metadata": {
        "id": "uBQZ-otplXhV"
      },
      "source": [
        ""
      ],
      "execution_count": null,
      "outputs": []
    },
    {
      "cell_type": "markdown",
      "metadata": {
        "id": "w4PYn6-vx3if"
      },
      "source": [
        "### Example: Ready to Lecture (part 2)\n",
        "\n",
        "Consider the [Getting Ready to Lecture](#eg_ready_to_lecture_cell) example.\n",
        "\n",
        "1. Write tests to check whether or not your code was correct.\n",
        "2. Convert your code into a function which takes in booleans and returns a string.\n",
        "3. Run your tests on your code.\n",
        "\n",
        "This example makes it clear, how much easier it is to test every possible condition, rather than changing the value of the variables with the code."
      ]
    },
    {
      "cell_type": "code",
      "metadata": {
        "id": "mWrenjVay-_n"
      },
      "source": [
        ""
      ],
      "execution_count": null,
      "outputs": []
    },
    {
      "cell_type": "markdown",
      "metadata": {
        "id": "1JHlGGzR6AF_"
      },
      "source": [
        "# Feedback (Topic 3.3)\n",
        "\n",
        "[https://forms.gle/Uod5Jpr7AJ2z7cHLA](https://forms.gle/Uod5Jpr7AJ2z7cHLA)\n",
        "\n",
        "![](https://i.imgur.com/0L50D4L.png)"
      ]
    }
  ]
}