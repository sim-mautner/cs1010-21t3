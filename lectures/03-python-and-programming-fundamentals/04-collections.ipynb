{
  "nbformat": 4,
  "nbformat_minor": 0,
  "metadata": {
    "colab": {
      "name": "04-collections.ipynb",
      "provenance": [],
      "authorship_tag": "ABX9TyMC6shNH0kg9eJRr6wrnS7u",
      "include_colab_link": true
    },
    "kernelspec": {
      "name": "python3",
      "display_name": "Python 3"
    },
    "language_info": {
      "name": "python"
    }
  },
  "cells": [
    {
      "cell_type": "markdown",
      "metadata": {
        "id": "view-in-github",
        "colab_type": "text"
      },
      "source": [
        "<a href=\"https://colab.research.google.com/github/sim-mautner/cs1010-21t3/blob/main/lectures/03-python-and-programming-fundamentals/04-collections.ipynb\" target=\"_parent\"><img src=\"https://colab.research.google.com/assets/colab-badge.svg\" alt=\"Open In Colab\"/></a>"
      ]
    },
    {
      "cell_type": "markdown",
      "metadata": {
        "id": "DZASYuPR5kI3"
      },
      "source": [
        "> Topic 3<br>\n",
        "> Python and Programming Fundamentals<br>\n",
        "> COMP1010 2021 T3<br>\n",
        "> Week 1-3\n",
        "\n",
        "> Topic 3.4<br>\n",
        "> Collections"
      ]
    },
    {
      "cell_type": "markdown",
      "metadata": {
        "id": "RaeMy89GiFLU"
      },
      "source": [
        "# 1 - Lists\n"
      ]
    },
    {
      "cell_type": "markdown",
      "metadata": {
        "id": "HUeCv4hAugmM"
      },
      "source": [
        "You have 4 students in the class. Create variables to store their project grades."
      ]
    },
    {
      "cell_type": "code",
      "metadata": {
        "id": "9aOzh4rdupjV"
      },
      "source": [
        "student1_grade = 75\n",
        "student2_grade = 80\n",
        "student3_grade = 91\n",
        "student4_grade = 72"
      ],
      "execution_count": null,
      "outputs": []
    },
    {
      "cell_type": "markdown",
      "metadata": {
        "id": "k1M9jmPNup-v"
      },
      "source": [
        "What happens when you have 10 students in the class? Or 100? I hear there's at least one COMP course with 1000 students.\n",
        "\n",
        "Lists are:\n",
        "* Used to store multiple items in one variable\n",
        "* Created using square brackets (eg `my_list = []`)\n",
        "* Ordered\n",
        "* Changeable\n",
        "* Allow duplicate values\n",
        "\n",
        "As always (in Python), lists are indexed from 0."
      ]
    },
    {
      "cell_type": "markdown",
      "metadata": {
        "id": "bk5LeZx1w86r"
      },
      "source": [
        "Create a list. (Topic suggestions welcome in chat.)"
      ]
    },
    {
      "cell_type": "code",
      "metadata": {
        "id": "rg87Uv7GxB5N"
      },
      "source": [
        "hd_students = []"
      ],
      "execution_count": 1,
      "outputs": []
    },
    {
      "cell_type": "markdown",
      "metadata": {
        "id": "LW4qFumaxCMB"
      },
      "source": [
        "Print the list."
      ]
    },
    {
      "cell_type": "code",
      "metadata": {
        "id": "z6dzDLfUxDro",
        "outputId": "4aba49af-398c-4d50-8ded-5dc4d4e3c6a4",
        "colab": {
          "base_uri": "https://localhost:8080/"
        }
      },
      "source": [
        "print(hd_students)"
      ],
      "execution_count": 2,
      "outputs": [
        {
          "output_type": "stream",
          "name": "stdout",
          "text": [
            "[]\n"
          ]
        }
      ]
    },
    {
      "cell_type": "code",
      "metadata": {
        "id": "wfphIGnyXlqI",
        "outputId": "6c90f263-2ab1-4897-b739-b10d1d3de904",
        "colab": {
          "base_uri": "https://localhost:8080/"
        }
      },
      "source": [
        "hd_students = ['Aly', 'Jane', 'Will', 'Liz']\n",
        "print(hd_students)"
      ],
      "execution_count": 4,
      "outputs": [
        {
          "output_type": "stream",
          "name": "stdout",
          "text": [
            "['Aly', 'Jane', 'Will', 'Liz']\n"
          ]
        }
      ]
    },
    {
      "cell_type": "markdown",
      "metadata": {
        "id": "6f_HAVrixD6C"
      },
      "source": [
        "Append (add to the end) an element to the list. (And print it again.)"
      ]
    },
    {
      "cell_type": "code",
      "metadata": {
        "id": "XdekkgFAxHUC",
        "outputId": "ab5e289b-dc51-484b-ac6a-87ae1f42f467",
        "colab": {
          "base_uri": "https://localhost:8080/"
        }
      },
      "source": [
        "hd_students.append('Kai')\n",
        "print(hd_students)"
      ],
      "execution_count": 5,
      "outputs": [
        {
          "output_type": "stream",
          "name": "stdout",
          "text": [
            "['Aly', 'Jane', 'Will', 'Liz', 'Kai']\n"
          ]
        }
      ]
    },
    {
      "cell_type": "markdown",
      "metadata": {
        "id": "voyImQ32xHh9"
      },
      "source": [
        "Print out the length of the list."
      ]
    },
    {
      "cell_type": "code",
      "metadata": {
        "id": "9yIMJl71xOxc",
        "outputId": "67284f72-e8f2-4789-93d1-9f784b55c530",
        "colab": {
          "base_uri": "https://localhost:8080/"
        }
      },
      "source": [
        "print(len(hd_students))"
      ],
      "execution_count": 6,
      "outputs": [
        {
          "output_type": "stream",
          "name": "stdout",
          "text": [
            "5\n"
          ]
        }
      ]
    },
    {
      "cell_type": "markdown",
      "metadata": {
        "id": "VkORFqtgxO_Z"
      },
      "source": [
        "Add some more elements to the list (using `append` and `insert`). Sort the list. (And print it again.)"
      ]
    },
    {
      "cell_type": "code",
      "metadata": {
        "id": "NOOvVMV3xVVo",
        "outputId": "0da920b1-66b9-4564-d752-acb64509e540",
        "colab": {
          "base_uri": "https://localhost:8080/"
        }
      },
      "source": [
        "hd_students.insert(0, 'Krishne')\n",
        "print(hd_students)\n",
        "hd_students.insert(1, 'Ellie')\n",
        "print(hd_students)"
      ],
      "execution_count": 7,
      "outputs": [
        {
          "output_type": "stream",
          "name": "stdout",
          "text": [
            "['Krishne', 'Aly', 'Jane', 'Will', 'Liz', 'Kai']\n",
            "['Krishne', 'Ellie', 'Aly', 'Jane', 'Will', 'Liz', 'Kai']\n"
          ]
        }
      ]
    },
    {
      "cell_type": "code",
      "metadata": {
        "id": "D4Q2-0BUYOOt",
        "outputId": "1889f09c-6502-4fd2-e502-dd3ba7c841a0",
        "colab": {
          "base_uri": "https://localhost:8080/"
        }
      },
      "source": [
        "another_student = 'Chloe'\n",
        "hd_students.append(another_student)\n",
        "print(hd_students)"
      ],
      "execution_count": 8,
      "outputs": [
        {
          "output_type": "stream",
          "name": "stdout",
          "text": [
            "['Krishne', 'Ellie', 'Aly', 'Jane', 'Will', 'Liz', 'Kai', 'Chloe']\n"
          ]
        }
      ]
    },
    {
      "cell_type": "code",
      "metadata": {
        "id": "PpPEaYwxYfrv",
        "outputId": "aabb4e76-1394-40f8-9084-2e2be51efc47",
        "colab": {
          "base_uri": "https://localhost:8080/"
        }
      },
      "source": [
        "hd_students.sort()\n",
        "print(hd_students)"
      ],
      "execution_count": 9,
      "outputs": [
        {
          "output_type": "stream",
          "name": "stdout",
          "text": [
            "['Aly', 'Chloe', 'Ellie', 'Jane', 'Kai', 'Krishne', 'Liz', 'Will']\n"
          ]
        }
      ]
    },
    {
      "cell_type": "markdown",
      "metadata": {
        "id": "wCJ1e5zF2_aS"
      },
      "source": [
        "Can we sort the list backwards?"
      ]
    },
    {
      "cell_type": "code",
      "metadata": {
        "id": "ELI6p-973CNB",
        "outputId": "e45f8089-2bfb-4be9-e813-a8fb43bba7a3",
        "colab": {
          "base_uri": "https://localhost:8080/"
        }
      },
      "source": [
        "hd_students.sort(reverse=True)\n",
        "print(hd_students)"
      ],
      "execution_count": 10,
      "outputs": [
        {
          "output_type": "stream",
          "name": "stdout",
          "text": [
            "['Will', 'Liz', 'Krishne', 'Kai', 'Jane', 'Ellie', 'Chloe', 'Aly']\n"
          ]
        }
      ]
    },
    {
      "cell_type": "code",
      "metadata": {
        "id": "4jN0xYhFYut_",
        "outputId": "bf742c88-8996-4fdc-d94f-91acd613e13d",
        "colab": {
          "base_uri": "https://localhost:8080/"
        }
      },
      "source": [
        "# Q: Do all the variables have to be the same?\n",
        "\n",
        "# A: No.\n",
        "\n",
        "random_stuff = [True, 42, 'Vietlan']\n",
        "print(random_stuff)"
      ],
      "execution_count": 11,
      "outputs": [
        {
          "output_type": "stream",
          "name": "stdout",
          "text": [
            "[True, 42, 'Vietlan']\n"
          ]
        }
      ]
    },
    {
      "cell_type": "markdown",
      "metadata": {
        "id": "PEcj09doxVho"
      },
      "source": [
        "Count the number of times an element occurs in the list."
      ]
    },
    {
      "cell_type": "code",
      "metadata": {
        "id": "VWcz8liqxbRx",
        "outputId": "a3cef6a9-3d47-43aa-e95a-ecdc653032cc",
        "colab": {
          "base_uri": "https://localhost:8080/"
        }
      },
      "source": [
        "hd_students.append('Kai')\n",
        "num_kai = hd_students.count('Kai')\n",
        "print(num_kai)"
      ],
      "execution_count": 12,
      "outputs": [
        {
          "output_type": "stream",
          "name": "stdout",
          "text": [
            "2\n"
          ]
        }
      ]
    },
    {
      "cell_type": "markdown",
      "metadata": {
        "id": "eQyuUSomxajH"
      },
      "source": [
        "Print out the element at index 2."
      ]
    },
    {
      "cell_type": "code",
      "metadata": {
        "id": "JKJUW7KSxfSn",
        "outputId": "863152b5-7463-43d6-bf84-2867ebe65938",
        "colab": {
          "base_uri": "https://localhost:8080/"
        }
      },
      "source": [
        "print(hd_students[2])"
      ],
      "execution_count": 13,
      "outputs": [
        {
          "output_type": "stream",
          "name": "stdout",
          "text": [
            "Krishne\n"
          ]
        }
      ]
    },
    {
      "cell_type": "markdown",
      "metadata": {
        "id": "AVRzoOUsKFx-"
      },
      "source": [
        "What happens if we try to print (or access, or assign) an index which is larger than the length of the list?"
      ]
    },
    {
      "cell_type": "code",
      "metadata": {
        "id": "D6LgrhIbKMoz",
        "outputId": "a8d3db67-8a82-4514-ab2c-74ebcf335cb0",
        "colab": {
          "base_uri": "https://localhost:8080/",
          "height": 162
        }
      },
      "source": [
        "print(hd_students[42])"
      ],
      "execution_count": 14,
      "outputs": [
        {
          "output_type": "error",
          "ename": "IndexError",
          "evalue": "ignored",
          "traceback": [
            "\u001b[0;31m---------------------------------------------------------------------------\u001b[0m",
            "\u001b[0;31mIndexError\u001b[0m                                Traceback (most recent call last)",
            "\u001b[0;32m<ipython-input-14-8a9d9d139c81>\u001b[0m in \u001b[0;36m<module>\u001b[0;34m()\u001b[0m\n\u001b[0;32m----> 1\u001b[0;31m \u001b[0mprint\u001b[0m\u001b[0;34m(\u001b[0m\u001b[0mhd_students\u001b[0m\u001b[0;34m[\u001b[0m\u001b[0;36m42\u001b[0m\u001b[0;34m]\u001b[0m\u001b[0;34m)\u001b[0m\u001b[0;34m\u001b[0m\u001b[0;34m\u001b[0m\u001b[0m\n\u001b[0m",
            "\u001b[0;31mIndexError\u001b[0m: list index out of range"
          ]
        }
      ]
    },
    {
      "cell_type": "code",
      "metadata": {
        "id": "SRqjau9bZN09",
        "outputId": "43c46ecd-9a36-43da-a26c-ff280111e6e4",
        "colab": {
          "base_uri": "https://localhost:8080/"
        }
      },
      "source": [
        "# Q: Can we index negative numbers?\n",
        "\n",
        "print(hd_students[-1])"
      ],
      "execution_count": 15,
      "outputs": [
        {
          "output_type": "stream",
          "name": "stdout",
          "text": [
            "Kai\n"
          ]
        }
      ]
    },
    {
      "cell_type": "markdown",
      "metadata": {
        "id": "0c-uAIBoxe1H"
      },
      "source": [
        "Change the element at index 1 to be different. Print the list again."
      ]
    },
    {
      "cell_type": "code",
      "metadata": {
        "id": "0FQoRCYzxa3e",
        "outputId": "6f7435a8-03af-48de-d006-c37cf5d5cb3c",
        "colab": {
          "base_uri": "https://localhost:8080/"
        }
      },
      "source": [
        "print(hd_students)"
      ],
      "execution_count": 16,
      "outputs": [
        {
          "output_type": "stream",
          "name": "stdout",
          "text": [
            "['Will', 'Liz', 'Krishne', 'Kai', 'Jane', 'Ellie', 'Chloe', 'Aly', 'Kai']\n"
          ]
        }
      ]
    },
    {
      "cell_type": "code",
      "metadata": {
        "id": "8-s3GJGmZYF4",
        "outputId": "0359cb86-f387-4562-9e96-835812f0f560",
        "colab": {
          "base_uri": "https://localhost:8080/"
        }
      },
      "source": [
        "hd_students[1] = 'George'\n",
        "print(hd_students)"
      ],
      "execution_count": 17,
      "outputs": [
        {
          "output_type": "stream",
          "name": "stdout",
          "text": [
            "['Will', 'George', 'Krishne', 'Kai', 'Jane', 'Ellie', 'Chloe', 'Aly', 'Kai']\n"
          ]
        }
      ]
    },
    {
      "cell_type": "markdown",
      "metadata": {
        "id": "iegUWlUmzZIe"
      },
      "source": [
        "Remove some elements from the list. (Removing by element, popping by index.) (Printing the list each time.) Remove by element and by index."
      ]
    },
    {
      "cell_type": "code",
      "metadata": {
        "id": "GFfXBgzyzyRu",
        "outputId": "b28b122a-7453-47a6-ca4c-6e2fbe2c1af7",
        "colab": {
          "base_uri": "https://localhost:8080/"
        }
      },
      "source": [
        "hd_students.remove('Jane')\n",
        "print(hd_students)"
      ],
      "execution_count": 18,
      "outputs": [
        {
          "output_type": "stream",
          "name": "stdout",
          "text": [
            "['Will', 'George', 'Krishne', 'Kai', 'Ellie', 'Chloe', 'Aly', 'Kai']\n"
          ]
        }
      ]
    },
    {
      "cell_type": "code",
      "metadata": {
        "id": "hEDbxmFEZmV2",
        "outputId": "9525363b-6c0d-40dc-cafe-6452f4aa3579",
        "colab": {
          "base_uri": "https://localhost:8080/"
        }
      },
      "source": [
        "hd_students.pop(0)\n",
        "print(hd_students)"
      ],
      "execution_count": 19,
      "outputs": [
        {
          "output_type": "stream",
          "name": "stdout",
          "text": [
            "['George', 'Krishne', 'Kai', 'Ellie', 'Chloe', 'Aly', 'Kai']\n"
          ]
        }
      ]
    },
    {
      "cell_type": "markdown",
      "metadata": {
        "id": "PkHrOJCGxlfS"
      },
      "source": [
        "Clear the list. (And print it again.)"
      ]
    },
    {
      "cell_type": "code",
      "metadata": {
        "id": "SrYAu8LFyeE8",
        "outputId": "40cc5755-0aab-4fc0-da6b-29da08f468a8",
        "colab": {
          "base_uri": "https://localhost:8080/"
        }
      },
      "source": [
        "hd_students.clear()\n",
        "print(hd_students)"
      ],
      "execution_count": 20,
      "outputs": [
        {
          "output_type": "stream",
          "name": "stdout",
          "text": [
            "[]\n"
          ]
        }
      ]
    },
    {
      "cell_type": "markdown",
      "metadata": {
        "id": "HdDMv-Dmjplx"
      },
      "source": [
        "Lists are also handy in some other situations. For example, can we use use a list to simplify our [months of the year](#eg_months_cell) example?\n"
      ]
    },
    {
      "cell_type": "code",
      "metadata": {
        "id": "ClhVtCO6uf_C"
      },
      "source": [
        "def month_to_text(num):\n",
        "    month_strings = ['', \n",
        "                 'Jan', 'Feb', 'Mar', 'Apr', 'May', 'Jun', \n",
        "                 'Jul', 'Aug', 'Sep', 'Oct', 'Nov', 'Dec']\n",
        "    if not isinstance(num, int) or num < 1 or num > 12:\n",
        "        return ''\n",
        "    return month_strings[num]\n"
      ],
      "execution_count": 23,
      "outputs": []
    },
    {
      "cell_type": "code",
      "metadata": {
        "id": "OTn-k0F1bHr0"
      },
      "source": [
        "# Another approach\n",
        "\n",
        "def month_to_text_v2(num):\n",
        "    month_strings = ['Jan', 'Feb', 'Mar', 'Apr', 'May', 'Jun', \n",
        "                     'Jul', 'Aug', 'Sep', 'Oct', 'Nov', 'Dec']\n",
        "    if not isinstance(num, int) or num < 1 or num > 12:\n",
        "        return ''\n",
        "    return month_strings[num-1]"
      ],
      "execution_count": null,
      "outputs": []
    },
    {
      "cell_type": "code",
      "metadata": {
        "id": "ygOIByJ7a1Ys"
      },
      "source": [
        "assert month_to_text(1) == \"Jan\"\n",
        "assert month_to_text(2) == \"Feb\"\n",
        "assert month_to_text(3) == \"Mar\"\n",
        "assert month_to_text(4) == \"Apr\"\n",
        "assert month_to_text(5) == \"May\"\n",
        "assert month_to_text(6) == \"Jun\"\n",
        "assert month_to_text(7) == \"Jul\"\n",
        "assert month_to_text(8) == \"Aug\"\n",
        "assert month_to_text(9) == \"Sep\"\n",
        "assert month_to_text(10) == \"Oct\"\n",
        "assert month_to_text(11) == \"Nov\"\n",
        "assert month_to_text(12) == \"Dec\"\n",
        "# We will learn more about errors later on. (see topics NoneType and Exceptions in 3.6)\n",
        "assert month_to_text(0) == \"\"\n",
        "assert month_to_text(-1) == \"\"\n",
        "assert month_to_text(13) == \"\"\n",
        "assert month_to_text(\"hello\") == \"\"\n",
        "assert month_to_text(3.14) == \"\""
      ],
      "execution_count": 24,
      "outputs": []
    },
    {
      "cell_type": "markdown",
      "metadata": {
        "id": "n1h5s_Nf2Ghn"
      },
      "source": [
        "Can we find out if an element is in the list? (Without searching through the list one by one.)"
      ]
    },
    {
      "cell_type": "code",
      "metadata": {
        "id": "h6FE_Ydu2aLl",
        "outputId": "7f042dfe-b588-4dcb-f1ff-0e86c16d106b",
        "colab": {
          "base_uri": "https://localhost:8080/"
        }
      },
      "source": [
        "lockdown_hobbies = ['skipping', 'crochet', 'baking', 'exercising', 'reading']\n",
        "\n",
        "my_hobby = input(\"Enter your hobby: \")\n",
        "\n",
        "if my_hobby in lockdown_hobbies:\n",
        "    print(\"Go for it.\")\n",
        "else:\n",
        "    print(\"Sorry. Can't do that right now.\")"
      ],
      "execution_count": 27,
      "outputs": [
        {
          "output_type": "stream",
          "name": "stdout",
          "text": [
            "Enter your hobby: partying\n",
            "Sorry. Can't do that right now.\n"
          ]
        }
      ]
    },
    {
      "cell_type": "markdown",
      "metadata": {
        "id": "6Cne1Az42sQP"
      },
      "source": [
        "Can we loop through the list one by one?"
      ]
    },
    {
      "cell_type": "code",
      "metadata": {
        "id": "Qw3_2DVz25oL",
        "outputId": "cc199b2b-0628-4a9e-d432-cec6428e8e5b",
        "colab": {
          "base_uri": "https://localhost:8080/"
        }
      },
      "source": [
        "for hobby in lockdown_hobbies:\n",
        "    print(hobby)"
      ],
      "execution_count": 28,
      "outputs": [
        {
          "output_type": "stream",
          "name": "stdout",
          "text": [
            "skipping\n",
            "crochet\n",
            "baking\n",
            "exercising\n",
            "reading\n"
          ]
        }
      ]
    },
    {
      "cell_type": "code",
      "metadata": {
        "id": "VRpQ70jLcHUM",
        "outputId": "0778379d-0e46-475e-86dd-71301fb70061",
        "colab": {
          "base_uri": "https://localhost:8080/"
        }
      },
      "source": [
        "for hobby in lockdown_hobbies:\n",
        "    print(hobby, end=', ')"
      ],
      "execution_count": 29,
      "outputs": [
        {
          "output_type": "stream",
          "name": "stdout",
          "text": [
            "skipping, crochet, baking, exercising, reading, "
          ]
        }
      ]
    },
    {
      "cell_type": "markdown",
      "metadata": {
        "id": "y8G0n6U43Mls"
      },
      "source": [
        "Can we join two lists together? (aka What happens when we + two lists?)"
      ]
    },
    {
      "cell_type": "code",
      "metadata": {
        "id": "xKc-75uZ3RuI",
        "outputId": "21098c42-12ac-4c4a-bf7b-7f02924b9e35",
        "colab": {
          "base_uri": "https://localhost:8080/"
        }
      },
      "source": [
        "pre_covid_hobbies = ['partying', 'choir', 'playgroup', 'gym']\n",
        "\n",
        "hobbies = pre_covid_hobbies + lockdown_hobbies\n",
        "\n",
        "print(hobbies)"
      ],
      "execution_count": 30,
      "outputs": [
        {
          "output_type": "stream",
          "name": "stdout",
          "text": [
            "['partying', 'choir', 'playgroup', 'gym', 'skipping', 'crochet', 'baking', 'exercising', 'reading']\n"
          ]
        }
      ]
    },
    {
      "cell_type": "markdown",
      "metadata": {
        "id": "YvnK2MFF4fCj"
      },
      "source": [
        "Can lists contain lists? How would we access it? How would we print it?"
      ]
    },
    {
      "cell_type": "code",
      "metadata": {
        "id": "rQn3E3zK4mmx",
        "outputId": "b6aacbe1-10c9-4de8-d0b5-790d1c0c1ec0",
        "colab": {
          "base_uri": "https://localhost:8080/"
        }
      },
      "source": [
        "mega_list = [\n",
        "             pre_covid_hobbies,\n",
        "             lockdown_hobbies\n",
        "]\n",
        "\n",
        "print(mega_list[0])\n",
        "print(mega_list[1])\n",
        "\n",
        "print(mega_list[0][1]) # Prints index 1 of pre_covid_hobbies (choir)\n",
        "print(mega_list[1][3]) # Exercising"
      ],
      "execution_count": 34,
      "outputs": [
        {
          "output_type": "stream",
          "name": "stdout",
          "text": [
            "['partying', 'choir', 'playgroup', 'gym']\n",
            "['skipping', 'crochet', 'baking', 'exercising', 'reading']\n",
            "choir\n",
            "exercising\n"
          ]
        }
      ]
    },
    {
      "cell_type": "code",
      "metadata": {
        "id": "G7PZ4b4kenQi",
        "outputId": "a10a41e4-3159-480a-fb18-fb17abcc2a90",
        "colab": {
          "base_uri": "https://localhost:8080/"
        }
      },
      "source": [
        "shopping = [\n",
        "            ['bananas', 'apples', 'pears'],\n",
        "            ['toilet paper', 'deoderant'],\n",
        "            ['ice cream', 'frozen pies']\n",
        "]\n",
        "\n",
        "for sub_list in shopping:\n",
        "    print(sub_list)\n",
        "\n",
        "print(shopping[2][0]) # ice cream"
      ],
      "execution_count": 40,
      "outputs": [
        {
          "output_type": "stream",
          "name": "stdout",
          "text": [
            "['bananas', 'apples', 'pears']\n",
            "['toilet paper', 'deoderant']\n",
            "['ice cream', 'frozen pies']\n",
            "ice cream\n"
          ]
        }
      ]
    },
    {
      "cell_type": "markdown",
      "metadata": {
        "id": "I0HJz1_StemU"
      },
      "source": [
        "Could we make the game Tic Tac Toe?"
      ]
    },
    {
      "cell_type": "code",
      "metadata": {
        "id": "QnG3Tp6ptg58",
        "outputId": "f4aee12b-f370-4cc9-d7ae-d64e5575f43f",
        "colab": {
          "base_uri": "https://localhost:8080/",
          "height": 1000
        }
      },
      "source": [
        "def print_board(board):\n",
        "    for row in board:\n",
        "        #print(row)\n",
        "        for cell in row:\n",
        "            print(cell + ' ', end='')\n",
        "        print('\\n')\n",
        "\n",
        "board = [['-','-','-'],\n",
        "         ['-','-','-'],\n",
        "         ['-','-','-']]\n",
        "\n",
        "player = 'X'\n",
        "while True:\n",
        "    print_board(board)\n",
        "    row = int(input(\"Enter row: \"))\n",
        "    col = int(input(\"Enter col: \"))\n",
        "    board[row][col] = player\n",
        "    if player == 'X':\n",
        "        player = 'O'\n",
        "    else:\n",
        "        player = 'X'\n"
      ],
      "execution_count": 45,
      "outputs": [
        {
          "output_type": "stream",
          "name": "stdout",
          "text": [
            "- - - \n",
            "\n",
            "- - - \n",
            "\n",
            "- - - \n",
            "\n",
            "Enter row: 0\n",
            "Enter col: 0\n",
            "X - - \n",
            "\n",
            "- - - \n",
            "\n",
            "- - - \n",
            "\n",
            "Enter row: 0\n",
            "Enter col: 2\n",
            "X - O \n",
            "\n",
            "- - - \n",
            "\n",
            "- - - \n",
            "\n",
            "Enter row: 2\n",
            "Enter col: 2\n",
            "X - O \n",
            "\n",
            "- - - \n",
            "\n",
            "- - X \n",
            "\n"
          ]
        },
        {
          "output_type": "error",
          "ename": "KeyboardInterrupt",
          "evalue": "ignored",
          "traceback": [
            "\u001b[0;31m---------------------------------------------------------------------------\u001b[0m",
            "\u001b[0;31mKeyboardInterrupt\u001b[0m                         Traceback (most recent call last)",
            "\u001b[0;32m/usr/local/lib/python3.7/dist-packages/ipykernel/kernelbase.py\u001b[0m in \u001b[0;36m_input_request\u001b[0;34m(self, prompt, ident, parent, password)\u001b[0m\n\u001b[1;32m    728\u001b[0m             \u001b[0;32mtry\u001b[0m\u001b[0;34m:\u001b[0m\u001b[0;34m\u001b[0m\u001b[0;34m\u001b[0m\u001b[0m\n\u001b[0;32m--> 729\u001b[0;31m                 \u001b[0mident\u001b[0m\u001b[0;34m,\u001b[0m \u001b[0mreply\u001b[0m \u001b[0;34m=\u001b[0m \u001b[0mself\u001b[0m\u001b[0;34m.\u001b[0m\u001b[0msession\u001b[0m\u001b[0;34m.\u001b[0m\u001b[0mrecv\u001b[0m\u001b[0;34m(\u001b[0m\u001b[0mself\u001b[0m\u001b[0;34m.\u001b[0m\u001b[0mstdin_socket\u001b[0m\u001b[0;34m,\u001b[0m \u001b[0;36m0\u001b[0m\u001b[0;34m)\u001b[0m\u001b[0;34m\u001b[0m\u001b[0;34m\u001b[0m\u001b[0m\n\u001b[0m\u001b[1;32m    730\u001b[0m             \u001b[0;32mexcept\u001b[0m \u001b[0mException\u001b[0m\u001b[0;34m:\u001b[0m\u001b[0;34m\u001b[0m\u001b[0;34m\u001b[0m\u001b[0m\n",
            "\u001b[0;32m/usr/local/lib/python3.7/dist-packages/jupyter_client/session.py\u001b[0m in \u001b[0;36mrecv\u001b[0;34m(self, socket, mode, content, copy)\u001b[0m\n\u001b[1;32m    802\u001b[0m         \u001b[0;32mtry\u001b[0m\u001b[0;34m:\u001b[0m\u001b[0;34m\u001b[0m\u001b[0;34m\u001b[0m\u001b[0m\n\u001b[0;32m--> 803\u001b[0;31m             \u001b[0mmsg_list\u001b[0m \u001b[0;34m=\u001b[0m \u001b[0msocket\u001b[0m\u001b[0;34m.\u001b[0m\u001b[0mrecv_multipart\u001b[0m\u001b[0;34m(\u001b[0m\u001b[0mmode\u001b[0m\u001b[0;34m,\u001b[0m \u001b[0mcopy\u001b[0m\u001b[0;34m=\u001b[0m\u001b[0mcopy\u001b[0m\u001b[0;34m)\u001b[0m\u001b[0;34m\u001b[0m\u001b[0;34m\u001b[0m\u001b[0m\n\u001b[0m\u001b[1;32m    804\u001b[0m         \u001b[0;32mexcept\u001b[0m \u001b[0mzmq\u001b[0m\u001b[0;34m.\u001b[0m\u001b[0mZMQError\u001b[0m \u001b[0;32mas\u001b[0m \u001b[0me\u001b[0m\u001b[0;34m:\u001b[0m\u001b[0;34m\u001b[0m\u001b[0;34m\u001b[0m\u001b[0m\n",
            "\u001b[0;32m/usr/local/lib/python3.7/dist-packages/zmq/sugar/socket.py\u001b[0m in \u001b[0;36mrecv_multipart\u001b[0;34m(self, flags, copy, track)\u001b[0m\n\u001b[1;32m    624\u001b[0m         \"\"\"\n\u001b[0;32m--> 625\u001b[0;31m         \u001b[0mparts\u001b[0m \u001b[0;34m=\u001b[0m \u001b[0;34m[\u001b[0m\u001b[0mself\u001b[0m\u001b[0;34m.\u001b[0m\u001b[0mrecv\u001b[0m\u001b[0;34m(\u001b[0m\u001b[0mflags\u001b[0m\u001b[0;34m,\u001b[0m \u001b[0mcopy\u001b[0m\u001b[0;34m=\u001b[0m\u001b[0mcopy\u001b[0m\u001b[0;34m,\u001b[0m \u001b[0mtrack\u001b[0m\u001b[0;34m=\u001b[0m\u001b[0mtrack\u001b[0m\u001b[0;34m)\u001b[0m\u001b[0;34m]\u001b[0m\u001b[0;34m\u001b[0m\u001b[0;34m\u001b[0m\u001b[0m\n\u001b[0m\u001b[1;32m    626\u001b[0m         \u001b[0;31m# have first part already, only loop while more to receive\u001b[0m\u001b[0;34m\u001b[0m\u001b[0;34m\u001b[0m\u001b[0;34m\u001b[0m\u001b[0m\n",
            "\u001b[0;32mzmq/backend/cython/socket.pyx\u001b[0m in \u001b[0;36mzmq.backend.cython.socket.Socket.recv\u001b[0;34m()\u001b[0m\n",
            "\u001b[0;32mzmq/backend/cython/socket.pyx\u001b[0m in \u001b[0;36mzmq.backend.cython.socket.Socket.recv\u001b[0;34m()\u001b[0m\n",
            "\u001b[0;32mzmq/backend/cython/socket.pyx\u001b[0m in \u001b[0;36mzmq.backend.cython.socket._recv_copy\u001b[0;34m()\u001b[0m\n",
            "\u001b[0;32m/usr/local/lib/python3.7/dist-packages/zmq/backend/cython/checkrc.pxd\u001b[0m in \u001b[0;36mzmq.backend.cython.checkrc._check_rc\u001b[0;34m()\u001b[0m\n",
            "\u001b[0;31mKeyboardInterrupt\u001b[0m: ",
            "\nDuring handling of the above exception, another exception occurred:\n",
            "\u001b[0;31mKeyboardInterrupt\u001b[0m                         Traceback (most recent call last)",
            "\u001b[0;32m<ipython-input-45-ca277444814b>\u001b[0m in \u001b[0;36m<module>\u001b[0;34m()\u001b[0m\n\u001b[1;32m     13\u001b[0m \u001b[0;32mwhile\u001b[0m \u001b[0;32mTrue\u001b[0m\u001b[0;34m:\u001b[0m\u001b[0;34m\u001b[0m\u001b[0;34m\u001b[0m\u001b[0m\n\u001b[1;32m     14\u001b[0m     \u001b[0mprint_board\u001b[0m\u001b[0;34m(\u001b[0m\u001b[0mboard\u001b[0m\u001b[0;34m)\u001b[0m\u001b[0;34m\u001b[0m\u001b[0;34m\u001b[0m\u001b[0m\n\u001b[0;32m---> 15\u001b[0;31m     \u001b[0mrow\u001b[0m \u001b[0;34m=\u001b[0m \u001b[0mint\u001b[0m\u001b[0;34m(\u001b[0m\u001b[0minput\u001b[0m\u001b[0;34m(\u001b[0m\u001b[0;34m\"Enter row: \"\u001b[0m\u001b[0;34m)\u001b[0m\u001b[0;34m)\u001b[0m\u001b[0;34m\u001b[0m\u001b[0;34m\u001b[0m\u001b[0m\n\u001b[0m\u001b[1;32m     16\u001b[0m     \u001b[0mcol\u001b[0m \u001b[0;34m=\u001b[0m \u001b[0mint\u001b[0m\u001b[0;34m(\u001b[0m\u001b[0minput\u001b[0m\u001b[0;34m(\u001b[0m\u001b[0;34m\"Enter col: \"\u001b[0m\u001b[0;34m)\u001b[0m\u001b[0;34m)\u001b[0m\u001b[0;34m\u001b[0m\u001b[0;34m\u001b[0m\u001b[0m\n\u001b[1;32m     17\u001b[0m     \u001b[0mboard\u001b[0m\u001b[0;34m[\u001b[0m\u001b[0mrow\u001b[0m\u001b[0;34m]\u001b[0m\u001b[0;34m[\u001b[0m\u001b[0mcol\u001b[0m\u001b[0;34m]\u001b[0m \u001b[0;34m=\u001b[0m \u001b[0mplayer\u001b[0m\u001b[0;34m\u001b[0m\u001b[0;34m\u001b[0m\u001b[0m\n",
            "\u001b[0;32m/usr/local/lib/python3.7/dist-packages/ipykernel/kernelbase.py\u001b[0m in \u001b[0;36mraw_input\u001b[0;34m(self, prompt)\u001b[0m\n\u001b[1;32m    702\u001b[0m             \u001b[0mself\u001b[0m\u001b[0;34m.\u001b[0m\u001b[0m_parent_ident\u001b[0m\u001b[0;34m,\u001b[0m\u001b[0;34m\u001b[0m\u001b[0;34m\u001b[0m\u001b[0m\n\u001b[1;32m    703\u001b[0m             \u001b[0mself\u001b[0m\u001b[0;34m.\u001b[0m\u001b[0m_parent_header\u001b[0m\u001b[0;34m,\u001b[0m\u001b[0;34m\u001b[0m\u001b[0;34m\u001b[0m\u001b[0m\n\u001b[0;32m--> 704\u001b[0;31m             \u001b[0mpassword\u001b[0m\u001b[0;34m=\u001b[0m\u001b[0;32mFalse\u001b[0m\u001b[0;34m,\u001b[0m\u001b[0;34m\u001b[0m\u001b[0;34m\u001b[0m\u001b[0m\n\u001b[0m\u001b[1;32m    705\u001b[0m         )\n\u001b[1;32m    706\u001b[0m \u001b[0;34m\u001b[0m\u001b[0m\n",
            "\u001b[0;32m/usr/local/lib/python3.7/dist-packages/ipykernel/kernelbase.py\u001b[0m in \u001b[0;36m_input_request\u001b[0;34m(self, prompt, ident, parent, password)\u001b[0m\n\u001b[1;32m    732\u001b[0m             \u001b[0;32mexcept\u001b[0m \u001b[0mKeyboardInterrupt\u001b[0m\u001b[0;34m:\u001b[0m\u001b[0;34m\u001b[0m\u001b[0;34m\u001b[0m\u001b[0m\n\u001b[1;32m    733\u001b[0m                 \u001b[0;31m# re-raise KeyboardInterrupt, to truncate traceback\u001b[0m\u001b[0;34m\u001b[0m\u001b[0;34m\u001b[0m\u001b[0;34m\u001b[0m\u001b[0m\n\u001b[0;32m--> 734\u001b[0;31m                 \u001b[0;32mraise\u001b[0m \u001b[0mKeyboardInterrupt\u001b[0m\u001b[0;34m\u001b[0m\u001b[0;34m\u001b[0m\u001b[0m\n\u001b[0m\u001b[1;32m    735\u001b[0m             \u001b[0;32melse\u001b[0m\u001b[0;34m:\u001b[0m\u001b[0;34m\u001b[0m\u001b[0;34m\u001b[0m\u001b[0m\n\u001b[1;32m    736\u001b[0m                 \u001b[0;32mbreak\u001b[0m\u001b[0;34m\u001b[0m\u001b[0;34m\u001b[0m\u001b[0m\n",
            "\u001b[0;31mKeyboardInterrupt\u001b[0m: "
          ]
        }
      ]
    },
    {
      "cell_type": "markdown",
      "metadata": {
        "id": "_8aek9zMtjWc"
      },
      "source": [
        "How can we show that the order matters in a list?"
      ]
    },
    {
      "cell_type": "code",
      "metadata": {
        "id": "WoSMPbgstn6F",
        "outputId": "3c3a3dbe-c1a1-442d-e83d-ec92d4929c3a",
        "colab": {
          "base_uri": "https://localhost:8080/"
        }
      },
      "source": [
        "list1 = ['a','b','c']\n",
        "list2 = ['a','b','c']\n",
        "\n",
        "# Shows that two lists, with the same items in the same order are the same.\n",
        "print(list1 == list2)\n",
        "\n",
        "list3 = ['a','c','b']\n",
        "\n",
        "# Shows that if we change the order, they are no longer equal.\n",
        "print(list2 == list3)"
      ],
      "execution_count": 47,
      "outputs": [
        {
          "output_type": "stream",
          "name": "stdout",
          "text": [
            "True\n",
            "False\n"
          ]
        }
      ]
    },
    {
      "cell_type": "markdown",
      "metadata": {
        "id": "6bFZtlVK567M"
      },
      "source": [
        "# 2 - A warning about loops\n",
        "\n",
        "Changing a list (or other collection), while looping over it, can cause unwanted results."
      ]
    },
    {
      "cell_type": "code",
      "metadata": {
        "id": "cRMvNKmA6PDy",
        "outputId": "ff23999c-717a-4687-8195-5d4560f25d72",
        "colab": {
          "base_uri": "https://localhost:8080/"
        }
      },
      "source": [
        "lockdown_hobbies = ['skipping', 'crochet', 'baking', 'exercising', 'reading']\n",
        "\n",
        "for hobby in lockdown_hobbies:\n",
        "    print(hobby)\n",
        "    if hobby == 'skipping':\n",
        "        lockdown_hobbies.remove('skipping')\n"
      ],
      "execution_count": 48,
      "outputs": [
        {
          "output_type": "stream",
          "name": "stdout",
          "text": [
            "skipping\n",
            "baking\n",
            "exercising\n",
            "reading\n"
          ]
        }
      ]
    },
    {
      "cell_type": "markdown",
      "metadata": {
        "id": "eZqAulgMz2dj"
      },
      "source": [
        "# 3 - Dictionaries"
      ]
    },
    {
      "cell_type": "markdown",
      "metadata": {
        "id": "kbq1or8az6w6"
      },
      "source": [
        "In the real world, dictionaries let us look up *words* and find *meanings*.\n",
        "In Python, dictionaries let us look up *keys* and find *values*.\n",
        "\n",
        "Like a list, but with meaningful keys instead of indexes 0, 1, 2..."
      ]
    },
    {
      "cell_type": "markdown",
      "metadata": {
        "id": "U5BF1VcLWLmn"
      },
      "source": [
        "Create a dictionary mapping classes to tutor or lecturer."
      ]
    },
    {
      "cell_type": "code",
      "metadata": {
        "id": "Rxuh3oyZ8Nc0"
      },
      "source": [
        "classes = {'T15A':'Ellie', 'W12A':'Will', 'H15A':'Krishne'}"
      ],
      "execution_count": 50,
      "outputs": []
    },
    {
      "cell_type": "markdown",
      "metadata": {
        "id": "qNXUH1KZ8NtW"
      },
      "source": [
        "Which tutor teaches H15A?"
      ]
    },
    {
      "cell_type": "code",
      "metadata": {
        "id": "Wh9N6fL28PRq",
        "outputId": "414ba30f-6f02-4f9d-ab1d-3f9e3206c065",
        "colab": {
          "base_uri": "https://localhost:8080/"
        }
      },
      "source": [
        "print(classes['H15A'])"
      ],
      "execution_count": 52,
      "outputs": [
        {
          "output_type": "stream",
          "name": "stdout",
          "text": [
            "Krishne\n"
          ]
        }
      ]
    },
    {
      "cell_type": "markdown",
      "metadata": {
        "id": "c5VR6-uiWZkg"
      },
      "source": [
        "Can we add another class to the dictionary?"
      ]
    },
    {
      "cell_type": "code",
      "metadata": {
        "id": "4vGiJTroWeL1",
        "outputId": "e4e9b306-9249-484c-ca74-73ef771326cb",
        "colab": {
          "base_uri": "https://localhost:8080/"
        }
      },
      "source": [
        "classes['H15B'] = 'Will'\n",
        "print(classes)"
      ],
      "execution_count": 53,
      "outputs": [
        {
          "output_type": "stream",
          "name": "stdout",
          "text": [
            "{'T15A': 'Ellie', 'W12A': 'Will', 'H15A': 'Krishne', 'H15B': 'Will'}\n"
          ]
        }
      ]
    },
    {
      "cell_type": "markdown",
      "metadata": {
        "id": "y5LAY7lZWeYn"
      },
      "source": [
        "Can we change which tutor takes a class?"
      ]
    },
    {
      "cell_type": "code",
      "metadata": {
        "id": "UqDcwA4NWkxf",
        "outputId": "e58eba25-8e79-46e9-cc71-17be9f58ff75",
        "colab": {
          "base_uri": "https://localhost:8080/"
        }
      },
      "source": [
        "classes['W12A'] = 'Kai'\n",
        "print(classes)"
      ],
      "execution_count": 54,
      "outputs": [
        {
          "output_type": "stream",
          "name": "stdout",
          "text": [
            "{'T15A': 'Ellie', 'W12A': 'Kai', 'H15A': 'Krishne', 'H15B': 'Will'}\n"
          ]
        }
      ]
    },
    {
      "cell_type": "markdown",
      "metadata": {
        "id": "F9DTDyLJWlCf"
      },
      "source": [
        "Two tutors have swapped classes. How would we go about updating the dictionary?"
      ]
    },
    {
      "cell_type": "code",
      "metadata": {
        "id": "hHthwW21XDii",
        "outputId": "17685acb-c18c-4249-f6e4-fa964b7be3a9",
        "colab": {
          "base_uri": "https://localhost:8080/"
        }
      },
      "source": [
        "# Approach 1\n",
        "\n",
        "backup = classes['T15A']\n",
        "classes['T15A'] = classes['W12A']\n",
        "classes['W12A'] = backup\n",
        "\n",
        "print(classes)"
      ],
      "execution_count": 55,
      "outputs": [
        {
          "output_type": "stream",
          "name": "stdout",
          "text": [
            "{'T15A': 'Kai', 'W12A': 'Ellie', 'H15A': 'Krishne', 'H15B': 'Will'}\n"
          ]
        }
      ]
    },
    {
      "cell_type": "code",
      "metadata": {
        "id": "JTtuLlk8icjB",
        "outputId": "a585616a-5186-4539-b7fa-1555ad9aed39",
        "colab": {
          "base_uri": "https://localhost:8080/"
        }
      },
      "source": [
        "# Approach 2\n",
        "\n",
        "classes['T15A'], classes['W12A'] = classes['W12A'], classes['T15A']\n",
        "print(classes)"
      ],
      "execution_count": 56,
      "outputs": [
        {
          "output_type": "stream",
          "name": "stdout",
          "text": [
            "{'T15A': 'Ellie', 'W12A': 'Kai', 'H15A': 'Krishne', 'H15B': 'Will'}\n"
          ]
        }
      ]
    },
    {
      "cell_type": "markdown",
      "metadata": {
        "id": "QUZ92cv8nvsp"
      },
      "source": [
        "Obfuscation\n",
        "\n",
        "Is there another way to solve this problem?\n",
        "\n",
        "> Oh no, somaona hes dona somathing tarribla to my writing. Thay'va sweppad eround tha lattar 'e' end tha lattar 'a'"
      ]
    },
    {
      "cell_type": "code",
      "metadata": {
        "id": "WsIgYPzan2vi",
        "outputId": "ba3fc8e3-d5da-48fe-d46d-5168c1cc8b74",
        "colab": {
          "base_uri": "https://localhost:8080/"
        }
      },
      "source": [
        "text = \"Oh no, somaona hes dona somathing tarribla to my writing. Thay'va sweppad eround tha lattar 'e' end tha lattar 'a'\"\n",
        "result = \"\"\n",
        "translation = {'a':'e', 'e':'a'}\n",
        "for character in text:\n",
        "    if character in translation:\n",
        "        result += translation[character]\n",
        "    else:\n",
        "        result += character\n",
        "\n",
        "print(result)"
      ],
      "execution_count": 57,
      "outputs": [
        {
          "output_type": "stream",
          "name": "stdout",
          "text": [
            "Oh no, someone has done something terrible to my writing. They've swapped around the letter 'a' and the letter 'e'\n"
          ]
        }
      ]
    },
    {
      "cell_type": "code",
      "metadata": {
        "id": "6jChS8VajFWv",
        "outputId": "9904da9a-dbf5-4b41-cbc3-6fcb8a4cfcff",
        "colab": {
          "base_uri": "https://localhost:8080/",
          "height": 35
        }
      },
      "source": [
        "text.translate(str.maketrans(translation))"
      ],
      "execution_count": 58,
      "outputs": [
        {
          "output_type": "execute_result",
          "data": {
            "application/vnd.google.colaboratory.intrinsic+json": {
              "type": "string"
            },
            "text/plain": [
              "\"Oh no, someone has done something terrible to my writing. They've swapped around the letter 'a' and the letter 'e'\""
            ]
          },
          "metadata": {},
          "execution_count": 58
        }
      ]
    },
    {
      "cell_type": "markdown",
      "metadata": {
        "id": "EqBIuOzqXDzR"
      },
      "source": [
        "Dictionaries are:\n",
        "* ordered*\n",
        "* changeable\n",
        "* does not allow duplicates\n",
        "\n",
        "Note: As of Python version 3.7, dictionaries are ordered. In Python 3.6 and earlier, dictionaries are unordered."
      ]
    },
    {
      "cell_type": "markdown",
      "metadata": {
        "id": "kD2fo7X4RDhd"
      },
      "source": [
        "What happens if we try and put a duplicate entry into a dictionary?"
      ]
    },
    {
      "cell_type": "code",
      "metadata": {
        "id": "04XcJENJRJbO",
        "outputId": "ca5bff41-96c4-400a-aa3a-d2737b160b32",
        "colab": {
          "base_uri": "https://localhost:8080/"
        }
      },
      "source": [
        "print(classes)"
      ],
      "execution_count": 59,
      "outputs": [
        {
          "output_type": "stream",
          "name": "stdout",
          "text": [
            "{'T15A': 'Ellie', 'W12A': 'Kai', 'H15A': 'Krishne', 'H15B': 'Will'}\n"
          ]
        }
      ]
    },
    {
      "cell_type": "code",
      "metadata": {
        "id": "k6kcGgXTjhBy",
        "outputId": "1ae301ac-cef2-490d-9d7f-8d8795127e74",
        "colab": {
          "base_uri": "https://localhost:8080/"
        }
      },
      "source": [
        "classes['T15A'] = 'Liz'\n",
        "print(classes)\n",
        "\n",
        "# Answer: it overwrites the value that was there, it doesn't add the same key again."
      ],
      "execution_count": 60,
      "outputs": [
        {
          "output_type": "stream",
          "name": "stdout",
          "text": [
            "{'T15A': 'Liz', 'W12A': 'Kai', 'H15A': 'Krishne', 'H15B': 'Will'}\n"
          ]
        }
      ]
    },
    {
      "cell_type": "markdown",
      "metadata": {
        "id": "xVUUQjG_LrMY"
      },
      "source": [
        "Can we loop through a dictionary and print out all the keys?"
      ]
    },
    {
      "cell_type": "code",
      "metadata": {
        "id": "_wuW-cauLv9I",
        "outputId": "21ab5ce3-13ae-41cd-d681-052858473d31",
        "colab": {
          "base_uri": "https://localhost:8080/"
        }
      },
      "source": [
        "for tute in classes:\n",
        "    print(tute)"
      ],
      "execution_count": 61,
      "outputs": [
        {
          "output_type": "stream",
          "name": "stdout",
          "text": [
            "T15A\n",
            "W12A\n",
            "H15A\n",
            "H15B\n"
          ]
        }
      ]
    },
    {
      "cell_type": "markdown",
      "metadata": {
        "id": "Sfl92YK4DsTx"
      },
      "source": [
        "Using what we know about dictionaries, how could we use our loop through the keys, to access all the information?"
      ]
    },
    {
      "cell_type": "code",
      "metadata": {
        "id": "bFCxkpreDwfr",
        "outputId": "ab2a992b-73c6-4cb5-a18b-27ec194b50ec",
        "colab": {
          "base_uri": "https://localhost:8080/"
        }
      },
      "source": [
        "for tute in classes:\n",
        "    print(tute+' '+classes[tute])"
      ],
      "execution_count": 63,
      "outputs": [
        {
          "output_type": "stream",
          "name": "stdout",
          "text": [
            "T15A Liz\n",
            "W12A Kai\n",
            "H15A Krishne\n",
            "H15B Will\n"
          ]
        }
      ]
    },
    {
      "cell_type": "markdown",
      "metadata": {
        "id": "6Jj7Wm6JDw4G"
      },
      "source": [
        "Is there a more concise way to display/use all the data in a dictionary?"
      ]
    },
    {
      "cell_type": "code",
      "metadata": {
        "id": "gnZxPebCD2vs",
        "outputId": "78c4858f-032a-4110-baf9-1c21ae02c8da",
        "colab": {
          "base_uri": "https://localhost:8080/"
        }
      },
      "source": [
        "for tute,tutor in classes.items():\n",
        "    print(tute+' '+tutor)"
      ],
      "execution_count": 65,
      "outputs": [
        {
          "output_type": "stream",
          "name": "stdout",
          "text": [
            "T15A Liz\n",
            "W12A Kai\n",
            "H15A Krishne\n",
            "H15B Will\n"
          ]
        }
      ]
    },
    {
      "cell_type": "markdown",
      "metadata": {
        "id": "q0j70CbVjKhY"
      },
      "source": [
        "### Text Analysis Using Dictionaries: E-mail Example"
      ]
    },
    {
      "cell_type": "markdown",
      "metadata": {
        "id": "iFehM0xKi36H"
      },
      "source": [
        "This list contains the e-mail addresses of 4 different students."
      ]
    },
    {
      "cell_type": "code",
      "metadata": {
        "id": "oNTU0_U8jTgi"
      },
      "source": [
        "emails = [\"z1234567@student.unsw.edu.au\", \"z7654321@unsw.edu.au\", \"z7891234@ad.unsw.edu.au\", \"z1357924@student.unsw.edu.au\"]"
      ],
      "execution_count": null,
      "outputs": []
    },
    {
      "cell_type": "markdown",
      "metadata": {
        "id": "1skhA71ajJ1C"
      },
      "source": [
        "Can we build a dictionary containing the Zids as keys and the e-mail addresses as values?"
      ]
    },
    {
      "cell_type": "code",
      "metadata": {
        "id": "LEk-D_rQjbTT"
      },
      "source": [
        ""
      ],
      "execution_count": null,
      "outputs": []
    },
    {
      "cell_type": "markdown",
      "metadata": {
        "id": "blFe2sqUjcRM"
      },
      "source": [
        "How many students prefer each e-mail domain?"
      ]
    },
    {
      "cell_type": "code",
      "metadata": {
        "id": "8R_2JN1QjeXw"
      },
      "source": [
        ""
      ],
      "execution_count": null,
      "outputs": []
    },
    {
      "cell_type": "markdown",
      "metadata": {
        "id": "tkI40jPCjfwA"
      },
      "source": [
        "Can we group students by their preferred e-mail domain?"
      ]
    },
    {
      "cell_type": "code",
      "metadata": {
        "id": "OAQoSRkGjil0"
      },
      "source": [
        ""
      ],
      "execution_count": null,
      "outputs": []
    },
    {
      "cell_type": "markdown",
      "metadata": {
        "id": "8fO_afpfD8Pi"
      },
      "source": [
        "# 4 - Tuples"
      ]
    },
    {
      "cell_type": "markdown",
      "metadata": {
        "id": "fOcEmYZIEFpZ"
      },
      "source": [
        "Tuples are:\n",
        "* ordered\n",
        "* unchangeable\n",
        "* allows duplicates"
      ]
    },
    {
      "cell_type": "markdown",
      "metadata": {
        "id": "me3_0Y_iJ2ml"
      },
      "source": [
        "In Python, Tuples are like lists, with on key difference. They are immutable. That means they cannot be changed after they have been created. In this way, they are similar to strings. They are created (defined) using the () (rather than [ ] like in lists and { } like in dictionaries)."
      ]
    },
    {
      "cell_type": "markdown",
      "metadata": {
        "id": "sBcTABFaEUcJ"
      },
      "source": [
        "Can we use a tuple to return several values from a function?\n",
        "\n",
        "When visiting a theme park, many rides require you to be a certain height before you can ride them.\n",
        "\n",
        "At a specific park there are:\n",
        "\n",
        "* Red Riders: 85-105cm tall. They have access to 9 rides.\n",
        "* Green Riders: 106-131cm tall. They have access to 21 rides.\n",
        "* Yellow Riders: 132cm and taller. They have access to 27 rides.\n",
        "\n",
        "Write a function which takes in the user's height in cm (as a parameter) and returns a string (\"Red Rider\", \"Green Rider\" or \"Yellow Rider\") and the number of rides they have access to.\n",
        "\n",
        "Write a function which asks the user for their height and then calls the function, and displays the results."
      ]
    },
    {
      "cell_type": "code",
      "metadata": {
        "id": "3T_M753vGoVT"
      },
      "source": [
        ""
      ],
      "execution_count": null,
      "outputs": []
    },
    {
      "cell_type": "markdown",
      "metadata": {
        "id": "ZHzbbO4lkdyh"
      },
      "source": [
        "In COMP1010, we are not going to use Tuples in more detail than this. If you are interested in further exploring this topic I recommend:\n",
        "* [W3Schools Tuples](https://www.w3schools.com/python/python_tuples.asp)\n",
        "* [Tutorials Point Tuples](https://www.tutorialspoint.com/python/python_tuples.htm)"
      ]
    },
    {
      "cell_type": "markdown",
      "metadata": {
        "id": "dshwJXJennss"
      },
      "source": [
        "# 5 - Sets\n",
        "\n",
        "We aren't going to cover Python Sets in COMP1010. If you are interested in this form of collection, I recommend:\n",
        "* [W3Schools Sets](https://www.w3schools.com/python/python_sets.asp)"
      ]
    },
    {
      "cell_type": "markdown",
      "metadata": {
        "id": "JEat-wKwBNdb"
      },
      "source": [
        "# 6 - Complex Data Structures"
      ]
    },
    {
      "cell_type": "markdown",
      "metadata": {
        "id": "cFRa9VbmAtZ2"
      },
      "source": [
        "## 1 - House Hunting\n",
        "\n",
        "The following cell defines a list of houses for sale. It includes their address, number of bedrooms and bathrooms, price, and features (garage, pool, granny flat, etc.)"
      ]
    },
    {
      "cell_type": "code",
      "metadata": {
        "id": "DyUHH3tCBQSa"
      },
      "source": [
        "houses = [\n",
        "    { \n",
        "        \"address\": \"42 Wallaby Way, Sydney\", \n",
        "        \"bedrooms\": 3, \n",
        "        \"bathrooms\": 2, \n",
        "        \"features\": [\"garage\", \"pool\"] \n",
        "    },\n",
        "    { \n",
        "        \"address\": \"123 Fake Street, Mosman\", \n",
        "        \"bedrooms\": 6, \n",
        "        \"bathrooms\": 3, \n",
        "        \"features\": [\"pool\", \"granny flat\"]     \n",
        "    },\n",
        "    { \n",
        "        \"address\": \"1 High Street, Kensington\", \n",
        "        \"bedrooms\": 2, \n",
        "        \"bathrooms\": 1, \n",
        "        \"features\": [] \n",
        "    },\n",
        "    { \n",
        "        \"address\": \"109 Kirribilli Ave, Kirribilli\", \n",
        "        \"bedrooms\": 10, \n",
        "        \"bathrooms\": 7, \n",
        "        \"features\": [\"garage\", \"pool\", \"wine cellar\", \"tennis court\"] \n",
        "    }\n",
        "]"
      ],
      "execution_count": null,
      "outputs": []
    },
    {
      "cell_type": "markdown",
      "metadata": {
        "id": "m_5f5IK_BSti"
      },
      "source": [
        "\n",
        "Write the function `find_houses(houses, bedrooms, bathrooms, features)` that returns a list of the addresses of all the houses with at least the given number of bedrooms and bathrooms and at least the given list of features.\n",
        "\n",
        "**NOTE:** Don't assume the list of houses or set of possible features is constrained to what is written above. Your function should still work if new houses were added to the above list."
      ]
    },
    {
      "cell_type": "code",
      "metadata": {
        "id": "zMpFumJHB7QS"
      },
      "source": [
        ""
      ],
      "execution_count": null,
      "outputs": []
    },
    {
      "cell_type": "markdown",
      "metadata": {
        "id": "YzC7pPTXBmrA"
      },
      "source": [
        "Use this cell to test your function:"
      ]
    },
    {
      "cell_type": "code",
      "metadata": {
        "id": "ToutMRHgBpSJ"
      },
      "source": [
        "assert find_houses(houses, 3, 1, [\"garage\"]) == [\"42 Wallaby Way, Sydney\", \"109 Kirribilli Ave, Kirribilli\"]\n",
        "assert find_houses(houses, 6, 4, []) == [\"109 Kirribilli Ave, Kirribilli\"]\n",
        "assert find_houses(houses, 1, 1, [\"granny flat\"]) == [\"123 Fake Street, Mosman\"]"
      ],
      "execution_count": null,
      "outputs": []
    },
    {
      "cell_type": "markdown",
      "metadata": {
        "id": "1JHlGGzR6AF_"
      },
      "source": [
        "# Feedback (Topic 3.4)\n",
        "\n",
        "[https://forms.gle/Uod5Jpr7AJ2z7cHLA](https://forms.gle/Uod5Jpr7AJ2z7cHLA)\n",
        "\n",
        "![](https://i.imgur.com/0L50D4L.png)"
      ]
    }
  ]
}