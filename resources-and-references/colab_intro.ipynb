{
  "nbformat": 4,
  "nbformat_minor": 0,
  "metadata": {
    "colab": {
      "name": "colab-intro.ipynb",
      "provenance": [],
      "authorship_tag": "ABX9TyMVhFUDI8DKz6IGMh72LEcK",
      "include_colab_link": true
    },
    "kernelspec": {
      "name": "python3",
      "display_name": "Python 3"
    },
    "language_info": {
      "name": "python"
    }
  },
  "cells": [
    {
      "cell_type": "markdown",
      "metadata": {
        "id": "view-in-github",
        "colab_type": "text"
      },
      "source": [
        "<a href=\"https://colab.research.google.com/github/sim-mautner/cs1010-21t3/blob/main/resources-and-references/colab_intro.ipynb\" target=\"_parent\"><img src=\"https://colab.research.google.com/assets/colab-badge.svg\" alt=\"Open In Colab\"/></a>"
      ]
    },
    {
      "cell_type": "markdown",
      "metadata": {
        "id": "R3_8MDRPADXu"
      },
      "source": [
        "# Notebooks in COMP1010\n",
        "\n",
        "What you're looking at right now is a Python notebook. In COMP1010, we will be using notebooks as a tool for experimentation, demonstration and documentation.\n",
        "\n",
        "A notebook is comprised of a series of cells. Each of these cells is either a text cell or a code cell. What you're reading right now is a text cell. Below is a code cell. Don't worry if what is written in the code makes no sense to you. That's what you'll be learning in this course 🙂\n",
        "\n",
        "For weeks 2, 3 and 4 we will be using Colaboratory, a free online notebook environment provided by Google. You can use it to read the contents of a notebook by just following a link, as you did to get here, but in order to actually run code, you'll need to sign in with a Google account.\n",
        "\n",
        "If you don't already have a Google account, or you don't want to use your personal account for university course work, you can sign up for one using one of your UNSW student email addresses (e.g. z1234567@unsw.edu.au). To do so, simply click 'Sign in' in the top right corner of this page, then 'Create account', and follow the prompts to create an account.\n",
        "\n",
        "Once you're signed in, you can try running some code! If you hover over [ ] on the left hand side of the cell below, a play button should appear. Click on it to run the code. You may have to click \"Run Anyway\", if it warns you that the code was not authored by Google. It may take a moment, but you should see a helicopter once it finishes executing. You can use your mouse to move it around and see it from all sides."
      ]
    },
    {
      "cell_type": "code",
      "metadata": {
        "id": "Oohb_jfj_rK4"
      },
      "source": [
        "import plotly.graph_objects as go\n",
        "\n",
        "import pandas\n",
        "\n",
        "data = pandas.read_csv('https://raw.githubusercontent.com/plotly/datasets/master/3d-mesh-helicopter.csv')\n",
        "\n",
        "fig = go.Figure(go.Mesh3d(**data))\n",
        "\n",
        "fig.show()"
      ],
      "execution_count": null,
      "outputs": []
    }
  ]
}