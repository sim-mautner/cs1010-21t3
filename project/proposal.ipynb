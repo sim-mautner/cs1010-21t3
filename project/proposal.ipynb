{
  "nbformat": 4,
  "nbformat_minor": 0,
  "metadata": {
    "language_info": {
      "codemirror_mode": {
        "name": "ipython",
        "version": 3
      },
      "file_extension": ".py",
      "mimetype": "text/x-python",
      "name": "python",
      "nbconvert_exporter": "python",
      "pygments_lexer": "ipython3",
      "version": 3
    },
    "orig_nbformat": 2,
    "colab": {
      "name": "proposal.ipynb",
      "provenance": [],
      "include_colab_link": true
    }
  },
  "cells": [
    {
      "cell_type": "markdown",
      "metadata": {
        "id": "view-in-github",
        "colab_type": "text"
      },
      "source": [
        "<a href=\"https://colab.research.google.com/github/sim-mautner/cs1010-21t3/blob/main/project/proposal.ipynb\" target=\"_parent\"><img src=\"https://colab.research.google.com/assets/colab-badge.svg\" alt=\"Open In Colab\"/></a>"
      ]
    },
    {
      "cell_type": "markdown",
      "metadata": {
        "id": "P4sz55eAPf56"
      },
      "source": [
        "# *Replace with the title of your project*\n",
        "\n",
        "## Contributors\n",
        "\n",
        "Name: *replace with your name(s)*\n",
        "\n",
        "Student number: *replace with student number(s)*\n",
        "\n",
        "## Problem statement\n",
        "\n",
        "*Give a brief description of the problem you are trying to solve. Don't include any technical details. Your description should be understandable to a reader with no technical background or domain knowledge.*\n",
        "\n",
        "## Background\n",
        "\n",
        "*Describe the context in which you are undertaking this project. You should include: any external resources on which your project depends (data sources, website APIs, Python libraries we've not covered in this course, etc.), existing solutions to the same or similar projects, and any other information that the reader needs to know to understand how you intend to solve the given problem.*\n",
        "\n",
        "## Target users\n",
        "\n",
        "*Who are the intended users of the application for which you are making a protoype? What are their needs? This section does not need to be long, but avoid being too broad in your description of the users. \"Anyone who wants it\" isn't a specific enough set of people to target an application.*\n",
        "\n",
        "## Minimum Viable Product/Prototype\n",
        "\n",
        "*Consider what the simplest solution to the problem above would be. For this project, you are not required to produce a completely polished product fit for general use, but you should still take into account usability when deciding viability. In this section, describe a version of your application with the fewest possible features, but which would still be useful to the target users.*"
      ]
    },
    {
      "cell_type": "markdown",
      "metadata": {
        "id": "H7OrkuYWPf59"
      },
      "source": [
        "## Demonstration of feasibility\n",
        "\n",
        "*Describe a core feature of your prototype application and provide a demonstration of how that feature may work in the code cell below (you can add further code cells if you wish). For example, if your application gets data from an external source, write code here that does that so you can demonstrate it is feasible. Similarly, if your application relies on you implementing an algorithm, using a library we haven't covered in the course, or generating images/visualisations, write code here does that.*"
      ]
    },
    {
      "cell_type": "code",
      "metadata": {
        "id": "8DPwu2GCPf5_"
      },
      "source": [
        ""
      ],
      "execution_count": null,
      "outputs": []
    },
    {
      "cell_type": "markdown",
      "metadata": {
        "id": "XYkG4GE5Pf6I"
      },
      "source": [
        "## \"Nice to have\" features\n",
        "\n",
        "*Describe any additional features that would improve the experience of using your prototype for the target users. These features should not be strictly necessary for the prototype to be useful, but may include things most users would expect as standard. This could include things like: being able to register an account, saving user preferences, or social media integration. Features should be itemized with dot points or numbered.* "
      ]
    },
    {
      "cell_type": "markdown",
      "metadata": {
        "id": "Q47Ea6a8Pf6J"
      },
      "source": [
        "## Stretch goals\n",
        "\n",
        "*Include here any features that would make your prototype really shine, but which you are not confident you can implement in the time available for this project. Don't be afraid to be ambitious in selecting stretch goals. See the marking scheme for the final prototype for information on what marks are available for completing stretch goals. Stretch goals should be itemized with dot points or numbered.* "
      ]
    },
    {
      "cell_type": "markdown",
      "metadata": {
        "id": "TJtK7ahhPf6K"
      },
      "source": [
        "## Marking Criteria\n",
        "\n",
        "The table below contains the marking criteria for this proposal. Don't delete it as your tutor will fill it in during marking.\n",
        "\n",
        "| Criteria | Mark | Notes | \n",
        "| -------------------------------------------------------- | ---- | --- |\n",
        "| Clearly defined problem to be solved (1 mark)                                     |      | |\n",
        "| Background includes information necessary for building a prototype (2 mark)       |      | |\n",
        "| Appropriate set of target users (1 marks)                                         |      | |\n",
        "| MVP is both minimal and viable (1 marks)                                          |      | |\n",
        "| Code in feasibility demonstration produces an appropriate result (3 marks)        |      | |\n",
        "| Comprehensive list of \"nice to have\" features (1 mark)                            |      | |\n",
        "| Appropriate ambitious stretch goals (1 mark)                                      |      | |\n"
      ]
    }
  ]
}