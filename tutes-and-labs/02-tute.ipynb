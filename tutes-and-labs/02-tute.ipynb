{
  "nbformat": 4,
  "nbformat_minor": 0,
  "metadata": {
    "colab": {
      "name": "02-tute.ipynb",
      "provenance": [],
      "toc_visible": true,
      "include_colab_link": true
    },
    "kernelspec": {
      "name": "python3",
      "display_name": "Python 3"
    },
    "language_info": {
      "name": "python"
    }
  },
  "cells": [
    {
      "cell_type": "markdown",
      "metadata": {
        "id": "view-in-github",
        "colab_type": "text"
      },
      "source": [
        "<a href=\"https://colab.research.google.com/github/sim-mautner/cs1010-21t3/blob/main/tutes-and-labs/02-tute.ipynb\" target=\"_parent\"><img src=\"https://colab.research.google.com/assets/colab-badge.svg\" alt=\"Open In Colab\"/></a>"
      ]
    },
    {
      "cell_type": "markdown",
      "metadata": {
        "id": "isdUfdAwJLVt"
      },
      "source": [
        "# Week 2 Tutorial"
      ]
    },
    {
      "cell_type": "markdown",
      "metadata": {
        "id": "mx_atH3vJekl"
      },
      "source": [
        "## Fixing Python\n",
        "\n",
        "The following problems all have solutions written in Python. However, they contain bugs that stop them from working correctly. Try to identify the bug and fix them."
      ]
    },
    {
      "cell_type": "markdown",
      "metadata": {
        "id": "Dv2mr0G3JseG"
      },
      "source": [
        "How many characters are there in this quote?"
      ]
    },
    {
      "cell_type": "code",
      "metadata": {
        "id": "SW0Bi8XsEBUR"
      },
      "source": [
        "quote = \"This isn’t flying. This is falling with style.\"\n",
        "\n",
        "quote.len()"
      ],
      "execution_count": null,
      "outputs": []
    },
    {
      "cell_type": "markdown",
      "metadata": {
        "id": "jpXEVSKPEBUR"
      },
      "source": [
        "How many 9s are in the decimal representation of this number?"
      ]
    },
    {
      "cell_type": "code",
      "metadata": {
        "id": "96Wx70mGEBUR"
      },
      "source": [
        "a big number = 87609809843907458937469\n",
        "\n",
        "str(a big number).count(\"9\")"
      ],
      "execution_count": null,
      "outputs": []
    },
    {
      "cell_type": "markdown",
      "metadata": {
        "id": "JOWqD3V2EBUS"
      },
      "source": [
        "If factory produces 500 cars in 30 days, how many cars are they producing an hour, on average, assuming the factory operates for 8 hours a day?"
      ]
    },
    {
      "cell_type": "code",
      "metadata": {
        "id": "VHxQDyfAEBUS"
      },
      "source": [
        "500 / 30*8"
      ],
      "execution_count": null,
      "outputs": []
    },
    {
      "cell_type": "markdown",
      "metadata": {
        "id": "HokAq4qOXnce"
      },
      "source": [
        "## Boolean logic\n",
        "\n",
        "Your tutor will divide you into groups of 3 or 4 for this task.\n",
        "\n",
        "Consider the code in this cell:"
      ]
    },
    {
      "cell_type": "code",
      "metadata": {
        "id": "FhxCQ97lXnce"
      },
      "source": [
        "word = \"lounge\"\n",
        "len(word) == 5 and (word[0] == \"l\" or word[3:5] == \"gh\")"
      ],
      "execution_count": null,
      "outputs": []
    },
    {
      "cell_type": "markdown",
      "metadata": {
        "id": "FnDFXM10Xncf"
      },
      "source": [
        "If you run it, you will see that it evaluates to `False`. If you change the first line to `word = \"laugh\"` and rerun the cell, you should see the result change to `True`. With the other members of your group, see how many other dictionary words you can assign to `word` such that the result is `True`. You may find it helpful to write down, in natural language, the logic that is being used."
      ]
    },
    {
      "cell_type": "markdown",
      "metadata": {
        "id": "k8r5AfZpL6au"
      },
      "source": [
        "## Conditionals\n",
        "\n",
        "Write a Python program which asks the user to enter their total marks for a course, and then prints out:\n",
        "* HD if their mark is at least 85.\n",
        "* DN if their mark is at least 75 but less than 85.\n",
        "* CR if their mark is at least 65 but less than 75.\n",
        "* PS if their mark is at least 50 but less than 65.\n",
        "* FL if their mark is less than 50.\n",
        "\n",
        "As a class, how many different ways can you come up with to write this program?"
      ]
    }
  ]
}