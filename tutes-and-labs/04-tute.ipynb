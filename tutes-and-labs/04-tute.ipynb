{
  "nbformat": 4,
  "nbformat_minor": 0,
  "metadata": {
    "colab": {
      "name": "04-tute.ipynb",
      "provenance": [],
      "toc_visible": true,
      "include_colab_link": true
    },
    "kernelspec": {
      "name": "python3",
      "display_name": "Python 3"
    },
    "language_info": {
      "name": "python"
    }
  },
  "cells": [
    {
      "cell_type": "markdown",
      "metadata": {
        "id": "view-in-github",
        "colab_type": "text"
      },
      "source": [
        "<a href=\"https://colab.research.google.com/github/sim-mautner/cs1010-21t3/blob/main/tutes-and-labs/04-tute.ipynb\" target=\"_parent\"><img src=\"https://colab.research.google.com/assets/colab-badge.svg\" alt=\"Open In Colab\"/></a>"
      ]
    },
    {
      "cell_type": "markdown",
      "metadata": {
        "id": "isdUfdAwJLVt"
      },
      "source": [
        "# Week 4 Tutorial"
      ]
    },
    {
      "cell_type": "markdown",
      "metadata": {
        "id": "vkozy5nUhhD_"
      },
      "source": [
        "## Kahoot\n",
        "\n",
        "Your tutor will run through a Kahoot with you to test how well you remember certain concepts from the past two weeks."
      ]
    },
    {
      "cell_type": "markdown",
      "metadata": {
        "id": "qLao2EeMidIE"
      },
      "source": [
        "## Dictionaries"
      ]
    },
    {
      "cell_type": "markdown",
      "metadata": {
        "id": "PLiF_4mZigV0"
      },
      "source": [
        "This dictionary contains a collection of students along with the number of courses they are doing next term. Some of the students are graduating, so aren't doing any subjects next term. The most subjects a student can do in a term is 4."
      ]
    },
    {
      "cell_type": "code",
      "metadata": {
        "id": "uHwCySK3ihp_"
      },
      "source": [
        "student_subjects = {\n",
        "    \"Sally Studies\": 3, \n",
        "    \"Penelope Prepares\": 0, \n",
        "    \"Francis Forgets\": 1, \n",
        "    \"David Doesn't-Read-Spec\": 2, \n",
        "    \"Oliver Overconfident\": 4, \n",
        "    \"Larry Leaves-It-To-The-Last-Minute\": 3, \n",
        "    \"Emily Eager\": 2, \n",
        "    \"Aaron Asks-Questions\": 3\n",
        "    }"
      ],
      "execution_count": null,
      "outputs": []
    },
    {
      "cell_type": "markdown",
      "metadata": {
        "id": "srTbSVMYilaj"
      },
      "source": [
        "How would you add yourself to the dictionary? Your tutor will pick a few of you to add and put you in the code cell below."
      ]
    },
    {
      "cell_type": "code",
      "metadata": {
        "id": "Ag0qZucuimQV"
      },
      "source": [
        ""
      ],
      "execution_count": null,
      "outputs": []
    },
    {
      "cell_type": "markdown",
      "metadata": {
        "id": "7LP4NDisimlD"
      },
      "source": [
        "Write a for-loop that calculates how many students are doing each possible number of courses, storing the results in the variables provided."
      ]
    },
    {
      "cell_type": "code",
      "metadata": {
        "id": "Y_XrX-X2iqaz"
      },
      "source": [
        "zero_subjects = 0\n",
        "one_subject = 0\n",
        "two_subjects = 0\n",
        "three_subjects = 0\n",
        "four_subjects = 0\n",
        "\n",
        "# Write for-loop here"
      ],
      "execution_count": null,
      "outputs": []
    },
    {
      "cell_type": "markdown",
      "metadata": {
        "id": "SucMDJXSisyr"
      },
      "source": [
        "Repeat the exercise, but store the results in a 5-element list instead."
      ]
    },
    {
      "cell_type": "code",
      "metadata": {
        "id": "ygfgUC7CiteS"
      },
      "source": [
        "subjects = [0] * 5\n",
        "\n",
        "# Write for-loop here"
      ],
      "execution_count": null,
      "outputs": []
    },
    {
      "cell_type": "markdown",
      "metadata": {
        "id": "C8TBCsn0iw-K"
      },
      "source": [
        "Discuss the two approaches."
      ]
    },
    {
      "cell_type": "markdown",
      "metadata": {
        "id": "mGpEAl40rrsi"
      },
      "source": [
        "## Nested data structures"
      ]
    },
    {
      "cell_type": "markdown",
      "metadata": {
        "id": "BhjW9Hszt0Rg"
      },
      "source": [
        "### Menu\n",
        "\n",
        "How could you represent a restaurant menu in Python. The menu would need to include the dishes, what sort of dish they were (appetiser, main, desert, etc.), their price and their ingredients.\n",
        "\n",
        "Try to come up with different possible representations using combinations of dictionaries and lists."
      ]
    },
    {
      "cell_type": "markdown",
      "metadata": {
        "id": "W12Q8joatvu0"
      },
      "source": [
        "### Auction site\n",
        "\n",
        "The following dictionary describes a series of items for sale on an auction site. Each item has a reserve price and a series of bids. The bids are in the order they were received-- i.e. most recent and highest bid at the end."
      ]
    },
    {
      "cell_type": "code",
      "metadata": {
        "id": "GH-Gyablt8XQ"
      },
      "source": [
        "auctions = {\n",
        "    \"lamp\": {\n",
        "        \"reserve_price\": 25,\n",
        "        \"bids\": [\n",
        "            { \"bidder\": \"coolguy92\", \"bid\": 5 },\n",
        "            { \"bidder\": \"xoxo_lucie\", \"bid\": 10 },\n",
        "            { \"bidder\": \"addicted_to_ebay\", \"bid\": 20 },\n",
        "            { \"bidder\": \"coolguy92\", \"bid\": 30 }\n",
        "        ]\n",
        "    },\n",
        "    \"figurine\": {\n",
        "        \"reserve_price\": 10,\n",
        "        \"bids\": [\n",
        "            { \"bidder\": \"user1234\", \"bid\": 2 },\n",
        "            { \"bidder\": \"xoxo_lucie\", \"bid\": 5 }\n",
        "        ]\n",
        "    },\n",
        "    \"pokemon card\": {\n",
        "        \"reserve_price\": 500,\n",
        "        \"bids\": [\n",
        "            { \"bidder\": \"ihavetoomuchmoney\", \"bid\": 500 },\n",
        "            { \"bidder\": \"addicted_to_ebay\", \"bid\": 600 }\n",
        "        ]\n",
        "    },\n",
        "    \"holiday package\": {\n",
        "        \"reserve_price\": 1500,\n",
        "        \"bids\": []\n",
        "    },\n",
        "}"
      ],
      "execution_count": null,
      "outputs": []
    },
    {
      "cell_type": "markdown",
      "metadata": {
        "id": "9sF0uJqEt-bB"
      },
      "source": [
        "Write a function, `reserve_met()`, that returns a list of all the items that have met their reserve price. All the items returned should have a bid that is greater than or equal to the reserve price."
      ]
    },
    {
      "cell_type": "code",
      "metadata": {
        "id": "eOW15a7nt_Og"
      },
      "source": [
        ""
      ],
      "execution_count": null,
      "outputs": []
    },
    {
      "cell_type": "markdown",
      "metadata": {
        "id": "TfB4fdVWuBjD"
      },
      "source": [
        "Use this cell to test your function."
      ]
    },
    {
      "cell_type": "code",
      "metadata": {
        "id": "sXCc_f77uFeq"
      },
      "source": [
        "assert reserve_met() == [\"lamp\", \"pokemon card\"]"
      ],
      "execution_count": null,
      "outputs": []
    },
    {
      "cell_type": "markdown",
      "metadata": {
        "id": "rEdFD84KuHwZ"
      },
      "source": [
        "Write a function, `dashboard(user)`, that returns a dictionary containing all the items that user has bid on. It needs to include what their most recent bid was and whether it is currently the winning bid. See the testing cell below for the exact format."
      ]
    },
    {
      "cell_type": "code",
      "metadata": {
        "id": "ayr44S-fuKER"
      },
      "source": [
        ""
      ],
      "execution_count": null,
      "outputs": []
    },
    {
      "cell_type": "markdown",
      "metadata": {
        "id": "DZDeCCb2uKcQ"
      },
      "source": [
        "Use this cell to test your function"
      ]
    },
    {
      "cell_type": "code",
      "metadata": {
        "id": "bBQIeiUyuMUl"
      },
      "source": [
        "assert dashboard(\"coolguy92\") == { \n",
        "    \"lamp\": { \n",
        "        \"latest_bid\": 30, \n",
        "        \"winning_bid\": True \n",
        "    } \n",
        "}\n",
        "assert dashboard(\"xoxo_lucie\") == { \n",
        "    \"lamp\": { \n",
        "        \"latest_bid\": 10, \n",
        "        \"winning_bid\": False \n",
        "    },\n",
        "    \"figurine\": { \n",
        "        \"latest_bid\": 5, \n",
        "        \"winning_bid\": True \n",
        "    },\n",
        "}\n",
        "assert dashboard(\"addicted_to_ebay\") == { \n",
        "    \"lamp\": { \n",
        "        \"latest_bid\": 20, \n",
        "        \"winning_bid\": False \n",
        "    },\n",
        "    \"pokemon card\": { \n",
        "        \"latest_bid\": 600, \n",
        "        \"winning_bid\": True \n",
        "    },\n",
        "}"
      ],
      "execution_count": null,
      "outputs": []
    }
  ]
}