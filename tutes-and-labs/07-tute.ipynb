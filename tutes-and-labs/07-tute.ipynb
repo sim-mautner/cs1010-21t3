{
  "nbformat": 4,
  "nbformat_minor": 0,
  "metadata": {
    "colab": {
      "name": "07-tute.ipynb",
      "provenance": [],
      "include_colab_link": true
    },
    "kernelspec": {
      "name": "python3",
      "display_name": "Python 3"
    },
    "language_info": {
      "name": "python"
    }
  },
  "cells": [
    {
      "cell_type": "markdown",
      "metadata": {
        "id": "view-in-github",
        "colab_type": "text"
      },
      "source": [
        "<a href=\"https://colab.research.google.com/github/sim-mautner/cs1010-21t3/blob/main/tutes-and-labs/07-tute.ipynb\" target=\"_parent\"><img src=\"https://colab.research.google.com/assets/colab-badge.svg\" alt=\"Open In Colab\"/></a>"
      ]
    },
    {
      "cell_type": "markdown",
      "metadata": {
        "id": "isdUfdAwJLVt"
      },
      "source": [
        "# Week 7 Tutorial"
      ]
    },
    {
      "cell_type": "markdown",
      "metadata": {
        "id": "vkozy5nUhhD_"
      },
      "source": [
        "## Kahoot\n",
        "\n",
        "Your tutor will run through a Kahoot with you to test how well you remember certain concepts from the past two weeks."
      ]
    },
    {
      "cell_type": "markdown",
      "metadata": {
        "id": "jTwfRcjJNil_"
      },
      "source": [
        "## Cookies"
      ]
    },
    {
      "cell_type": "markdown",
      "metadata": {
        "id": "c1eoWglsmnI8"
      },
      "source": [
        "### Task\n",
        "\n",
        "Below is the code you were provided with last week.\n",
        "\n",
        "Change the code so that it uses cookies (Flask session) to store the `last_num`, `current_num` and `score`."
      ]
    },
    {
      "cell_type": "code",
      "metadata": {
        "id": "dQlF9T0hxUML"
      },
      "source": [
        "# import Flask and pyhtml\n",
        "from flask import Flask, request\n",
        "from pyhtml import html, head, body, title, h1, p, form, input_\n",
        "from random import randint\n",
        "\n",
        "RANGE_MIN = 0\n",
        "RANGE_MAX = 7\n",
        "\n",
        "# create the Flask app\n",
        "app = Flask(__name__)\n",
        "\n",
        "# Returns True if the game is in progress. False otherwise.\n",
        "def game_in_progress(last_num):\n",
        "    return last_num in range(RANGE_MIN,RANGE_MAX)\n",
        "\n",
        "# Returns True if the user selected the correct button. False otherwise.\n",
        "def button_correct(same, last_num, current_num):\n",
        "    if same == \"Same\" and last_num == current_num:\n",
        "        return True\n",
        "    if same == \"Not Same\" and last_num != current_num:\n",
        "        return True\n",
        "\n",
        "# declare a route and link it to a function\n",
        "@app.route('/', methods=[\"GET\",\"POST\"])\n",
        "def homepage():\n",
        "\n",
        "    current_num = 0\n",
        "    last_num = RANGE_MIN-1 # Can't use None because passing it through an HTML form loses its data type and it becomes '0'.\n",
        "    score = 0\n",
        "\n",
        "    if request.method == \"POST\":\n",
        "\n",
        "        # If the user hasn't asked for a new game\n",
        "        if \"new\" not in request.form:\n",
        "\n",
        "            # Extract values from form\n",
        "            last_num = int(request.form['last_num'])\n",
        "            current_num = int(request.form['current_num'])\n",
        "            score = int(request.form['score'])\n",
        "            same = request.form['same']\n",
        "\n",
        "            # Update score\n",
        "            if game_in_progress(last_num):\n",
        "                if button_correct(same, last_num, current_num):\n",
        "                    score += 1\n",
        "\n",
        "            # Prepare values for the next round\n",
        "            last_num = current_num\n",
        "            current_num = randint(RANGE_MIN, RANGE_MAX)\n",
        "\n",
        "    # Create HTML\n",
        "    instructions = \"... someone stole the instructions... \"\n",
        "    response = html(\n",
        "        head(\n",
        "            title(\"Game\")\n",
        "        ),\n",
        "        body(\n",
        "            h1(\"Game\"),\n",
        "            p(instructions),\n",
        "            p(\"Score: \"+str(score)),\n",
        "            \n",
        "            p(current_num),\n",
        "            form(action=\"/\")(\n",
        "\n",
        "                # Using hidden fields to pass values to the next round.\n",
        "                # Over the next weeks we will find a better option than this.\n",
        "                input_(type=\"hidden\", name=\"last_num\", value=last_num),\n",
        "                input_(type=\"hidden\", name=\"current_num\", value=current_num),\n",
        "                input_(type=\"hidden\", name=\"score\", value=score),\n",
        "\n",
        "                # Actual form content\n",
        "                input_(type=\"submit\", name=\"same\", value=\"Same\"),\n",
        "                input_(type=\"submit\", name=\"same\", value=\"Not Same\"),\n",
        "                input_(type=\"submit\", name=\"new\", value=\"New Game\")\n",
        "            )\n",
        "\n",
        "        )\n",
        "    )\n",
        "    return str(response)\n",
        "\n",
        "# if this file has been run, then run the Flask app\n",
        "if __name__ == \"__main__\":\n",
        "    app.run(debug=True)\n"
      ],
      "execution_count": null,
      "outputs": []
    },
    {
      "cell_type": "markdown",
      "metadata": {
        "id": "C6-79pFuXxgN"
      },
      "source": [
        "## Serialization\n",
        "\n",
        "### Task\n",
        "\n",
        "Add functionality to the code above to:\n",
        "* Assign each user an id or username. It must be unique. Store it in their cookies.\n",
        "* Save the id/username with their score in a json file on the server.\n",
        "* Allow the user to view their ranking (how many people have a better/worse score than them on the server) on the website.\n",
        "\n",
        "(Although this isn't a great indication of a high score, it gives the sense of how it would be done. If you'd like, you can update the score to be a correct:incorrect ratio and store that value so rather than being an indication of how much time they've spent playing the game, it's an indication of their success rate within the game.)\n",
        "\n",
        "(Make sure to test your code. These tasks are written in Colab out of habit but your programming will be done in VSCode.)"
      ]
    }
  ]
}