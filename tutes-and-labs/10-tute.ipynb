{
  "nbformat": 4,
  "nbformat_minor": 0,
  "metadata": {
    "colab": {
      "name": "10-tute.ipynb",
      "provenance": [],
      "include_colab_link": true
    },
    "kernelspec": {
      "name": "python3",
      "display_name": "Python 3"
    },
    "language_info": {
      "name": "python"
    }
  },
  "cells": [
    {
      "cell_type": "markdown",
      "metadata": {
        "id": "view-in-github",
        "colab_type": "text"
      },
      "source": [
        "<a href=\"https://colab.research.google.com/github/sim-mautner/cs1010-21t3/blob/main/tutes-and-labs/10-tute.ipynb\" target=\"_parent\"><img src=\"https://colab.research.google.com/assets/colab-badge.svg\" alt=\"Open In Colab\"/></a>"
      ]
    },
    {
      "cell_type": "markdown",
      "metadata": {
        "id": "isdUfdAwJLVt"
      },
      "source": [
        "# Week 10 Tutorial"
      ]
    },
    {
      "cell_type": "markdown",
      "metadata": {
        "id": "6dw7JmLCvzaZ"
      },
      "source": [
        "## myExperience\n",
        "\n",
        "Please take 10 minutes to fill out the myExperience forms for this course. (on Moodle)"
      ]
    },
    {
      "cell_type": "markdown",
      "metadata": {
        "id": "vkozy5nUhhD_"
      },
      "source": [
        "## Big Kahoot\n",
        "\n",
        "Your tutor will run through a Kahoot with you to test how well you remember certain concepts from the course."
      ]
    },
    {
      "cell_type": "markdown",
      "metadata": {
        "id": "8Q-WJF8-kcA_"
      },
      "source": [
        "## Revision\n",
        "\n",
        "Finish any questions you didn't have time for last week.\n",
        "\n",
        "If you have any questions remaining from this term, this is your chance to get them answered."
      ]
    }
  ]
}