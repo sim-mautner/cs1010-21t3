{
  "nbformat": 4,
  "nbformat_minor": 0,
  "metadata": {
    "colab": {
      "name": "05-lab.ipynb",
      "provenance": [],
      "authorship_tag": "ABX9TyNHhzv2tUW1lx7FoUQKblkn",
      "include_colab_link": true
    },
    "kernelspec": {
      "name": "python3",
      "display_name": "Python 3"
    },
    "language_info": {
      "name": "python"
    }
  },
  "cells": [
    {
      "cell_type": "markdown",
      "metadata": {
        "id": "view-in-github",
        "colab_type": "text"
      },
      "source": [
        "<a href=\"https://colab.research.google.com/github/sim-mautner/cs1010-21t3/blob/main/tutes-and-labs/05-lab.ipynb\" target=\"_parent\"><img src=\"https://colab.research.google.com/assets/colab-badge.svg\" alt=\"Open In Colab\"/></a>"
      ]
    },
    {
      "cell_type": "markdown",
      "metadata": {
        "id": "JNruw-fj5uKW"
      },
      "source": [
        "# Week 5 Lab (7 marks)\n",
        "\n",
        "**IMPORTANT NOTE** If you're using Colaboratory, make sure you save a copy of these exercises to Google drive by clicking 'Copy to Drive' at the top of the page. Otherwise, your answers will not be saved.\n",
        "The first exercises for this lab *can* be done in Colaboratory, but the last exercise requires you to implement a web server, so you will need to have Python running on your own computer for at least that exercise.\n",
        "\n",
        "To get the marks for these tasks, you need to show your solutions to you lab demonstrater in either your week 5, 7, or 8 lab."
      ]
    },
    {
      "cell_type": "markdown",
      "metadata": {
        "id": "M-JYBNkj5Zcm"
      },
      "source": [
        "## Web Server (1 mark)"
      ]
    },
    {
      "cell_type": "markdown",
      "metadata": {
        "id": "2iFJdJWa5Zcm"
      },
      "source": [
        "In a separate file, `text_server.py`, write a Flask web server that analyses text. On the main page have a textbox and a submit button. If the submit button is pressed, on the next page show an analysis of whatever was in the text box. This analysis should include: the number of characters (including spaces and punctuation), the number of characters (excluding punctuation), and the number of words. \n",
        "\n",
        "**Note**:\n",
        "* All responses the server gives should be in HTML. You may wish to use this as an opportunity to familiarise yourself with HTML and PyHTML.\n",
        "* You can use the web servers implemented in lectures as a guide to structuring your code.\n"
      ]
    }
  ]
}