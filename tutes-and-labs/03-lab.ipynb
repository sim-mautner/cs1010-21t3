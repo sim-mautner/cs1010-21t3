{
  "nbformat": 4,
  "nbformat_minor": 0,
  "metadata": {
    "language_info": {
      "codemirror_mode": {
        "name": "ipython",
        "version": 3
      },
      "file_extension": ".py",
      "mimetype": "text/x-python",
      "name": "python",
      "nbconvert_exporter": "python",
      "pygments_lexer": "ipython3",
      "version": "3.9.0-final"
    },
    "orig_nbformat": 2,
    "kernelspec": {
      "name": "python3",
      "display_name": "Python 3.9.0 64-bit",
      "metadata": {
        "interpreter": {
          "hash": "ac2eaa0ea0ebeafcc7822e65e46aa9d4f966f30b695406963e145ea4a91cd4fc"
        }
      }
    },
    "colab": {
      "name": "03-lab.ipynb",
      "provenance": [],
      "include_colab_link": true
    }
  },
  "cells": [
    {
      "cell_type": "markdown",
      "metadata": {
        "id": "view-in-github",
        "colab_type": "text"
      },
      "source": [
        "<a href=\"https://colab.research.google.com/github/sim-mautner/cs1010-21t3/blob/main/tutes-and-labs/03-lab.ipynb\" target=\"_parent\"><img src=\"https://colab.research.google.com/assets/colab-badge.svg\" alt=\"Open In Colab\"/></a>"
      ]
    },
    {
      "cell_type": "markdown",
      "metadata": {
        "id": "u2WhDvLUEben"
      },
      "source": [
        "# Week 3 Lab (2.5 marks)\n",
        "\n",
        "**IMPORTANT NOTE** If you're using Colaboratory, make sure you save a copy of these exercises to Google drive by clicking 'Copy to Drive' at the top of the page. Otherwise, your answers will not be saved."
      ]
    },
    {
      "cell_type": "markdown",
      "metadata": {
        "id": "2ZeNDw999OqM"
      },
      "source": [
        "## Functions (1 mark)"
      ]
    },
    {
      "cell_type": "markdown",
      "metadata": {
        "id": "cEs-kW1B_AQ8"
      },
      "source": [
        "### BMI\n",
        "\n"
      ]
    },
    {
      "cell_type": "markdown",
      "metadata": {
        "id": "eNFde4SJ_Gdt"
      },
      "source": [
        "Write a function `bmi` that takes in a `weight` in kilograms and a `height` in metres, and returns a Body Mass Index (BMI). A BMI is calculated as $\\frac{weight}{height^2}$."
      ]
    },
    {
      "cell_type": "code",
      "metadata": {
        "id": "BOIl5_Ww_HSD"
      },
      "source": [
        ""
      ],
      "execution_count": null,
      "outputs": []
    },
    {
      "cell_type": "markdown",
      "metadata": {
        "id": "qb-V2tRr_HvT"
      },
      "source": [
        "Show that your function works by running the cell below. You should get approximately 22.857."
      ]
    },
    {
      "cell_type": "code",
      "metadata": {
        "id": "hwwcBAaW_K1r"
      },
      "source": [
        "bmi(70, 1.75)"
      ],
      "execution_count": null,
      "outputs": []
    },
    {
      "cell_type": "markdown",
      "metadata": {
        "id": "LPq8gdo79iob"
      },
      "source": [
        "### Longer tweets\n",
        "\n",
        "Write a function `extend_tweet(tweet)` that takes in a string that is 280 characters or less and adds enough full stops ('.') to the end to make it exactly 280 characters."
      ]
    },
    {
      "cell_type": "code",
      "metadata": {
        "id": "aMjMCkLn90sp"
      },
      "source": [
        ""
      ],
      "execution_count": null,
      "outputs": []
    },
    {
      "cell_type": "markdown",
      "metadata": {
        "id": "TBNKJRLj90_K"
      },
      "source": [
        "Use this cell below to check if you got it right. The last line of the result should say the tweet is 280 characters."
      ]
    },
    {
      "cell_type": "code",
      "metadata": {
        "id": "U7ezayy294IS"
      },
      "source": [
        "short_tweet = \"Oh my god, did you hear about my amazing life. It's just so great. I want to tell you about it in so much detail\"\n",
        "long_tweet = extend_tweet(short_tweet)\n",
        "print(long_tweet)\n",
        "print(\"Tweet is \" + str(len(long_tweet)) + \" characters long\")"
      ],
      "execution_count": null,
      "outputs": []
    },
    {
      "cell_type": "markdown",
      "metadata": {
        "id": "tB1rdmyPDKJX"
      },
      "source": [
        "## Testing (0.5 marks)"
      ]
    },
    {
      "cell_type": "markdown",
      "metadata": {
        "id": "q80hVlkCDx7_"
      },
      "source": [
        "### Vowel Counting (Tests)"
      ]
    },
    {
      "cell_type": "markdown",
      "metadata": {
        "id": "7HSUmsh0DNbN"
      },
      "source": [
        "Consider (don't write) the function, `vowels(text)`, that counts the total number of vowels (a, e, i, o, and u) in a given string and returns the total.\n",
        "\n",
        "Write a complete set of assert statements, that if they all pass, you can be confident that the function is correct. (As a guide, you should have at least 3 tests, each one testing a different circumstance.)"
      ]
    },
    {
      "cell_type": "code",
      "metadata": {
        "id": "PYnsUQ0REBlZ"
      },
      "source": [
        ""
      ],
      "execution_count": null,
      "outputs": []
    },
    {
      "cell_type": "markdown",
      "metadata": {
        "id": "v1fEuk0x8JO5"
      },
      "source": [
        "## Loops and Conditionals (1 mark)"
      ]
    },
    {
      "cell_type": "markdown",
      "metadata": {
        "id": "vWu_722c8UKl"
      },
      "source": [
        "### Vowel Counting (Implementation)\n",
        "\n",
        "Write a function, `vowels(text)`, that counts the total number of vowels (a, e, i, o, and u) in a given string and returns the total."
      ]
    },
    {
      "cell_type": "code",
      "metadata": {
        "id": "9L3hXyep8foW"
      },
      "source": [
        ""
      ],
      "execution_count": null,
      "outputs": []
    },
    {
      "cell_type": "markdown",
      "metadata": {
        "id": "tkLtgcCs8f-R"
      },
      "source": [
        "**One simple test:** Use this cell to test if your function works. (If there is no output when you run the cell, it means your code worked on this string. If your code doesn't work, you will get an error.)"
      ]
    },
    {
      "cell_type": "code",
      "metadata": {
        "id": "lLltngPT8pxg"
      },
      "source": [
        "assert vowels(\"When life gets you down, do you wanna know what you’ve gotta do? Just keep swimming\") == 25"
      ],
      "execution_count": null,
      "outputs": []
    },
    {
      "cell_type": "markdown",
      "metadata": {
        "id": "D2-dBVB9Eem_"
      },
      "source": [
        "**Thorough testing:** Run your tests above. Did they all pass? Did you need to fix your code at all?"
      ]
    },
    {
      "cell_type": "markdown",
      "metadata": {
        "id": "O1ut4vkXFi0c"
      },
      "source": [
        "### Card game\n",
        "\n",
        "Consider a game where Aces are worth 5 points, Kings 3 points, Queens 2 points, Jacks 1 point, and all other cards are not worth any points. Write a function, `score(cards)`, that takes in a list of strings and calculates the total score for that list. Any example of such a list is in the testing cell below."
      ]
    },
    {
      "cell_type": "code",
      "metadata": {
        "id": "BFkGXgO6FmbU"
      },
      "source": [
        ""
      ],
      "execution_count": null,
      "outputs": []
    },
    {
      "cell_type": "markdown",
      "metadata": {
        "id": "oPffPpo5FmuP"
      },
      "source": [
        "Use the cell below to test if your function works."
      ]
    },
    {
      "cell_type": "code",
      "metadata": {
        "id": "X3BIwxTQFrd0"
      },
      "source": [
        "assert score([\"10\", \"Jack\", \"Ace\", \"King\", \"Queen\", \"King\", \"3\"]) == 14"
      ],
      "execution_count": null,
      "outputs": []
    },
    {
      "cell_type": "markdown",
      "metadata": {
        "id": "nP6y30XU-Evh"
      },
      "source": [
        "## Challenge Question\n",
        "\n",
        "**NOTE:** This question is **NOT** worth any marks and is meant to present a significant challenge. It's here for those who wish to extend themselves. Even if you're not able to solve it, you may find giving it a try good practice and you can always come back to it in later weeks. "
      ]
    },
    {
      "cell_type": "markdown",
      "metadata": {
        "id": "L-w7qXzL-Pna"
      },
      "source": [
        "Write a function `obfuscate(text)` that takes in any text and moves the first letter of each word to the end. For example, \"the quick brown fox jumped over the lazy dog\" becomes \"het uickq rownb oxf umpedj vero het azyl ogd\". You can make the following assumptions:\n",
        "\n",
        "* The only characters other than letters of the alphabet are spaces\n",
        "* If the word is a single character (e.g. \"a\") you don't need to do anything\n",
        "* The text won't start with a space\n",
        "* You won't have two spaces next to each other"
      ]
    },
    {
      "cell_type": "code",
      "metadata": {
        "id": "WwCGiTkc_QrM"
      },
      "source": [
        ""
      ],
      "execution_count": null,
      "outputs": []
    }
  ]
}