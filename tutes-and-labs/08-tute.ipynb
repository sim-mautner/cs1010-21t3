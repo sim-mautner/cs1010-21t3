{
  "nbformat": 4,
  "nbformat_minor": 0,
  "metadata": {
    "colab": {
      "name": "08-tute.ipynb",
      "provenance": [],
      "include_colab_link": true
    },
    "kernelspec": {
      "name": "python3",
      "display_name": "Python 3"
    },
    "language_info": {
      "name": "python"
    }
  },
  "cells": [
    {
      "cell_type": "markdown",
      "metadata": {
        "id": "view-in-github",
        "colab_type": "text"
      },
      "source": [
        "<a href=\"https://colab.research.google.com/github/sim-mautner/cs1010-21t3/blob/main/tutes-and-labs/08-tute.ipynb\" target=\"_parent\"><img src=\"https://colab.research.google.com/assets/colab-badge.svg\" alt=\"Open In Colab\"/></a>"
      ]
    },
    {
      "cell_type": "markdown",
      "metadata": {
        "id": "isdUfdAwJLVt"
      },
      "source": [
        "# Week 8 Tutorial"
      ]
    },
    {
      "cell_type": "markdown",
      "metadata": {
        "id": "vkozy5nUhhD_"
      },
      "source": [
        "## Kahoot\n",
        "\n",
        "Your tutor will run through a Kahoot with you to test how well you remember certain concepts from the past two weeks."
      ]
    },
    {
      "cell_type": "markdown",
      "metadata": {
        "id": "jTwfRcjJNil_"
      },
      "source": [
        "## Web APIs (Deck of cards)\n",
        "\n",
        "The [Deck of Cards API](http://deckofcardsapi.com/) can be used to create decks of cards and draw cards from them.\n",
        "\n",
        "Using this API and the `requests` library, shuffle *6 decks*, draw 3 cards and display them in this notebook."
      ]
    },
    {
      "cell_type": "code",
      "metadata": {
        "id": "BDf3X2wsENGT"
      },
      "source": [
        "import requests\n",
        "import json\n",
        "from PIL import Image\n",
        "import io\n",
        "from IPython.display import display\n",
        "\n",
        "# Insert your code here\n",
        "\n",
        "# Given `img_url`, this line of code displays the image in Colab\n",
        "display(Image.open(io.BytesIO(requests.get(img_url).content)))"
      ],
      "execution_count": null,
      "outputs": []
    },
    {
      "cell_type": "markdown",
      "metadata": {
        "id": "kUSxdemYe-WN"
      },
      "source": [
        "## CSS (Game from last week)\n",
        "\n",
        "Using the game code from last week (in last week's tutorial, you improved the code to use cookies and a json file), write a CSS file (and run it with your `.py` file) to improve the usability of your application."
      ]
    },
    {
      "cell_type": "code",
      "metadata": {
        "id": "oY5XeC9-E9XH"
      },
      "source": [
        ""
      ],
      "execution_count": null,
      "outputs": []
    },
    {
      "cell_type": "markdown",
      "metadata": {
        "id": "RoVr9LYEE9zb"
      },
      "source": [
        "List as many features of your program as you can, (both from your CSS and outside of your CSS), which contribute to the usability of your program. For each feature, identify the relevant usability heuristic and elaborate on why it's better than an alternative implementation."
      ]
    },
    {
      "cell_type": "code",
      "metadata": {
        "id": "-YPafBdQfFOK"
      },
      "source": [
        ""
      ],
      "execution_count": null,
      "outputs": []
    }
  ]
}