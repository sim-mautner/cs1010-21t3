{
  "nbformat": 4,
  "nbformat_minor": 0,
  "metadata": {
    "colab": {
      "name": "10-lab.ipynb",
      "provenance": [],
      "include_colab_link": true
    },
    "kernelspec": {
      "name": "python3",
      "display_name": "Python 3"
    },
    "language_info": {
      "name": "python"
    }
  },
  "cells": [
    {
      "cell_type": "markdown",
      "metadata": {
        "id": "view-in-github",
        "colab_type": "text"
      },
      "source": [
        "<a href=\"https://colab.research.google.com/github/sim-mautner/cs1010-21t3/blob/main/tutes-and-labs/10-lab.ipynb\" target=\"_parent\"><img src=\"https://colab.research.google.com/assets/colab-badge.svg\" alt=\"Open In Colab\"/></a>"
      ]
    },
    {
      "cell_type": "markdown",
      "metadata": {
        "id": "isdUfdAwJLVt"
      },
      "source": [
        "# Week 10 Lab (1 mark)\n",
        "**Due:** 21st November 23:59:00"
      ]
    },
    {
      "cell_type": "markdown",
      "metadata": {
        "id": "kwmolE8RgTuI"
      },
      "source": [
        "## Project Reflections (1 mark)\n",
        "\n",
        "You're now either finished your projects or nearing the end.\n",
        "\n",
        "Fill out [this form](https://forms.gle/upVeXf9WzN9ibBDJ7) as you reflect on your experience."
      ]
    },
    {
      "cell_type": "markdown",
      "metadata": {
        "id": "MkTJ-9MwhPOj"
      },
      "source": [
        "## Practice Exam (0 marks)\n",
        "\n",
        "The main purpose of this task is to help you gain familiarity with the way in which the exam will be run.\n",
        "\n",
        "You will be provided with 3 easy questions which will give you a chance to revise some of the course content, and ensure you know how to complete and submit your exam.\n",
        "\n"
      ]
    }
  ]
}