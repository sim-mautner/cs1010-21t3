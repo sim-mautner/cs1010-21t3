{
  "nbformat": 4,
  "nbformat_minor": 0,
  "metadata": {
    "colab": {
      "name": "03-tute.ipynb",
      "provenance": [],
      "include_colab_link": true
    },
    "kernelspec": {
      "name": "python3",
      "display_name": "Python 3"
    },
    "language_info": {
      "name": "python"
    }
  },
  "cells": [
    {
      "cell_type": "markdown",
      "metadata": {
        "id": "view-in-github",
        "colab_type": "text"
      },
      "source": [
        "<a href=\"https://colab.research.google.com/github/sim-mautner/cs1010-21t3/blob/main/tutes-and-labs/03-tute.ipynb\" target=\"_parent\"><img src=\"https://colab.research.google.com/assets/colab-badge.svg\" alt=\"Open In Colab\"/></a>"
      ]
    },
    {
      "cell_type": "markdown",
      "metadata": {
        "id": "isdUfdAwJLVt"
      },
      "source": [
        "# Week 3 Tutorial"
      ]
    },
    {
      "cell_type": "markdown",
      "metadata": {
        "id": "Okx-NTU47XbN"
      },
      "source": [
        "## Leap Years\n",
        "\n",
        "Consider a function which takes in a year (e.g. 2018) and returns `True` if it's a leap year or `False` if it's not a leap year.\n",
        "\n",
        "Write some tests for the function described."
      ]
    },
    {
      "cell_type": "code",
      "metadata": {
        "id": "9wlSvh_h7lYi"
      },
      "source": [
        ""
      ],
      "execution_count": null,
      "outputs": []
    },
    {
      "cell_type": "markdown",
      "metadata": {
        "id": "WI0ueY6HrBIb"
      },
      "source": [
        "Implement the Leap Years function."
      ]
    },
    {
      "cell_type": "code",
      "metadata": {
        "id": "nMxAFp2BrDU5"
      },
      "source": [
        ""
      ],
      "execution_count": null,
      "outputs": []
    },
    {
      "cell_type": "markdown",
      "metadata": {
        "id": "amkP4Owl7lr1"
      },
      "source": [
        "Write the same function as above, but do so without any use of `if` or `for`."
      ]
    },
    {
      "cell_type": "code",
      "metadata": {
        "id": "CcyHxD-l7skT"
      },
      "source": [
        ""
      ],
      "execution_count": null,
      "outputs": []
    },
    {
      "cell_type": "markdown",
      "metadata": {
        "id": "KB9EToFRrF0A"
      },
      "source": [
        "Make sure your tests pass for both the versions of the function."
      ]
    },
    {
      "cell_type": "markdown",
      "metadata": {
        "id": "J0mK97IT7r3d"
      },
      "source": [
        "Of these two versions of the same function, which one is \"better\"?"
      ]
    },
    {
      "cell_type": "markdown",
      "metadata": {
        "id": "eYp8dFX0Aifa"
      },
      "source": [
        "## For loops\n",
        "\n",
        "The following code uses a `for... in...` loop to multiply a list of numbers."
      ]
    },
    {
      "cell_type": "code",
      "metadata": {
        "id": "ldJEtu0RAswS"
      },
      "source": [
        "numbers = [4, 8, 15, 16, 23, 42]\n",
        "product = 1\n",
        "\n",
        "for n in numbers:\n",
        "    product = product * n\n",
        "\n",
        "product"
      ],
      "execution_count": null,
      "outputs": []
    },
    {
      "cell_type": "markdown",
      "metadata": {
        "id": "KuYdB7ioAxR_"
      },
      "source": [
        "If there are parts of this you do not understand, ask your tutor for clarification. In particular consider:\n",
        "\n",
        "* Why is `product` initially set to 1 and not 0?\n",
        "* How many times is the body of the loop going to get executed?\n",
        "* Why does the line in the body of the loop need to be indented?"
      ]
    },
    {
      "cell_type": "markdown",
      "metadata": {
        "id": "tbWsZS4Pqewu"
      },
      "source": [
        "## Dictionaries\n",
        "\n",
        "Using a dictionary and a loop, write a Python program which asks the user to enter their total marks for a course, and then prints out:\n",
        "\n",
        "* HD if their mark is at least 85.\n",
        "* DN if their mark is at least 75 but less than 85.\n",
        "* CR if their mark is at least 65 but less than 75.\n",
        "* PS if their mark is at least 50 but less than 65.\n",
        "* FL if their mark is less than 50.\n",
        "\n",
        "Discuss the benefits of this implementation over the one you wrote last week."
      ]
    },
    {
      "cell_type": "markdown",
      "metadata": {
        "id": "aPA9OZo8A4ae"
      },
      "source": [
        "## Project\n",
        "\n",
        "Use the remaining time to ask any questions about the project. If you have an idea, or part of an idea, brainstorm it with the rest of the class."
      ]
    }
  ]
}