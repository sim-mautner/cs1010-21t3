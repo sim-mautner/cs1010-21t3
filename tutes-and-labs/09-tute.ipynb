{
  "nbformat": 4,
  "nbformat_minor": 0,
  "metadata": {
    "colab": {
      "name": "09-tute.ipynb",
      "provenance": [],
      "include_colab_link": true
    },
    "kernelspec": {
      "name": "python3",
      "display_name": "Python 3"
    },
    "language_info": {
      "name": "python"
    }
  },
  "cells": [
    {
      "cell_type": "markdown",
      "metadata": {
        "id": "view-in-github",
        "colab_type": "text"
      },
      "source": [
        "<a href=\"https://colab.research.google.com/github/sim-mautner/cs1010-21t3/blob/main/tutes-and-labs/09-tute.ipynb\" target=\"_parent\"><img src=\"https://colab.research.google.com/assets/colab-badge.svg\" alt=\"Open In Colab\"/></a>"
      ]
    },
    {
      "cell_type": "markdown",
      "metadata": {
        "id": "isdUfdAwJLVt"
      },
      "source": [
        "# Week 9 Tutorial"
      ]
    },
    {
      "cell_type": "markdown",
      "metadata": {
        "id": "vkozy5nUhhD_"
      },
      "source": [
        "## Kahoot\n",
        "\n",
        "No Kahoot this week."
      ]
    },
    {
      "cell_type": "markdown",
      "metadata": {
        "id": "6CFKv0TuVUdx"
      },
      "source": [
        "## Project Check-Ins Announcement\n",
        "\n",
        "The week 9 project check-in must be completed this week.\n",
        "\n",
        "If you scored less than 5/10 in the proposal, please take this time to talk to your tutor about where it could be improved and what support you might need to get your project moving forward."
      ]
    },
    {
      "cell_type": "markdown",
      "metadata": {
        "id": "Csx1_wm_uwA9"
      },
      "source": [
        "## Revision"
      ]
    },
    {
      "cell_type": "markdown",
      "metadata": {
        "id": "vHao4ELPuxVA"
      },
      "source": [
        "### Palindromes\n",
        "\n",
        "#### Is Palindrome\n",
        "A palindrome is a string which is the same forwards as it is reversed.\n",
        "\n",
        "Write the function `is_palindrome(text)`, that checks if the given string is a palindrome\n",
        "\n",
        "Your code should:\n",
        "\n",
        "* Ignore whitepsace and punctuation\n",
        "\n",
        "* Treat capital letters as equivalent to lowercase letters"
      ]
    },
    {
      "cell_type": "code",
      "metadata": {
        "id": "BdOHlCocvrA8"
      },
      "source": [
        "def is_palindrome(text):\n",
        "  # Write your code here"
      ],
      "execution_count": null,
      "outputs": []
    },
    {
      "cell_type": "markdown",
      "metadata": {
        "id": "iNXD0h5wvri2"
      },
      "source": [
        "Use this cell to test your function."
      ]
    },
    {
      "cell_type": "code",
      "metadata": {
        "id": "M0aiKL-5vtV-"
      },
      "source": [
        "assert is_palindrome(\"kayak\") == True\n",
        "assert is_palindrome(\"canoe\") == False\n",
        "assert is_palindrome(\"hannah\") == True\n",
        "assert is_palindrome(\"beth\") == False\n",
        "assert is_palindrome(\"A Santa at Nasa.\") == True\n",
        "assert is_palindrome(\"An elf at Nasa.\") == False\n",
        "assert is_palindrome(\"\") == True\n",
        "assert is_palindrome(\"a\") == True"
      ],
      "execution_count": null,
      "outputs": []
    },
    {
      "cell_type": "markdown",
      "metadata": {
        "id": "U5El5DOLvx_0"
      },
      "source": [
        "#### Biggest Palindrome\n",
        "Using the `is_palindrome(text)` function, implement the `biggest_palindrome(text)` function. This function should take in a string and return the substring that contains the longest sequence of letters that is a palindrome."
      ]
    },
    {
      "cell_type": "code",
      "metadata": {
        "id": "WP9ZU-AFvz4O"
      },
      "source": [
        "def biggest_palindrome(text):\n",
        "  # Write your code here"
      ],
      "execution_count": null,
      "outputs": []
    },
    {
      "cell_type": "markdown",
      "metadata": {
        "id": "I3fogAWUv1dq"
      },
      "source": [
        "Use this cell to test your function."
      ]
    },
    {
      "cell_type": "code",
      "metadata": {
        "id": "FF3dqTrTv3t8"
      },
      "source": [
        "assert biggest_palindrome(\"babad\") == \"bab\" or biggest_palindrome(\"babad\") == \"aba\"\n",
        "assert biggest_palindrome(\"cbbd\") == \"bb\"\n",
        "assert biggest_palindrome(\"cbbdaba\") == \"aba\"\n",
        "assert biggest_palindrome(\"help us, superman\") == \"pussup\"\n",
        "assert biggest_palindrome(\"help us, Superman\") == \"pusSup\""
      ],
      "execution_count": null,
      "outputs": []
    },
    {
      "cell_type": "markdown",
      "metadata": {
        "id": "sNrvGIYlv6d1"
      },
      "source": [
        "#### Many Palindromes\n",
        "\n",
        "Using `is_palindrome(text)`, implement the function `many_palindromes(text, minimum_length)`. This function should create a list of palindromes longer than a certain length (which will only be an odd number). \n",
        "\n",
        "Your function should:\n",
        "\n",
        "* Ignore whitespace and punctuation\n",
        "\n",
        "* **Not** put duplicates in the list\n",
        "\n",
        "The list you return does not need to be in the same order as the ones in the test cases. (That's why we aren't using the usual `assert` statement to test your code.)\n"
      ]
    },
    {
      "cell_type": "code",
      "metadata": {
        "id": "mKUDOM9rv8aM"
      },
      "source": [
        "def many_palindromes(text, minimum_length):\n",
        "  # Write your code here"
      ],
      "execution_count": null,
      "outputs": []
    },
    {
      "cell_type": "markdown",
      "metadata": {
        "id": "PqZZOAjvv-dI"
      },
      "source": [
        "Use this cell to test your function. (You don't need to understand this code. Same as with assert statements, if you run the block and get no output, then that's a good sign.)"
      ]
    },
    {
      "cell_type": "code",
      "metadata": {
        "id": "lUifXQqpwA_Y"
      },
      "source": [
        "assert set(many_palindromes(\"banana\", 3)) == {\"ana\", \"nan\", \"anana\"}\n",
        "assert set(many_palindromes(\"racecar\", 3)) == {\"racecar\", \"aceca\", \"cec\"}\n",
        "assert set(many_palindromes(\"abc\", 1)) == {\"a\", \"b\", \"c\"}\n",
        "assert many_palindromes(\"bobhannahlbob\", 5) == [\"hannah\"]\n",
        "assert many_palindromes(\"a\", 2) == []"
      ],
      "execution_count": null,
      "outputs": []
    },
    {
      "cell_type": "markdown",
      "metadata": {
        "id": "QGjltOXxtT29"
      },
      "source": [
        "### Spam\n",
        "\n",
        "Write the function spamify(synonyms, text) that transforms text by swapping words with given synonyms. The first argument, synonyms, is a list of lists where each sub-list represents words that all have the same meaning.\n",
        "\n",
        "For example:\n",
        "\n"
      ]
    },
    {
      "cell_type": "code",
      "metadata": {
        "id": "pxlDgh-ztauK"
      },
      "source": [
        "example_synonyms = [\n",
        "  [\"amazing\", \"incredible\", \"unbelievable\", \"fantastic\"], \n",
        "  [\"awful\", \"unpleasant\", \"terrible\"],\n",
        "  [\"calm\", \"quiet\", \"peaceful\", \"tranquil\"]\n",
        "]"
      ],
      "execution_count": null,
      "outputs": []
    },
    {
      "cell_type": "markdown",
      "metadata": {
        "id": "R3TjKwAztgvX"
      },
      "source": [
        "The transformation should work by replacing each word out with the one that follows it in its list of synonyms. If the word is at the end of its list, then it should be replaced with the word at the start. There are examples in the test cell below.\n",
        "\n",
        "NOTE**: To get full marks for this exercise, you need to account for all forms of punctuation as given in the testing cell, as well as capitalisation. However, you do not need to consider other forms of punctuation, plurals, possessives, etc."
      ]
    },
    {
      "cell_type": "code",
      "metadata": {
        "id": "oTLt1gTCtj76"
      },
      "source": [
        "def spamify(synonyms, text):\n",
        "  pass"
      ],
      "execution_count": null,
      "outputs": []
    },
    {
      "cell_type": "markdown",
      "metadata": {
        "id": "xXtE4L0NtmzM"
      },
      "source": [
        "Use the cell below to test your solution."
      ]
    },
    {
      "cell_type": "code",
      "metadata": {
        "id": "a0EztQ7Dtp9s"
      },
      "source": [
        "assert spamify(example_synonyms, \"I thought it was amazing\") == \"I thought it was incredible\"\n",
        "assert spamify(example_synonyms, \"The quiet carriage was actually unpleasant\") == \"The peaceful carriage was actually terrible\"\n",
        "assert spamify(example_synonyms, \"Amazing people are everywhere\") == \"Incredible people are everywhere\"\n",
        "assert spamify(example_synonyms, \"The sea was tranquil\") == \"The sea was calm\"\n",
        "assert spamify(example_synonyms, \"The food was awful. There, I said it.\") == \"The food was unpleasant. There, I said it.\"\n",
        "assert spamify(example_synonyms, \"Was it really that awful?\") == \"Was it really that unpleasant?\"\n",
        "assert spamify(example_synonyms, \"That's amazing, incredible, fantastic!\") == \"That's incredible, unbelievable, amazing!\""
      ],
      "execution_count": null,
      "outputs": []
    }
  ]
}