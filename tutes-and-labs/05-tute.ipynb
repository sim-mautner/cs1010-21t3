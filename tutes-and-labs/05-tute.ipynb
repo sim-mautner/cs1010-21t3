{
  "nbformat": 4,
  "nbformat_minor": 0,
  "metadata": {
    "colab": {
      "name": "05-tute.ipynb",
      "provenance": [],
      "include_colab_link": true
    },
    "kernelspec": {
      "name": "python3",
      "display_name": "Python 3"
    },
    "language_info": {
      "name": "python"
    }
  },
  "cells": [
    {
      "cell_type": "markdown",
      "metadata": {
        "id": "view-in-github",
        "colab_type": "text"
      },
      "source": [
        "<a href=\"https://colab.research.google.com/github/sim-mautner/cs1010-21t3/blob/main/tutes-and-labs/05-tute.ipynb\" target=\"_parent\"><img src=\"https://colab.research.google.com/assets/colab-badge.svg\" alt=\"Open In Colab\"/></a>"
      ]
    },
    {
      "cell_type": "markdown",
      "metadata": {
        "id": "isdUfdAwJLVt"
      },
      "source": [
        "# Week 5 Tutorial"
      ]
    },
    {
      "cell_type": "markdown",
      "metadata": {
        "id": "vkozy5nUhhD_"
      },
      "source": [
        "## Kahoot\n",
        "\n",
        "Your tutor will run through a Kahoot with you to test how well you remember certain concepts from the past two weeks."
      ]
    },
    {
      "cell_type": "markdown",
      "metadata": {
        "id": "YHwXk6d8rrsk"
      },
      "source": [
        "## Project Ideas\n",
        "\n",
        "Consider this project idea:\n",
        "\n",
        "> The sale of face masks has increased many fold in the past months (for obvious reasons). However, with the wide variety of face shapes and the desire of many to look fashionable, not everyone wants to wear the same face mask. A website where people could upload a picture of themselves and virtually try on different face masks could be helpful to many potential mask shoppers.\n",
        "\n",
        "Supposing someone were to do this for the project:\n",
        "\n",
        "1. What would be a good demonstration of feasibility for the proposal?\n",
        "2. What would the MVP of such a website be?\n",
        "3. What would some \"nice to have\" features be?\n",
        "4. What about stretch goals?"
      ]
    },
    {
      "cell_type": "markdown",
      "metadata": {
        "id": "jTwfRcjJNil_"
      },
      "source": [
        "## Flask\n",
        "\n",
        "Before you run the code:\n",
        "1. Go around the class. Each person takes a turn explaining what a line of code does. (A comment does not count as a line of code. You may use the comments to help you figure out what the code does.)\n",
        "2. As a class, can you figure out what the code does?\n",
        "3. Write a set of instructions for the game.\n",
        "\n",
        "Run the code in VSCode and play the game in a browser. Were your instructions correct?"
      ]
    },
    {
      "cell_type": "code",
      "metadata": {
        "id": "dQlF9T0hxUML"
      },
      "source": [
        "# import Flask and pyhtml\n",
        "from flask import Flask, request\n",
        "from pyhtml import html, head, body, title, h1, p, form, input_\n",
        "from random import randint\n",
        "\n",
        "RANGE_MIN = 0\n",
        "RANGE_MAX = 7\n",
        "\n",
        "# create the Flask app\n",
        "app = Flask(__name__)\n",
        "\n",
        "# Returns True if the game is in progress. False otherwise.\n",
        "def game_in_progress(last_num):\n",
        "    return last_num in range(RANGE_MIN,RANGE_MAX)\n",
        "\n",
        "# Returns True if the user selected the correct button. False otherwise.\n",
        "def button_correct(same, last_num, current_num):\n",
        "    if same == \"Same\" and last_num == current_num:\n",
        "        return True\n",
        "    if same == \"Not Same\" and last_num != current_num:\n",
        "        return True\n",
        "\n",
        "# declare a route and link it to a function\n",
        "@app.route('/', methods=[\"GET\",\"POST\"])\n",
        "def homepage():\n",
        "\n",
        "    current_num = 0\n",
        "    last_num = RANGE_MIN-1 # Can't use None because passing it through an HTML form loses its data type and it becomes '0'.\n",
        "    score = 0\n",
        "\n",
        "    if request.method == \"POST\":\n",
        "\n",
        "        # If the user hasn't asked for a new game\n",
        "        if \"new\" not in request.form:\n",
        "\n",
        "            # Extract values from form\n",
        "            last_num = int(request.form['last_num'])\n",
        "            current_num = int(request.form['current_num'])\n",
        "            score = int(request.form['score'])\n",
        "            same = request.form['same']\n",
        "\n",
        "            # Update score\n",
        "            if game_in_progress(last_num):\n",
        "                if button_correct(same, last_num, current_num):\n",
        "                    score += 1\n",
        "\n",
        "            # Prepare values for the next round\n",
        "            last_num = current_num\n",
        "            current_num = randint(RANGE_MIN, RANGE_MAX)\n",
        "\n",
        "    # Create HTML\n",
        "    instructions = \"... someone stole the instructions... \"\n",
        "    response = html(\n",
        "        head(\n",
        "            title(\"Game\")\n",
        "        ),\n",
        "        body(\n",
        "            h1(\"Game\"),\n",
        "            p(instructions),\n",
        "            p(\"Score: \"+str(score)),\n",
        "            \n",
        "            p(current_num),\n",
        "            form(action=\"/\")(\n",
        "\n",
        "                # Using hidden fields to pass values to the next round.\n",
        "                # Over the next weeks we will find a better option than this.\n",
        "                input_(type=\"hidden\", name=\"last_num\", value=last_num),\n",
        "                input_(type=\"hidden\", name=\"current_num\", value=current_num),\n",
        "                input_(type=\"hidden\", name=\"score\", value=score),\n",
        "\n",
        "                # Actual form content\n",
        "                input_(type=\"submit\", name=\"same\", value=\"Same\"),\n",
        "                input_(type=\"submit\", name=\"same\", value=\"Not Same\"),\n",
        "                input_(type=\"submit\", name=\"new\", value=\"New Game\")\n",
        "            )\n",
        "\n",
        "        )\n",
        "    )\n",
        "    return str(response)\n",
        "\n",
        "# if this file has been run, then run the Flask app\n",
        "if __name__ == \"__main__\":\n",
        "    app.run(debug=True)\n"
      ],
      "execution_count": null,
      "outputs": []
    },
    {
      "cell_type": "markdown",
      "metadata": {
        "id": "H7uGtIXpNIoj"
      },
      "source": [
        "## Composing a solution (if time)\n",
        "\n",
        "Consider being placed at position (0,0) on a grid and given a list of directions (of the form north, south, east, and west). You would then follow those directions by moving into the adjacent grid position. For example, if you got the directions north, east, north, west, you would move from (0,0) to (0,1), (1,1), (1,2), and finally to (0,2).\n",
        "\n",
        "Write a function `follow_directions(directions)` that returns your final position after following the given directions."
      ]
    },
    {
      "cell_type": "code",
      "metadata": {
        "id": "pkij9nfQNQkM"
      },
      "source": [
        ""
      ],
      "execution_count": null,
      "outputs": []
    },
    {
      "cell_type": "markdown",
      "metadata": {
        "id": "eFAEk-ZnNRHS"
      },
      "source": [
        "Using the function from above, can you determine if the directions given to you are the smallest number of possible directions to get to the final position?\n",
        "\n",
        "Write this as a function `minimal_directions(directions)` that returns True if the number of directions is as low as possible, and False otherwise."
      ]
    },
    {
      "cell_type": "code",
      "metadata": {
        "id": "bXC94mUbNScp"
      },
      "source": [
        ""
      ],
      "execution_count": null,
      "outputs": []
    }
  ]
}