{
  "nbformat": 4,
  "nbformat_minor": 0,
  "metadata": {
    "colab": {
      "name": "05-tute.ipynb",
      "provenance": [],
      "toc_visible": true,
      "include_colab_link": true
    },
    "kernelspec": {
      "name": "python3",
      "display_name": "Python 3"
    },
    "language_info": {
      "name": "python"
    }
  },
  "cells": [
    {
      "cell_type": "markdown",
      "metadata": {
        "id": "view-in-github",
        "colab_type": "text"
      },
      "source": [
        "<a href=\"https://colab.research.google.com/github/sim-mautner/cs1010-21t3/blob/main/tutes-and-labs/05-tute.ipynb\" target=\"_parent\"><img src=\"https://colab.research.google.com/assets/colab-badge.svg\" alt=\"Open In Colab\"/></a>"
      ]
    },
    {
      "cell_type": "markdown",
      "metadata": {
        "id": "isdUfdAwJLVt"
      },
      "source": [
        "# Week 5 Tutorial (DRAFT)"
      ]
    },
    {
      "cell_type": "markdown",
      "metadata": {
        "id": "vkozy5nUhhD_"
      },
      "source": [
        "## Kahoot\n",
        "\n",
        "Your tutor will run through a Kahoot with you to test how well you remember certain concepts from the past two weeks."
      ]
    },
    {
      "cell_type": "markdown",
      "metadata": {
        "id": "YHwXk6d8rrsk"
      },
      "source": [
        "## Project Ideas\n",
        "\n",
        "Consider this project idea:\n",
        "\n",
        "> The sale of face masks has increased many fold in the past months (for obvious reasons). However, with the wide variety of face shapes and the desire of many to look fashionable, not everyone wants to wear the same face mask. A website where people could upload a picture of themselves and virtually try on different face masks could be helpful to many potential mask shoppers.\n",
        "\n",
        "Supposing someone were to do this for the project:\n",
        "\n",
        "1. What would be a good demonstration of feasibility for the proposal?\n",
        "2. What would the MVP of such a website be?\n",
        "3. What would some \"nice to have\" features be?\n",
        "4. What about stretch goals?"
      ]
    }
  ]
}